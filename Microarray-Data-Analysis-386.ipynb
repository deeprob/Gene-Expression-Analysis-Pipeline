{
 "cells": [
  {
   "cell_type": "markdown",
   "metadata": {},
   "source": [
    "# Objective"
   ]
  },
  {
   "cell_type": "markdown",
   "metadata": {},
   "source": [
    "The objective of this analysis is verify the conclusion obtained in our previous analysis using the stockel dataset."
   ]
  },
  {
   "cell_type": "markdown",
   "metadata": {},
   "source": [
    "# Steps\n",
    "\n",
    "1. We'll use the microarray expression dataset obtained by Toepel et al; link: https://jb.asm.org/content/190/11/3904\n",
    "2. We'll select the genes which are part of any two-component system and the circadian clock genes using the genomic annotations of Cyanothece obtained from the studies of Welsh et al; link: https://www.ncbi.nlm.nih.gov/pmc/articles/PMC2567498/\n",
    "3. We'll use scikit-learn's mutual information regression to calculate the correlation between the primary and secondary components and also between the clock genes.\n",
    "4. Using a list of probable sensor-regulator pairs sorted by the mutual information value between them, we can predict which sensor is mostly likely to interact with a regulator and vice versa and also with the clock. "
   ]
  },
  {
   "cell_type": "code",
   "execution_count": 1,
   "metadata": {},
   "outputs": [],
   "source": [
    "import pandas as pd\n",
    "import matplotlib.pyplot as plt\n",
    "%matplotlib inline\n",
    "import scipy as sp\n",
    "import numpy as np\n",
    "import multiprocessing as mp\n",
    "from sklearn.feature_selection import mutual_info_regression\n",
    "import seaborn as sns"
   ]
  },
  {
   "cell_type": "markdown",
   "metadata": {},
   "source": [
    "# Data Preprocessing"
   ]
  },
  {
   "cell_type": "code",
   "execution_count": 2,
   "metadata": {},
   "outputs": [],
   "source": [
    "df_toepel = pd.read_csv('MicroarrayData/ToepelProcessed.csv')"
   ]
  },
  {
   "cell_type": "code",
   "execution_count": 3,
   "metadata": {},
   "outputs": [
    {
     "data": {
      "text/html": [
       "<div>\n",
       "<style scoped>\n",
       "    .dataframe tbody tr th:only-of-type {\n",
       "        vertical-align: middle;\n",
       "    }\n",
       "\n",
       "    .dataframe tbody tr th {\n",
       "        vertical-align: top;\n",
       "    }\n",
       "\n",
       "    .dataframe thead th {\n",
       "        text-align: right;\n",
       "    }\n",
       "</style>\n",
       "<table border=\"1\" class=\"dataframe\">\n",
       "  <thead>\n",
       "    <tr style=\"text-align: right;\">\n",
       "      <th></th>\n",
       "      <th>Contig</th>\n",
       "      <th>ORF</th>\n",
       "      <th>Day1_L2</th>\n",
       "      <th>Day1_L6</th>\n",
       "      <th>Day1_L10</th>\n",
       "      <th>Day1_D2</th>\n",
       "      <th>Day1_D6</th>\n",
       "      <th>Day1_D10</th>\n",
       "      <th>Day2_LL2</th>\n",
       "      <th>Day2_LL6</th>\n",
       "      <th>Day2_LL10</th>\n",
       "      <th>Day2_LD2</th>\n",
       "      <th>Day2_LD6</th>\n",
       "      <th>Day2_LD10</th>\n",
       "    </tr>\n",
       "  </thead>\n",
       "  <tbody>\n",
       "    <tr>\n",
       "      <td>0</td>\n",
       "      <td>Contig0.10_10_14370_15446</td>\n",
       "      <td>cce_4187</td>\n",
       "      <td>0.119984</td>\n",
       "      <td>0.574008</td>\n",
       "      <td>-0.497268</td>\n",
       "      <td>-0.946784</td>\n",
       "      <td>-0.912688</td>\n",
       "      <td>-0.555053</td>\n",
       "      <td>0.389711</td>\n",
       "      <td>0.755742</td>\n",
       "      <td>-0.552432</td>\n",
       "      <td>-0.620710</td>\n",
       "      <td>0.161136</td>\n",
       "      <td>0.618904</td>\n",
       "    </tr>\n",
       "    <tr>\n",
       "      <td>1</td>\n",
       "      <td>Contig0.10_11_16336_15422</td>\n",
       "      <td>cce_4186</td>\n",
       "      <td>-0.006948</td>\n",
       "      <td>0.377326</td>\n",
       "      <td>0.281436</td>\n",
       "      <td>0.096787</td>\n",
       "      <td>0.101432</td>\n",
       "      <td>-0.168668</td>\n",
       "      <td>0.030779</td>\n",
       "      <td>0.289256</td>\n",
       "      <td>0.232399</td>\n",
       "      <td>-0.285271</td>\n",
       "      <td>0.064953</td>\n",
       "      <td>0.001840</td>\n",
       "    </tr>\n",
       "    <tr>\n",
       "      <td>2</td>\n",
       "      <td>Contig0.10_12_16503_17552</td>\n",
       "      <td>cce_4185</td>\n",
       "      <td>0.334171</td>\n",
       "      <td>-0.366012</td>\n",
       "      <td>0.161679</td>\n",
       "      <td>-0.743794</td>\n",
       "      <td>-0.841029</td>\n",
       "      <td>-0.762609</td>\n",
       "      <td>0.368210</td>\n",
       "      <td>-0.270551</td>\n",
       "      <td>0.121346</td>\n",
       "      <td>0.252908</td>\n",
       "      <td>0.181769</td>\n",
       "      <td>0.212853</td>\n",
       "    </tr>\n",
       "    <tr>\n",
       "      <td>3</td>\n",
       "      <td>Contig0.10_13_17679_17981</td>\n",
       "      <td>cce_4184</td>\n",
       "      <td>0.418948</td>\n",
       "      <td>-0.146916</td>\n",
       "      <td>-0.605930</td>\n",
       "      <td>-0.099442</td>\n",
       "      <td>-0.115359</td>\n",
       "      <td>0.130870</td>\n",
       "      <td>0.194944</td>\n",
       "      <td>-0.082366</td>\n",
       "      <td>-0.290507</td>\n",
       "      <td>0.052271</td>\n",
       "      <td>0.094243</td>\n",
       "      <td>0.111787</td>\n",
       "    </tr>\n",
       "    <tr>\n",
       "      <td>4</td>\n",
       "      <td>Contig0.10_14_18000_18698</td>\n",
       "      <td>cce_4183</td>\n",
       "      <td>0.324850</td>\n",
       "      <td>0.036866</td>\n",
       "      <td>-0.001216</td>\n",
       "      <td>-0.144987</td>\n",
       "      <td>0.029886</td>\n",
       "      <td>0.111226</td>\n",
       "      <td>0.162255</td>\n",
       "      <td>-0.062873</td>\n",
       "      <td>0.064338</td>\n",
       "      <td>0.090790</td>\n",
       "      <td>0.173198</td>\n",
       "      <td>0.289154</td>\n",
       "    </tr>\n",
       "  </tbody>\n",
       "</table>\n",
       "</div>"
      ],
      "text/plain": [
       "                      Contig       ORF   Day1_L2   Day1_L6  Day1_L10  \\\n",
       "0  Contig0.10_10_14370_15446  cce_4187  0.119984  0.574008 -0.497268   \n",
       "1  Contig0.10_11_16336_15422  cce_4186 -0.006948  0.377326  0.281436   \n",
       "2  Contig0.10_12_16503_17552  cce_4185  0.334171 -0.366012  0.161679   \n",
       "3  Contig0.10_13_17679_17981  cce_4184  0.418948 -0.146916 -0.605930   \n",
       "4  Contig0.10_14_18000_18698  cce_4183  0.324850  0.036866 -0.001216   \n",
       "\n",
       "    Day1_D2   Day1_D6  Day1_D10  Day2_LL2  Day2_LL6  Day2_LL10  Day2_LD2  \\\n",
       "0 -0.946784 -0.912688 -0.555053  0.389711  0.755742  -0.552432 -0.620710   \n",
       "1  0.096787  0.101432 -0.168668  0.030779  0.289256   0.232399 -0.285271   \n",
       "2 -0.743794 -0.841029 -0.762609  0.368210 -0.270551   0.121346  0.252908   \n",
       "3 -0.099442 -0.115359  0.130870  0.194944 -0.082366  -0.290507  0.052271   \n",
       "4 -0.144987  0.029886  0.111226  0.162255 -0.062873   0.064338  0.090790   \n",
       "\n",
       "   Day2_LD6  Day2_LD10  \n",
       "0  0.161136   0.618904  \n",
       "1  0.064953   0.001840  \n",
       "2  0.181769   0.212853  \n",
       "3  0.094243   0.111787  \n",
       "4  0.173198   0.289154  "
      ]
     },
     "execution_count": 3,
     "metadata": {},
     "output_type": "execute_result"
    }
   ],
   "source": [
    "df_toepel.head()"
   ]
  },
  {
   "cell_type": "markdown",
   "metadata": {},
   "source": [
    "A quick look at the above dataframe will show that there are repeats in the ORF column"
   ]
  },
  {
   "cell_type": "code",
   "execution_count": 4,
   "metadata": {},
   "outputs": [
    {
     "data": {
      "text/plain": [
       "False"
      ]
     },
     "execution_count": 4,
     "metadata": {},
     "output_type": "execute_result"
    }
   ],
   "source": [
    "len(df_toepel.ORF)==len(set(df_toepel.ORF))"
   ]
  },
  {
   "cell_type": "markdown",
   "metadata": {},
   "source": [
    "We need to find the ORFs that are duplicated."
   ]
  },
  {
   "cell_type": "code",
   "execution_count": 5,
   "metadata": {},
   "outputs": [],
   "source": [
    "duplicates = df_toepel.loc[df_toepel.duplicated(subset='ORF',keep=False)].sort_values(by=['ORF'])"
   ]
  },
  {
   "cell_type": "code",
   "execution_count": 6,
   "metadata": {},
   "outputs": [
    {
     "data": {
      "text/html": [
       "<div>\n",
       "<style scoped>\n",
       "    .dataframe tbody tr th:only-of-type {\n",
       "        vertical-align: middle;\n",
       "    }\n",
       "\n",
       "    .dataframe tbody tr th {\n",
       "        vertical-align: top;\n",
       "    }\n",
       "\n",
       "    .dataframe thead th {\n",
       "        text-align: right;\n",
       "    }\n",
       "</style>\n",
       "<table border=\"1\" class=\"dataframe\">\n",
       "  <thead>\n",
       "    <tr style=\"text-align: right;\">\n",
       "      <th></th>\n",
       "      <th>Contig</th>\n",
       "      <th>ORF</th>\n",
       "      <th>Day1_L2</th>\n",
       "      <th>Day1_L6</th>\n",
       "      <th>Day1_L10</th>\n",
       "      <th>Day1_D2</th>\n",
       "      <th>Day1_D6</th>\n",
       "      <th>Day1_D10</th>\n",
       "      <th>Day2_LL2</th>\n",
       "      <th>Day2_LL6</th>\n",
       "      <th>Day2_LL10</th>\n",
       "      <th>Day2_LD2</th>\n",
       "      <th>Day2_LD6</th>\n",
       "      <th>Day2_LD10</th>\n",
       "    </tr>\n",
       "  </thead>\n",
       "  <tbody>\n",
       "    <tr>\n",
       "      <td>4089</td>\n",
       "      <td>Contig62.1_1_1274_207</td>\n",
       "      <td>cce_0015</td>\n",
       "      <td>0.358243</td>\n",
       "      <td>-0.130405</td>\n",
       "      <td>-0.188194</td>\n",
       "      <td>-0.260832</td>\n",
       "      <td>0.128074</td>\n",
       "      <td>0.250259</td>\n",
       "      <td>0.330951</td>\n",
       "      <td>-0.166504</td>\n",
       "      <td>0.013392</td>\n",
       "      <td>0.032084</td>\n",
       "      <td>-0.062092</td>\n",
       "      <td>-0.097793</td>\n",
       "    </tr>\n",
       "    <tr>\n",
       "      <td>3925</td>\n",
       "      <td>Contig6.1_2_481_873</td>\n",
       "      <td>cce_0015</td>\n",
       "      <td>0.395011</td>\n",
       "      <td>-0.258260</td>\n",
       "      <td>-0.303179</td>\n",
       "      <td>-0.419339</td>\n",
       "      <td>-0.122089</td>\n",
       "      <td>0.180624</td>\n",
       "      <td>0.424158</td>\n",
       "      <td>-0.302026</td>\n",
       "      <td>-0.041410</td>\n",
       "      <td>0.037448</td>\n",
       "      <td>-0.164989</td>\n",
       "      <td>-0.173628</td>\n",
       "    </tr>\n",
       "    <tr>\n",
       "      <td>4098</td>\n",
       "      <td>Contig62.2_1_424_44</td>\n",
       "      <td>cce_0027</td>\n",
       "      <td>-0.032668</td>\n",
       "      <td>0.067178</td>\n",
       "      <td>0.198460</td>\n",
       "      <td>-0.063797</td>\n",
       "      <td>-0.132410</td>\n",
       "      <td>0.091539</td>\n",
       "      <td>-0.109167</td>\n",
       "      <td>0.014529</td>\n",
       "      <td>0.125467</td>\n",
       "      <td>-0.069524</td>\n",
       "      <td>0.183824</td>\n",
       "      <td>0.212867</td>\n",
       "    </tr>\n",
       "    <tr>\n",
       "      <td>4088</td>\n",
       "      <td>Contig62.1_14_11081_10533</td>\n",
       "      <td>cce_0027</td>\n",
       "      <td>-0.069485</td>\n",
       "      <td>0.150048</td>\n",
       "      <td>0.193104</td>\n",
       "      <td>-0.299913</td>\n",
       "      <td>-0.566255</td>\n",
       "      <td>0.079567</td>\n",
       "      <td>-0.139078</td>\n",
       "      <td>-0.138654</td>\n",
       "      <td>0.194732</td>\n",
       "      <td>-0.063706</td>\n",
       "      <td>0.163336</td>\n",
       "      <td>0.179056</td>\n",
       "    </tr>\n",
       "    <tr>\n",
       "      <td>4698</td>\n",
       "      <td>Contig80.1_14_16018_15353</td>\n",
       "      <td>cce_0067</td>\n",
       "      <td>-0.078798</td>\n",
       "      <td>-0.036012</td>\n",
       "      <td>-0.018563</td>\n",
       "      <td>0.115044</td>\n",
       "      <td>0.136906</td>\n",
       "      <td>0.086466</td>\n",
       "      <td>-0.023025</td>\n",
       "      <td>-0.015671</td>\n",
       "      <td>-0.020260</td>\n",
       "      <td>-0.037982</td>\n",
       "      <td>0.069587</td>\n",
       "      <td>0.027299</td>\n",
       "    </tr>\n",
       "  </tbody>\n",
       "</table>\n",
       "</div>"
      ],
      "text/plain": [
       "                         Contig       ORF   Day1_L2   Day1_L6  Day1_L10  \\\n",
       "4089      Contig62.1_1_1274_207  cce_0015  0.358243 -0.130405 -0.188194   \n",
       "3925        Contig6.1_2_481_873  cce_0015  0.395011 -0.258260 -0.303179   \n",
       "4098        Contig62.2_1_424_44  cce_0027 -0.032668  0.067178  0.198460   \n",
       "4088  Contig62.1_14_11081_10533  cce_0027 -0.069485  0.150048  0.193104   \n",
       "4698  Contig80.1_14_16018_15353  cce_0067 -0.078798 -0.036012 -0.018563   \n",
       "\n",
       "       Day1_D2   Day1_D6  Day1_D10  Day2_LL2  Day2_LL6  Day2_LL10  Day2_LD2  \\\n",
       "4089 -0.260832  0.128074  0.250259  0.330951 -0.166504   0.013392  0.032084   \n",
       "3925 -0.419339 -0.122089  0.180624  0.424158 -0.302026  -0.041410  0.037448   \n",
       "4098 -0.063797 -0.132410  0.091539 -0.109167  0.014529   0.125467 -0.069524   \n",
       "4088 -0.299913 -0.566255  0.079567 -0.139078 -0.138654   0.194732 -0.063706   \n",
       "4698  0.115044  0.136906  0.086466 -0.023025 -0.015671  -0.020260 -0.037982   \n",
       "\n",
       "      Day2_LD6  Day2_LD10  \n",
       "4089 -0.062092  -0.097793  \n",
       "3925 -0.164989  -0.173628  \n",
       "4098  0.183824   0.212867  \n",
       "4088  0.163336   0.179056  \n",
       "4698  0.069587   0.027299  "
      ]
     },
     "execution_count": 6,
     "metadata": {},
     "output_type": "execute_result"
    }
   ],
   "source": [
    "duplicates.head()"
   ]
  },
  {
   "cell_type": "markdown",
   "metadata": {},
   "source": [
    "We'll will take the mean of the expression values of the duplicates."
   ]
  },
  {
   "cell_type": "code",
   "execution_count": 7,
   "metadata": {},
   "outputs": [],
   "source": [
    "mean_columns = list(duplicates.columns)\n",
    "mean_columns.remove('Contig')\n",
    "mean_columns.remove('ORF')"
   ]
  },
  {
   "cell_type": "code",
   "execution_count": 8,
   "metadata": {},
   "outputs": [],
   "source": [
    "df_expression = df_toepel.groupby('ORF')[mean_columns].mean().reset_index()"
   ]
  },
  {
   "cell_type": "markdown",
   "metadata": {},
   "source": [
    "Now we download the Cyanothece Database with genomic annotations. "
   ]
  },
  {
   "cell_type": "code",
   "execution_count": 9,
   "metadata": {},
   "outputs": [],
   "source": [
    "GenCyanoDB = pd.read_excel('GenCyanoDB.xlsx',index_col=0,usecols=[0,1,2,3])"
   ]
  },
  {
   "cell_type": "code",
   "execution_count": 10,
   "metadata": {
    "scrolled": true
   },
   "outputs": [
    {
     "data": {
      "text/html": [
       "<div>\n",
       "<style scoped>\n",
       "    .dataframe tbody tr th:only-of-type {\n",
       "        vertical-align: middle;\n",
       "    }\n",
       "\n",
       "    .dataframe tbody tr th {\n",
       "        vertical-align: top;\n",
       "    }\n",
       "\n",
       "    .dataframe thead th {\n",
       "        text-align: right;\n",
       "    }\n",
       "</style>\n",
       "<table border=\"1\" class=\"dataframe\">\n",
       "  <thead>\n",
       "    <tr style=\"text-align: right;\">\n",
       "      <th></th>\n",
       "      <th>ORF</th>\n",
       "      <th>Function</th>\n",
       "      <th>CommonName</th>\n",
       "    </tr>\n",
       "  </thead>\n",
       "  <tbody>\n",
       "    <tr>\n",
       "      <td>0</td>\n",
       "      <td>cce_0001</td>\n",
       "      <td>hypothetical protein</td>\n",
       "      <td>cce_0001</td>\n",
       "    </tr>\n",
       "    <tr>\n",
       "      <td>1</td>\n",
       "      <td>cce_0002</td>\n",
       "      <td>alcohol dehydrogenase</td>\n",
       "      <td>cce_0002</td>\n",
       "    </tr>\n",
       "    <tr>\n",
       "      <td>2</td>\n",
       "      <td>cce_0003</td>\n",
       "      <td>hypothetical protein</td>\n",
       "      <td>cce_0003</td>\n",
       "    </tr>\n",
       "    <tr>\n",
       "      <td>3</td>\n",
       "      <td>cce_0004</td>\n",
       "      <td>cation efflux system membrane protein</td>\n",
       "      <td>czcA</td>\n",
       "    </tr>\n",
       "    <tr>\n",
       "      <td>4</td>\n",
       "      <td>cce_0005</td>\n",
       "      <td>conserved hypothetical protein</td>\n",
       "      <td>cce_0005</td>\n",
       "    </tr>\n",
       "  </tbody>\n",
       "</table>\n",
       "</div>"
      ],
      "text/plain": [
       "        ORF                               Function CommonName\n",
       "0  cce_0001                   hypothetical protein   cce_0001\n",
       "1  cce_0002                  alcohol dehydrogenase   cce_0002\n",
       "2  cce_0003                   hypothetical protein   cce_0003\n",
       "3  cce_0004  cation efflux system membrane protein       czcA\n",
       "4  cce_0005         conserved hypothetical protein   cce_0005"
      ]
     },
     "execution_count": 10,
     "metadata": {},
     "output_type": "execute_result"
    }
   ],
   "source": [
    "GenCyanoDB.head()"
   ]
  },
  {
   "cell_type": "markdown",
   "metadata": {},
   "source": [
    "First, let's find how many genes have the keyword regulator, two-component, kinase, sensor or circadian in their functional annotation. "
   ]
  },
  {
   "cell_type": "code",
   "execution_count": 11,
   "metadata": {},
   "outputs": [],
   "source": [
    "twoComponents = GenCyanoDB[GenCyanoDB['Function'].str.contains(\"two-component|kinase|regulator|sensor|circadian\")]"
   ]
  },
  {
   "cell_type": "code",
   "execution_count": 12,
   "metadata": {},
   "outputs": [
    {
     "data": {
      "text/plain": [
       "(211, 204)"
      ]
     },
     "execution_count": 12,
     "metadata": {},
     "output_type": "execute_result"
    }
   ],
   "source": [
    "len(twoComponents),len(twoComponents.loc[twoComponents.ORF.isin(df_toepel.ORF)])"
   ]
  },
  {
   "cell_type": "markdown",
   "metadata": {},
   "source": [
    "It's clear from above that we do not have expression profiles for 7 genes. Let's find which ones."
   ]
  },
  {
   "cell_type": "code",
   "execution_count": 13,
   "metadata": {},
   "outputs": [
    {
     "data": {
      "text/html": [
       "<div>\n",
       "<style scoped>\n",
       "    .dataframe tbody tr th:only-of-type {\n",
       "        vertical-align: middle;\n",
       "    }\n",
       "\n",
       "    .dataframe tbody tr th {\n",
       "        vertical-align: top;\n",
       "    }\n",
       "\n",
       "    .dataframe thead th {\n",
       "        text-align: right;\n",
       "    }\n",
       "</style>\n",
       "<table border=\"1\" class=\"dataframe\">\n",
       "  <thead>\n",
       "    <tr style=\"text-align: right;\">\n",
       "      <th></th>\n",
       "      <th>ORF</th>\n",
       "      <th>Function</th>\n",
       "      <th>CommonName</th>\n",
       "    </tr>\n",
       "  </thead>\n",
       "  <tbody>\n",
       "    <tr>\n",
       "      <td>11</td>\n",
       "      <td>cce_0012</td>\n",
       "      <td>two-component response regulator</td>\n",
       "      <td>cce_0012</td>\n",
       "    </tr>\n",
       "    <tr>\n",
       "      <td>798</td>\n",
       "      <td>cce_0800</td>\n",
       "      <td>acetate kinase</td>\n",
       "      <td>ackA1</td>\n",
       "    </tr>\n",
       "    <tr>\n",
       "      <td>4029</td>\n",
       "      <td>cce_4034</td>\n",
       "      <td>adenylate kinase</td>\n",
       "      <td>adk</td>\n",
       "    </tr>\n",
       "    <tr>\n",
       "      <td>4070</td>\n",
       "      <td>cce_4075</td>\n",
       "      <td>putative ATP-NAD/AcoX kinase</td>\n",
       "      <td>cce_4075</td>\n",
       "    </tr>\n",
       "    <tr>\n",
       "      <td>4586</td>\n",
       "      <td>cce_4591</td>\n",
       "      <td>guanylate kinase</td>\n",
       "      <td>gmk</td>\n",
       "    </tr>\n",
       "    <tr>\n",
       "      <td>4654</td>\n",
       "      <td>cce_4659</td>\n",
       "      <td>two-component response regulator</td>\n",
       "      <td>cce_4659</td>\n",
       "    </tr>\n",
       "    <tr>\n",
       "      <td>4710</td>\n",
       "      <td>cce_4715</td>\n",
       "      <td>putative circadian clock protein</td>\n",
       "      <td>kaiB2</td>\n",
       "    </tr>\n",
       "  </tbody>\n",
       "</table>\n",
       "</div>"
      ],
      "text/plain": [
       "           ORF                          Function CommonName\n",
       "11    cce_0012  two-component response regulator   cce_0012\n",
       "798   cce_0800                    acetate kinase      ackA1\n",
       "4029  cce_4034                  adenylate kinase        adk\n",
       "4070  cce_4075      putative ATP-NAD/AcoX kinase   cce_4075\n",
       "4586  cce_4591                  guanylate kinase        gmk\n",
       "4654  cce_4659  two-component response regulator   cce_4659\n",
       "4710  cce_4715  putative circadian clock protein      kaiB2"
      ]
     },
     "execution_count": 13,
     "metadata": {},
     "output_type": "execute_result"
    }
   ],
   "source": [
    "twoComponents.loc[~twoComponents.ORF.isin(df_toepel.ORF)]"
   ]
  },
  {
   "cell_type": "markdown",
   "metadata": {},
   "source": [
    "We do not have the same 7 genes expression data here as well. "
   ]
  },
  {
   "cell_type": "markdown",
   "metadata": {},
   "source": [
    "Next we need to merge the 2 dataframes."
   ]
  },
  {
   "cell_type": "code",
   "execution_count": 14,
   "metadata": {},
   "outputs": [],
   "source": [
    "twoComponentsExp = df_expression.merge(twoComponents,on='ORF',how='inner')"
   ]
  },
  {
   "cell_type": "markdown",
   "metadata": {},
   "source": [
    "First, we will check the length of the dataframe."
   ]
  },
  {
   "cell_type": "code",
   "execution_count": 15,
   "metadata": {},
   "outputs": [],
   "source": [
    "assert len(twoComponentsExp)==len(twoComponents.loc[twoComponents.ORF.isin(df_toepel.ORF)])"
   ]
  },
  {
   "cell_type": "code",
   "execution_count": 16,
   "metadata": {},
   "outputs": [
    {
     "data": {
      "text/html": [
       "<div>\n",
       "<style scoped>\n",
       "    .dataframe tbody tr th:only-of-type {\n",
       "        vertical-align: middle;\n",
       "    }\n",
       "\n",
       "    .dataframe tbody tr th {\n",
       "        vertical-align: top;\n",
       "    }\n",
       "\n",
       "    .dataframe thead th {\n",
       "        text-align: right;\n",
       "    }\n",
       "</style>\n",
       "<table border=\"1\" class=\"dataframe\">\n",
       "  <thead>\n",
       "    <tr style=\"text-align: right;\">\n",
       "      <th></th>\n",
       "      <th>ORF</th>\n",
       "      <th>Day1_L2</th>\n",
       "      <th>Day1_L6</th>\n",
       "      <th>Day1_L10</th>\n",
       "      <th>Day1_D2</th>\n",
       "      <th>Day1_D6</th>\n",
       "      <th>Day1_D10</th>\n",
       "      <th>Day2_LL2</th>\n",
       "      <th>Day2_LL6</th>\n",
       "      <th>Day2_LL10</th>\n",
       "      <th>Day2_LD2</th>\n",
       "      <th>Day2_LD6</th>\n",
       "      <th>Day2_LD10</th>\n",
       "      <th>Function</th>\n",
       "      <th>CommonName</th>\n",
       "    </tr>\n",
       "  </thead>\n",
       "  <tbody>\n",
       "    <tr>\n",
       "      <td>0</td>\n",
       "      <td>cce_0016</td>\n",
       "      <td>0.020815</td>\n",
       "      <td>0.025280</td>\n",
       "      <td>0.035900</td>\n",
       "      <td>0.010091</td>\n",
       "      <td>0.106032</td>\n",
       "      <td>0.021714</td>\n",
       "      <td>-0.047783</td>\n",
       "      <td>0.005781</td>\n",
       "      <td>0.025963</td>\n",
       "      <td>-0.010045</td>\n",
       "      <td>0.080937</td>\n",
       "      <td>0.070583</td>\n",
       "      <td>two-component sensor histidine kinase</td>\n",
       "      <td>cce_0016</td>\n",
       "    </tr>\n",
       "    <tr>\n",
       "      <td>1</td>\n",
       "      <td>cce_0115</td>\n",
       "      <td>0.297869</td>\n",
       "      <td>0.266111</td>\n",
       "      <td>0.055197</td>\n",
       "      <td>-0.602793</td>\n",
       "      <td>-0.454150</td>\n",
       "      <td>-0.128624</td>\n",
       "      <td>0.084665</td>\n",
       "      <td>0.146252</td>\n",
       "      <td>0.081213</td>\n",
       "      <td>-0.313614</td>\n",
       "      <td>-0.080785</td>\n",
       "      <td>0.040876</td>\n",
       "      <td>response regulator</td>\n",
       "      <td>cce_0115</td>\n",
       "    </tr>\n",
       "    <tr>\n",
       "      <td>2</td>\n",
       "      <td>cce_0123</td>\n",
       "      <td>-0.022049</td>\n",
       "      <td>-0.025439</td>\n",
       "      <td>-0.181873</td>\n",
       "      <td>0.103217</td>\n",
       "      <td>0.331547</td>\n",
       "      <td>0.159714</td>\n",
       "      <td>-0.036170</td>\n",
       "      <td>-0.051452</td>\n",
       "      <td>-0.372445</td>\n",
       "      <td>0.032771</td>\n",
       "      <td>0.074082</td>\n",
       "      <td>0.339362</td>\n",
       "      <td>thiamine monophosphate kinase</td>\n",
       "      <td>thiL</td>\n",
       "    </tr>\n",
       "    <tr>\n",
       "      <td>3</td>\n",
       "      <td>cce_0145</td>\n",
       "      <td>0.290729</td>\n",
       "      <td>-0.048554</td>\n",
       "      <td>-0.441629</td>\n",
       "      <td>-0.067762</td>\n",
       "      <td>-0.256788</td>\n",
       "      <td>0.030223</td>\n",
       "      <td>0.144654</td>\n",
       "      <td>-0.331048</td>\n",
       "      <td>-0.321781</td>\n",
       "      <td>-0.254037</td>\n",
       "      <td>-0.458068</td>\n",
       "      <td>-0.559191</td>\n",
       "      <td>putative circadian clock protein</td>\n",
       "      <td>kaiB4</td>\n",
       "    </tr>\n",
       "    <tr>\n",
       "      <td>4</td>\n",
       "      <td>cce_0164</td>\n",
       "      <td>0.192083</td>\n",
       "      <td>0.083880</td>\n",
       "      <td>-0.161234</td>\n",
       "      <td>-0.223011</td>\n",
       "      <td>-0.179374</td>\n",
       "      <td>0.195019</td>\n",
       "      <td>0.058844</td>\n",
       "      <td>-0.029044</td>\n",
       "      <td>0.066837</td>\n",
       "      <td>-0.054009</td>\n",
       "      <td>-0.024873</td>\n",
       "      <td>-0.001319</td>\n",
       "      <td>two-component sensor histidine kinase</td>\n",
       "      <td>cce_0164</td>\n",
       "    </tr>\n",
       "  </tbody>\n",
       "</table>\n",
       "</div>"
      ],
      "text/plain": [
       "        ORF   Day1_L2   Day1_L6  Day1_L10   Day1_D2   Day1_D6  Day1_D10  \\\n",
       "0  cce_0016  0.020815  0.025280  0.035900  0.010091  0.106032  0.021714   \n",
       "1  cce_0115  0.297869  0.266111  0.055197 -0.602793 -0.454150 -0.128624   \n",
       "2  cce_0123 -0.022049 -0.025439 -0.181873  0.103217  0.331547  0.159714   \n",
       "3  cce_0145  0.290729 -0.048554 -0.441629 -0.067762 -0.256788  0.030223   \n",
       "4  cce_0164  0.192083  0.083880 -0.161234 -0.223011 -0.179374  0.195019   \n",
       "\n",
       "   Day2_LL2  Day2_LL6  Day2_LL10  Day2_LD2  Day2_LD6  Day2_LD10  \\\n",
       "0 -0.047783  0.005781   0.025963 -0.010045  0.080937   0.070583   \n",
       "1  0.084665  0.146252   0.081213 -0.313614 -0.080785   0.040876   \n",
       "2 -0.036170 -0.051452  -0.372445  0.032771  0.074082   0.339362   \n",
       "3  0.144654 -0.331048  -0.321781 -0.254037 -0.458068  -0.559191   \n",
       "4  0.058844 -0.029044   0.066837 -0.054009 -0.024873  -0.001319   \n",
       "\n",
       "                                Function CommonName  \n",
       "0  two-component sensor histidine kinase   cce_0016  \n",
       "1                     response regulator   cce_0115  \n",
       "2          thiamine monophosphate kinase       thiL  \n",
       "3       putative circadian clock protein      kaiB4  \n",
       "4  two-component sensor histidine kinase   cce_0164  "
      ]
     },
     "execution_count": 16,
     "metadata": {},
     "output_type": "execute_result"
    }
   ],
   "source": [
    "twoComponentsExp.head()"
   ]
  },
  {
   "cell_type": "markdown",
   "metadata": {},
   "source": [
    "# Mutual Information Calculation"
   ]
  },
  {
   "cell_type": "markdown",
   "metadata": {},
   "source": [
    "Next we need to develop a ranked list of the interactions between the genes of the twoCompenentsExp dataframe with each other. We hope to find a primary component with a high correlation to a secondary component and vice versa. That will help us to conclude that they are a part of the two-component regulation system. As a correlation metric, we will use mutual information since it can capture non-linear interactions. "
   ]
  },
  {
   "cell_type": "code",
   "execution_count": 17,
   "metadata": {},
   "outputs": [],
   "source": [
    "class Interaction:\n",
    "    def __init__(self,Exp_data,gene='all',mi_thresh=0):\n",
    "        self.Exp_data = Exp_data\n",
    "        if self.Exp_data.isnull().values.any():\n",
    "            self.Exp_df = self.Exp_data.iloc[:,:-2].set_index('ORF').interpolate(method='linear',axis=1,limit_direction='both').T\n",
    "        else:\n",
    "            self.Exp_df = self.Exp_data.iloc[:,:-2].set_index('ORF').T\n",
    "        if gene=='all':\n",
    "            self.mi_dict = self._get_dict()\n",
    "        else:\n",
    "            self.gene_orf = gene\n",
    "            self.mi_list = self._miscorelist(self.gene_orf)\n",
    "            self.mi_thresh = mi_thresh\n",
    "            self.df = self._get_df(self.mi_list,self.mi_thresh)\n",
    "           \n",
    "    \n",
    "    def _get_dict(self):\n",
    "        all_genes = list(self.Exp_df.columns)\n",
    "        pool = mp.Pool(mp.cpu_count())\n",
    "        results = pool.map(self._miscorelist,all_genes)\n",
    "        fast_dict= dict(zip(all_genes,results))\n",
    "        return fast_dict\n",
    "\n",
    "    \n",
    "    def _miscorelist(self,gene):\n",
    "        all_other_genes_df = self.Exp_df.loc[:,self.Exp_df.columns!=gene]\n",
    "        all_other_genes = np.array(all_other_genes_df.columns)\n",
    "        this_gene_df = self.Exp_df[gene]\n",
    "        mi_score = mutual_info_regression(all_other_genes_df,this_gene_df,discrete_features=False,random_state=7)\n",
    "        miscore_genes = list(zip(all_other_genes,mi_score))\n",
    "        sorted_miscore = sorted(miscore_genes,key = lambda x:x[1],reverse=True)\n",
    "        return sorted_miscore\n",
    "    \n",
    "    def _get_df(self,mi_list,mi_thresh):\n",
    "        my_dict = {'orf':[],'function':[],'CommonName':[],'mi':[]}\n",
    "        for orf,mi in mi_list:\n",
    "            if mi<=mi_thresh:\n",
    "                break\n",
    "\n",
    "            my_dict['orf'].append(orf)\n",
    "            my_dict['function'].append(twoComponentsExp.loc[twoComponentsExp.ORF==orf].Function.values[0])\n",
    "            my_dict['CommonName'].append(twoComponentsExp.loc[twoComponentsExp.ORF==orf].CommonName.values[0])\n",
    "            my_dict['mi'].append(mi)\n",
    "\n",
    "        return pd.DataFrame(my_dict)\n",
    "    \n",
    "    def get_twoComponentHybrids(self):\n",
    "        return self.df.loc[self.df.function.str.contains('two-component') & self.df.function.str.contains('hybrid')]\n",
    "    \n",
    "    def get_twoComponentSensors(self):\n",
    "        return self.df.loc[self.df.function.str.contains('two-component') & self.df.function.str.contains('sensor') & ~self.df.function.str.contains('hybrid')]\n",
    "    \n",
    "    def get_twoComponentRegulators(self):\n",
    "        return self.df.loc[self.df.function.str.contains('two-component') & self.df.function.str.contains('regulator') & ~self.df.function.str.contains('hybrid')]\n",
    "\n",
    "    def get_other_clock(self):\n",
    "        return self.df.loc[self.df.function.str.contains('clock protein')]"
   ]
  },
  {
   "cell_type": "markdown",
   "metadata": {},
   "source": [
    "# Cyanothece clock genes interaction"
   ]
  },
  {
   "cell_type": "code",
   "execution_count": 18,
   "metadata": {},
   "outputs": [],
   "source": [
    "clock_genes = {i:GenCyanoDB.loc[GenCyanoDB.CommonName==i].ORF.values[0] for i in ['kaiA','kaiB1','kaiB3',\n",
    "                                                                                  'kaiB4','kaiC1','kaiC2']}"
   ]
  },
  {
   "cell_type": "markdown",
   "metadata": {},
   "source": [
    "## KaiA"
   ]
  },
  {
   "cell_type": "code",
   "execution_count": 19,
   "metadata": {},
   "outputs": [],
   "source": [
    "kA = Interaction(twoComponentsExp,clock_genes['kaiA'],mi_thresh=0)"
   ]
  },
  {
   "cell_type": "markdown",
   "metadata": {},
   "source": [
    "## KaiB1"
   ]
  },
  {
   "cell_type": "code",
   "execution_count": 20,
   "metadata": {},
   "outputs": [],
   "source": [
    "kB1 = Interaction(twoComponentsExp,clock_genes['kaiB1'],mi_thresh=0)"
   ]
  },
  {
   "cell_type": "markdown",
   "metadata": {},
   "source": [
    "## KaiB3"
   ]
  },
  {
   "cell_type": "code",
   "execution_count": 21,
   "metadata": {},
   "outputs": [],
   "source": [
    "kB3 = Interaction(twoComponentsExp,clock_genes['kaiB3'],mi_thresh=0)"
   ]
  },
  {
   "cell_type": "markdown",
   "metadata": {},
   "source": [
    "## KaiB4"
   ]
  },
  {
   "cell_type": "code",
   "execution_count": 22,
   "metadata": {},
   "outputs": [],
   "source": [
    "kB4 = Interaction(twoComponentsExp,clock_genes['kaiB4'],mi_thresh=0)"
   ]
  },
  {
   "cell_type": "markdown",
   "metadata": {},
   "source": [
    "## KaiC1"
   ]
  },
  {
   "cell_type": "code",
   "execution_count": 23,
   "metadata": {},
   "outputs": [],
   "source": [
    "kC1 = Interaction(twoComponentsExp,clock_genes['kaiC1'],mi_thresh=0)"
   ]
  },
  {
   "cell_type": "markdown",
   "metadata": {},
   "source": [
    "## KaiC2"
   ]
  },
  {
   "cell_type": "code",
   "execution_count": 24,
   "metadata": {},
   "outputs": [],
   "source": [
    "kC2 = Interaction(twoComponentsExp,clock_genes['kaiC2'],mi_thresh=0)"
   ]
  },
  {
   "cell_type": "code",
   "execution_count": 25,
   "metadata": {},
   "outputs": [],
   "source": [
    "clock_interaction_dict = {'kaiA':kA,'kaiB1':kB1,'kaiB3':kB3,'kaiB4':kB4,'kaiC1':kC1,'kaiC2':kC2}"
   ]
  },
  {
   "cell_type": "markdown",
   "metadata": {},
   "source": [
    "# MI visualization"
   ]
  },
  {
   "cell_type": "code",
   "execution_count": 26,
   "metadata": {},
   "outputs": [],
   "source": [
    "class ClockVisualize:\n",
    "    def __init__(self,dictionary_of_interactions,interaction_type='sensor'):\n",
    "        if not all(list(map(self._verify_interaction,dictionary_of_interactions.values()))):\n",
    "            raise ValueError('Objects are not valid instances of class type Interaction')\n",
    "\n",
    "        else:\n",
    "            self.interaction_type=interaction_type\n",
    "            self.clock_genes = list(dictionary_of_interactions.keys())\n",
    "            self.interactions = list(dictionary_of_interactions.values())\n",
    "            self.k_matrix,self.tc_dict,self.clock_dict = self._get_matrix()\n",
    "    \n",
    "    def _verify_interaction(self,obj):\n",
    "        return isinstance(obj,Interaction)\n",
    "    \n",
    "    def _get_info_clock(self,interaction_obj):\n",
    "        return interaction_obj.get_other_clock()\n",
    "    \n",
    "    def _get_info_sensors(self,interaction_obj):\n",
    "        return interaction_obj.get_twoComponentSensors()\n",
    "            \n",
    "    def _get_info_regulators(self,interaction_obj):\n",
    "        return interaction_obj.get_twoComponentRegulators()\n",
    "        \n",
    "    def _get_info_hybrids(self,interaction_obj):\n",
    "        return interaction_obj.get_twoComponentHybrids()\n",
    "    \n",
    "    def _get_common_names(self,info):\n",
    "        return info.CommonName.values\n",
    "    \n",
    "    def _get_mi(self,info,common_name):\n",
    "        return info.loc[info.CommonName==common_name].mi.values[0]\n",
    "        \n",
    " \n",
    "    def _get_matrix(self):\n",
    "        function_dict = {'sensor':self._get_info_sensors,'regulator':self._get_info_regulators,\n",
    "                         'hybrid':self._get_info_hybrids,'clock':self._get_info_clock}\n",
    "        _info_list = list(map(function_dict[self.interaction_type],self.interactions))\n",
    "        _common_names = list(map(self._get_common_names,_info_list))\n",
    "        _all = np.concatenate((_common_names),axis=None)\n",
    "        _set = sorted(set(_all))\n",
    "        _set_cn_dict = dict(zip(_set,range(len(_set))))\n",
    "        clock_genes_cn_dict = dict(zip(self.clock_genes,range(len(self.clock_genes))))\n",
    "        k_matrix = np.zeros((len(clock_genes_cn_dict),len(_set_cn_dict)))\n",
    "        for i,_info in enumerate(_info_list):\n",
    "            clock_gene_name = self.clock_genes[i]\n",
    "            for j in _info.CommonName.values:\n",
    "                k_matrix[clock_genes_cn_dict[clock_gene_name]][_set_cn_dict[j]] = self._get_mi(_info,j)\n",
    "        return k_matrix,_set_cn_dict,clock_genes_cn_dict\n",
    "\n",
    "\n",
    "\n",
    "    def visualize_matrix(self):\n",
    "        \n",
    "        plt.figure(figsize=(12,10/26*self.k_matrix.shape[1]))\n",
    "        sns.heatmap(self.k_matrix.T,yticklabels=self.tc_dict.keys(),\n",
    "                    xticklabels=self.clock_dict.keys(),annot=True,linewidths=0.5)\n",
    "        # fix for mpl bug that cuts off top/bottom of seaborn viz\n",
    "        b, t = plt.ylim() # discover the values for bottom and top\n",
    "        b += 0.5 # Add 0.5 to the bottom\n",
    "        t -= 0.5 # Subtract 0.5 from the top\n",
    "        plt.ylim(b, t) # update the ylim(bottom, top) values\n",
    "        plt.title('Correlation Matrix')\n",
    "        plt.xlabel('Kai Genes')\n",
    "        last_term = {'sensor':'Two Component Sensors','regulator':'Two Component Regulators',\n",
    "                     'hybrid':'Two Component Hybrids','clock':'Kai Genes'}\n",
    "        plt.ylabel(last_term[self.interaction_type])\n",
    "        plt.show() # ta-da!\n",
    "        "
   ]
  },
  {
   "cell_type": "markdown",
   "metadata": {},
   "source": [
    "# Visualizing the iteractions "
   ]
  },
  {
   "cell_type": "markdown",
   "metadata": {},
   "source": [
    "## Visualizing the interaction between the Cyanothece clock genes"
   ]
  },
  {
   "cell_type": "code",
   "execution_count": 27,
   "metadata": {},
   "outputs": [
    {
     "data": {
      "image/png": "[encoded data removed]",
      "text/plain": [
       "<Figure size 864x166.154 with 2 Axes>"
      ]
     },
     "metadata": {
      "needs_background": "light"
     },
     "output_type": "display_data"
    }
   ],
   "source": [
    "clock = ClockVisualize(clock_interaction_dict,\n",
    "                        interaction_type='clock')\n",
    "\n",
    "clock.visualize_matrix()"
   ]
  },
  {
   "cell_type": "markdown",
   "metadata": {},
   "source": [
    "## Visualizing the sensors and regulators that interact with any clock gene."
   ]
  },
  {
   "cell_type": "markdown",
   "metadata": {},
   "source": [
    "### Sensors"
   ]
  },
  {
   "cell_type": "code",
   "execution_count": 28,
   "metadata": {},
   "outputs": [],
   "source": [
    "sensor = ClockVisualize(clock_interaction_dict,\n",
    "                        interaction_type='sensor')"
   ]
  },
  {
   "cell_type": "code",
   "execution_count": 29,
   "metadata": {},
   "outputs": [
    {
     "data": {
      "image/png": "[encoded data removed]",
      "text/plain": [
       "<Figure size 864x720 with 2 Axes>"
      ]
     },
     "metadata": {
      "needs_background": "light"
     },
     "output_type": "display_data"
    }
   ],
   "source": [
    "sensor.visualize_matrix()"
   ]
  },
  {
   "cell_type": "markdown",
   "metadata": {},
   "source": [
    "### Regulators"
   ]
  },
  {
   "cell_type": "code",
   "execution_count": 30,
   "metadata": {},
   "outputs": [],
   "source": [
    "regulator = ClockVisualize(clock_interaction_dict,\n",
    "                        interaction_type='regulator')"
   ]
  },
  {
   "cell_type": "code",
   "execution_count": 31,
   "metadata": {
    "scrolled": false
   },
   "outputs": [
    {
     "data": {
      "image/png": "[encoded data removed]",
      "text/plain": [
       "<Figure size 864x1135.38 with 2 Axes>"
      ]
     },
     "metadata": {
      "needs_background": "light"
     },
     "output_type": "display_data"
    }
   ],
   "source": [
    "regulator.visualize_matrix()"
   ]
  },
  {
   "cell_type": "markdown",
   "metadata": {},
   "source": [
    "### Hybrids"
   ]
  },
  {
   "cell_type": "code",
   "execution_count": 32,
   "metadata": {},
   "outputs": [
    {
     "data": {
      "image/png": "[encoded data removed]",
      "text/plain": [
       "<Figure size 864x609.231 with 2 Axes>"
      ]
     },
     "metadata": {
      "needs_background": "light"
     },
     "output_type": "display_data"
    }
   ],
   "source": [
    "hybrid = ClockVisualize(clock_interaction_dict,\n",
    "                        interaction_type='hybrid')\n",
    "\n",
    "hybrid.visualize_matrix()"
   ]
  },
  {
   "cell_type": "markdown",
   "metadata": {},
   "source": [
    "# Finding the most common sensors and regulators that interact with all the clock genes"
   ]
  },
  {
   "cell_type": "markdown",
   "metadata": {},
   "source": [
    "## Sensors"
   ]
  },
  {
   "cell_type": "code",
   "execution_count": 33,
   "metadata": {},
   "outputs": [],
   "source": [
    "def get_sensor_names(interaction_obj):\n",
    "    return interaction_obj.get_twoComponentSensors().CommonName.values"
   ]
  },
  {
   "cell_type": "code",
   "execution_count": 34,
   "metadata": {},
   "outputs": [],
   "source": [
    "sensors = list(map(get_sensor_names,clock_interaction_dict.values()))\n",
    "\n",
    "def most_common_elements(given_set):\n",
    "    main_set = set(given_set[0])\n",
    "\n",
    "    for sarray in given_set[1:]:\n",
    "        sset = set(sarray)\n",
    "        main_set.intersection_update(sset)\n",
    "    return main_set"
   ]
  },
  {
   "cell_type": "code",
   "execution_count": 35,
   "metadata": {
    "scrolled": true
   },
   "outputs": [
    {
     "data": {
      "text/html": [
       "<div>\n",
       "<style scoped>\n",
       "    .dataframe tbody tr th:only-of-type {\n",
       "        vertical-align: middle;\n",
       "    }\n",
       "\n",
       "    .dataframe tbody tr th {\n",
       "        vertical-align: top;\n",
       "    }\n",
       "\n",
       "    .dataframe thead th {\n",
       "        text-align: right;\n",
       "    }\n",
       "</style>\n",
       "<table border=\"1\" class=\"dataframe\">\n",
       "  <thead>\n",
       "    <tr style=\"text-align: right;\">\n",
       "      <th></th>\n",
       "      <th>ORF</th>\n",
       "      <th>Day1_L2</th>\n",
       "      <th>Day1_L6</th>\n",
       "      <th>Day1_L10</th>\n",
       "      <th>Day1_D2</th>\n",
       "      <th>Day1_D6</th>\n",
       "      <th>Day1_D10</th>\n",
       "      <th>Day2_LL2</th>\n",
       "      <th>Day2_LL6</th>\n",
       "      <th>Day2_LL10</th>\n",
       "      <th>Day2_LD2</th>\n",
       "      <th>Day2_LD6</th>\n",
       "      <th>Day2_LD10</th>\n",
       "      <th>Function</th>\n",
       "      <th>CommonName</th>\n",
       "    </tr>\n",
       "  </thead>\n",
       "  <tbody>\n",
       "  </tbody>\n",
       "</table>\n",
       "</div>"
      ],
      "text/plain": [
       "Empty DataFrame\n",
       "Columns: [ORF, Day1_L2, Day1_L6, Day1_L10, Day1_D2, Day1_D6, Day1_D10, Day2_LL2, Day2_LL6, Day2_LL10, Day2_LD2, Day2_LD6, Day2_LD10, Function, CommonName]\n",
       "Index: []"
      ]
     },
     "execution_count": 35,
     "metadata": {},
     "output_type": "execute_result"
    }
   ],
   "source": [
    "twoComponentsExp.loc[twoComponentsExp.ORF.isin(most_common_elements(sensors))]"
   ]
  },
  {
   "cell_type": "markdown",
   "metadata": {},
   "source": [
    "## Regulators"
   ]
  },
  {
   "cell_type": "code",
   "execution_count": 36,
   "metadata": {},
   "outputs": [],
   "source": [
    "def get_regulator_names(interaction_obj):\n",
    "    return interaction_obj.get_twoComponentRegulators().CommonName.values"
   ]
  },
  {
   "cell_type": "code",
   "execution_count": 37,
   "metadata": {},
   "outputs": [],
   "source": [
    "regulators = list(map(get_regulator_names,clock_interaction_dict.values()))"
   ]
  },
  {
   "cell_type": "code",
   "execution_count": 38,
   "metadata": {
    "scrolled": true
   },
   "outputs": [
    {
     "data": {
      "text/html": [
       "<div>\n",
       "<style scoped>\n",
       "    .dataframe tbody tr th:only-of-type {\n",
       "        vertical-align: middle;\n",
       "    }\n",
       "\n",
       "    .dataframe tbody tr th {\n",
       "        vertical-align: top;\n",
       "    }\n",
       "\n",
       "    .dataframe thead th {\n",
       "        text-align: right;\n",
       "    }\n",
       "</style>\n",
       "<table border=\"1\" class=\"dataframe\">\n",
       "  <thead>\n",
       "    <tr style=\"text-align: right;\">\n",
       "      <th></th>\n",
       "      <th>ORF</th>\n",
       "      <th>Day1_L2</th>\n",
       "      <th>Day1_L6</th>\n",
       "      <th>Day1_L10</th>\n",
       "      <th>Day1_D2</th>\n",
       "      <th>Day1_D6</th>\n",
       "      <th>Day1_D10</th>\n",
       "      <th>Day2_LL2</th>\n",
       "      <th>Day2_LL6</th>\n",
       "      <th>Day2_LL10</th>\n",
       "      <th>Day2_LD2</th>\n",
       "      <th>Day2_LD6</th>\n",
       "      <th>Day2_LD10</th>\n",
       "      <th>Function</th>\n",
       "      <th>CommonName</th>\n",
       "    </tr>\n",
       "  </thead>\n",
       "  <tbody>\n",
       "    <tr>\n",
       "      <td>28</td>\n",
       "      <td>cce_0678</td>\n",
       "      <td>0.729695</td>\n",
       "      <td>-0.004934</td>\n",
       "      <td>-0.347867</td>\n",
       "      <td>-1.221355</td>\n",
       "      <td>-0.678034</td>\n",
       "      <td>-0.012713</td>\n",
       "      <td>0.576448</td>\n",
       "      <td>-0.210719</td>\n",
       "      <td>-0.430487</td>\n",
       "      <td>-0.013558</td>\n",
       "      <td>-0.146894</td>\n",
       "      <td>-0.110686</td>\n",
       "      <td>two-component response regulator</td>\n",
       "      <td>cce_0678</td>\n",
       "    </tr>\n",
       "  </tbody>\n",
       "</table>\n",
       "</div>"
      ],
      "text/plain": [
       "         ORF   Day1_L2   Day1_L6  Day1_L10   Day1_D2   Day1_D6  Day1_D10  \\\n",
       "28  cce_0678  0.729695 -0.004934 -0.347867 -1.221355 -0.678034 -0.012713   \n",
       "\n",
       "    Day2_LL2  Day2_LL6  Day2_LL10  Day2_LD2  Day2_LD6  Day2_LD10  \\\n",
       "28  0.576448 -0.210719  -0.430487 -0.013558 -0.146894  -0.110686   \n",
       "\n",
       "                            Function CommonName  \n",
       "28  two-component response regulator   cce_0678  "
      ]
     },
     "execution_count": 38,
     "metadata": {},
     "output_type": "execute_result"
    }
   ],
   "source": [
    "twoComponentsExp.loc[twoComponentsExp.ORF.isin(most_common_elements(regulators))]"
   ]
  },
  {
   "cell_type": "markdown",
   "metadata": {},
   "source": [
    "# Finding the kaiA,kaiB,kaiC combination that interacts with the maximum number of sensors and regulators"
   ]
  },
  {
   "cell_type": "code",
   "execution_count": 39,
   "metadata": {},
   "outputs": [
    {
     "name": "stdout",
     "output_type": "stream",
     "text": [
      "[('kaiA', 'kaiB1', 'kaiC1'), ('kaiA', 'kaiB1', 'kaiC2'), ('kaiA', 'kaiB3', 'kaiC1'), ('kaiA', 'kaiB3', 'kaiC2'), ('kaiA', 'kaiB4', 'kaiC1'), ('kaiA', 'kaiB4', 'kaiC2')]\n"
     ]
    }
   ],
   "source": [
    "from itertools import product\n",
    "clock_gene_copies = list(clock_genes.keys())\n",
    "kaiA_copies = clock_gene_copies[0:1]\n",
    "kaiB_copies = clock_gene_copies[1:4]\n",
    "kaiC_copies = clock_gene_copies[4:]\n",
    "print(list(product(kaiA_copies,kaiB_copies,kaiC_copies)))"
   ]
  },
  {
   "cell_type": "code",
   "execution_count": 40,
   "metadata": {},
   "outputs": [
    {
     "data": {
      "text/plain": [
       "{('kaiA', 'kaiB1', 'kaiC2'): [5, 5, 10],\n",
       " ('kaiA', 'kaiB4', 'kaiC1'): [3, 6, 9],\n",
       " ('kaiA', 'kaiB3', 'kaiC2'): [3, 5, 8],\n",
       " ('kaiA', 'kaiB1', 'kaiC1'): [2, 5, 7],\n",
       " ('kaiA', 'kaiB4', 'kaiC2'): [2, 5, 7],\n",
       " ('kaiA', 'kaiB3', 'kaiC1'): [2, 4, 6]}"
      ]
     },
     "execution_count": 40,
     "metadata": {},
     "output_type": "execute_result"
    }
   ],
   "source": [
    "clock_gene_sensors = dict(zip(clock_gene_copies,sensors))\n",
    "clock_gene_regulators = dict(zip(clock_gene_copies,regulators))\n",
    "\n",
    "number_dict = {}\n",
    "\n",
    "for a,b,c in product(kaiA_copies,kaiB_copies,kaiC_copies):\n",
    "    sensors_list = [clock_gene_sensors[i] for i in (a,b,c)]\n",
    "    regulators_list = [clock_gene_regulators[i] for i in (a,b,c)]\n",
    "    sensor_len = len(twoComponentsExp.loc[twoComponentsExp.CommonName.isin(most_common_elements(sensors_list))])\n",
    "    regulator_len = len(twoComponentsExp.loc[twoComponentsExp.CommonName.isin(most_common_elements(regulators_list))])\n",
    "    total_len = sensor_len+regulator_len\n",
    "    number_dict[(a,b,c)] = [sensor_len,regulator_len,total_len]\n",
    "    \n",
    "{k:v for k,v in sorted(number_dict.items(),key=lambda x: x[1][2],reverse=True)}"
   ]
  },
  {
   "cell_type": "markdown",
   "metadata": {},
   "source": [
    "# Case Studies of some interesting genes that were found in the last report"
   ]
  },
  {
   "cell_type": "markdown",
   "metadata": {},
   "source": [
    "## cce_0678 case study"
   ]
  },
  {
   "cell_type": "code",
   "execution_count": 41,
   "metadata": {
    "scrolled": false
   },
   "outputs": [
    {
     "data": {
      "text/html": [
       "<div>\n",
       "<style scoped>\n",
       "    .dataframe tbody tr th:only-of-type {\n",
       "        vertical-align: middle;\n",
       "    }\n",
       "\n",
       "    .dataframe tbody tr th {\n",
       "        vertical-align: top;\n",
       "    }\n",
       "\n",
       "    .dataframe thead th {\n",
       "        text-align: right;\n",
       "    }\n",
       "</style>\n",
       "<table border=\"1\" class=\"dataframe\">\n",
       "  <thead>\n",
       "    <tr style=\"text-align: right;\">\n",
       "      <th></th>\n",
       "      <th>orf</th>\n",
       "      <th>function</th>\n",
       "      <th>CommonName</th>\n",
       "      <th>mi</th>\n",
       "    </tr>\n",
       "  </thead>\n",
       "  <tbody>\n",
       "    <tr>\n",
       "      <td>6</td>\n",
       "      <td>cce_0164</td>\n",
       "      <td>two-component sensor histidine kinase</td>\n",
       "      <td>cce_0164</td>\n",
       "      <td>0.398052</td>\n",
       "    </tr>\n",
       "    <tr>\n",
       "      <td>19</td>\n",
       "      <td>cce_4426</td>\n",
       "      <td>two-component sensor histidine kinase</td>\n",
       "      <td>cce_4426</td>\n",
       "      <td>0.242130</td>\n",
       "    </tr>\n",
       "    <tr>\n",
       "      <td>25</td>\n",
       "      <td>cce_1280</td>\n",
       "      <td>two-component sensor histidine kinase</td>\n",
       "      <td>cce_1280</td>\n",
       "      <td>0.224904</td>\n",
       "    </tr>\n",
       "    <tr>\n",
       "      <td>45</td>\n",
       "      <td>cce_2232</td>\n",
       "      <td>two-component sensor histidine kinase</td>\n",
       "      <td>cce_2232</td>\n",
       "      <td>0.192331</td>\n",
       "    </tr>\n",
       "    <tr>\n",
       "      <td>48</td>\n",
       "      <td>cce_0220</td>\n",
       "      <td>two-component sensor histidine kinase</td>\n",
       "      <td>cce_0220</td>\n",
       "      <td>0.188958</td>\n",
       "    </tr>\n",
       "    <tr>\n",
       "      <td>55</td>\n",
       "      <td>cce_1983</td>\n",
       "      <td>probable phytochrome A, two-component sensor p...</td>\n",
       "      <td>aphA</td>\n",
       "      <td>0.171895</td>\n",
       "    </tr>\n",
       "    <tr>\n",
       "      <td>56</td>\n",
       "      <td>cce_2546</td>\n",
       "      <td>probable two-component sensor histidine kinase</td>\n",
       "      <td>cce_2546</td>\n",
       "      <td>0.164090</td>\n",
       "    </tr>\n",
       "    <tr>\n",
       "      <td>81</td>\n",
       "      <td>cce_1878</td>\n",
       "      <td>two-component sensor histidine kinase</td>\n",
       "      <td>cce_1878</td>\n",
       "      <td>0.128905</td>\n",
       "    </tr>\n",
       "    <tr>\n",
       "      <td>83</td>\n",
       "      <td>cce_1535</td>\n",
       "      <td>two-component sensor histidine kinase</td>\n",
       "      <td>cce_1535</td>\n",
       "      <td>0.125863</td>\n",
       "    </tr>\n",
       "    <tr>\n",
       "      <td>85</td>\n",
       "      <td>cce_0888</td>\n",
       "      <td>two-component sensor histidine kinase</td>\n",
       "      <td>nblS</td>\n",
       "      <td>0.120969</td>\n",
       "    </tr>\n",
       "    <tr>\n",
       "      <td>90</td>\n",
       "      <td>cce_0257</td>\n",
       "      <td>two-component sensor histidine kinase</td>\n",
       "      <td>cce_0257</td>\n",
       "      <td>0.102483</td>\n",
       "    </tr>\n",
       "    <tr>\n",
       "      <td>94</td>\n",
       "      <td>cce_3894</td>\n",
       "      <td>two-component sensor histidine kinase</td>\n",
       "      <td>cce_3894</td>\n",
       "      <td>0.100764</td>\n",
       "    </tr>\n",
       "    <tr>\n",
       "      <td>96</td>\n",
       "      <td>cce_0969</td>\n",
       "      <td>two-component sensor histidine kinase</td>\n",
       "      <td>cce_0969</td>\n",
       "      <td>0.097192</td>\n",
       "    </tr>\n",
       "    <tr>\n",
       "      <td>110</td>\n",
       "      <td>cce_1467</td>\n",
       "      <td>two-component sensor histidine kinase</td>\n",
       "      <td>cce_1467</td>\n",
       "      <td>0.074606</td>\n",
       "    </tr>\n",
       "    <tr>\n",
       "      <td>116</td>\n",
       "      <td>cce_0297</td>\n",
       "      <td>two-component sensor histidine kinase</td>\n",
       "      <td>cce_0297</td>\n",
       "      <td>0.063297</td>\n",
       "    </tr>\n",
       "    <tr>\n",
       "      <td>117</td>\n",
       "      <td>cce_3327</td>\n",
       "      <td>two-component sensor histidine kinase</td>\n",
       "      <td>cce_3327</td>\n",
       "      <td>0.058697</td>\n",
       "    </tr>\n",
       "    <tr>\n",
       "      <td>134</td>\n",
       "      <td>cce_3520</td>\n",
       "      <td>two-component sensor histidine kinase</td>\n",
       "      <td>cce_3520</td>\n",
       "      <td>0.039322</td>\n",
       "    </tr>\n",
       "    <tr>\n",
       "      <td>139</td>\n",
       "      <td>cce_4097</td>\n",
       "      <td>two-component sensor serine/threonine kinase</td>\n",
       "      <td>cce_4097</td>\n",
       "      <td>0.029500</td>\n",
       "    </tr>\n",
       "    <tr>\n",
       "      <td>145</td>\n",
       "      <td>cce_1848</td>\n",
       "      <td>probable two-component sensor histidine kinase</td>\n",
       "      <td>cce_1848</td>\n",
       "      <td>0.009924</td>\n",
       "    </tr>\n",
       "  </tbody>\n",
       "</table>\n",
       "</div>"
      ],
      "text/plain": [
       "          orf                                           function CommonName  \\\n",
       "6    cce_0164              two-component sensor histidine kinase   cce_0164   \n",
       "19   cce_4426              two-component sensor histidine kinase   cce_4426   \n",
       "25   cce_1280              two-component sensor histidine kinase   cce_1280   \n",
       "45   cce_2232              two-component sensor histidine kinase   cce_2232   \n",
       "48   cce_0220              two-component sensor histidine kinase   cce_0220   \n",
       "55   cce_1983  probable phytochrome A, two-component sensor p...       aphA   \n",
       "56   cce_2546     probable two-component sensor histidine kinase   cce_2546   \n",
       "81   cce_1878              two-component sensor histidine kinase   cce_1878   \n",
       "83   cce_1535              two-component sensor histidine kinase   cce_1535   \n",
       "85   cce_0888              two-component sensor histidine kinase       nblS   \n",
       "90   cce_0257              two-component sensor histidine kinase   cce_0257   \n",
       "94   cce_3894              two-component sensor histidine kinase   cce_3894   \n",
       "96   cce_0969              two-component sensor histidine kinase   cce_0969   \n",
       "110  cce_1467              two-component sensor histidine kinase   cce_1467   \n",
       "116  cce_0297              two-component sensor histidine kinase   cce_0297   \n",
       "117  cce_3327              two-component sensor histidine kinase   cce_3327   \n",
       "134  cce_3520              two-component sensor histidine kinase   cce_3520   \n",
       "139  cce_4097       two-component sensor serine/threonine kinase   cce_4097   \n",
       "145  cce_1848     probable two-component sensor histidine kinase   cce_1848   \n",
       "\n",
       "           mi  \n",
       "6    0.398052  \n",
       "19   0.242130  \n",
       "25   0.224904  \n",
       "45   0.192331  \n",
       "48   0.188958  \n",
       "55   0.171895  \n",
       "56   0.164090  \n",
       "81   0.128905  \n",
       "83   0.125863  \n",
       "85   0.120969  \n",
       "90   0.102483  \n",
       "94   0.100764  \n",
       "96   0.097192  \n",
       "110  0.074606  \n",
       "116  0.063297  \n",
       "117  0.058697  \n",
       "134  0.039322  \n",
       "139  0.029500  \n",
       "145  0.009924  "
      ]
     },
     "execution_count": 41,
     "metadata": {},
     "output_type": "execute_result"
    }
   ],
   "source": [
    "cce_0678 = Interaction(twoComponentsExp,'cce_0678',mi_thresh=0)\n",
    "cce_0678.get_twoComponentSensors()"
   ]
  },
  {
   "cell_type": "markdown",
   "metadata": {},
   "source": [
    "## rpaA case study"
   ]
  },
  {
   "cell_type": "code",
   "execution_count": 42,
   "metadata": {},
   "outputs": [
    {
     "data": {
      "text/html": [
       "<div>\n",
       "<style scoped>\n",
       "    .dataframe tbody tr th:only-of-type {\n",
       "        vertical-align: middle;\n",
       "    }\n",
       "\n",
       "    .dataframe tbody tr th {\n",
       "        vertical-align: top;\n",
       "    }\n",
       "\n",
       "    .dataframe thead th {\n",
       "        text-align: right;\n",
       "    }\n",
       "</style>\n",
       "<table border=\"1\" class=\"dataframe\">\n",
       "  <thead>\n",
       "    <tr style=\"text-align: right;\">\n",
       "      <th></th>\n",
       "      <th>orf</th>\n",
       "      <th>function</th>\n",
       "      <th>CommonName</th>\n",
       "      <th>mi</th>\n",
       "    </tr>\n",
       "  </thead>\n",
       "  <tbody>\n",
       "    <tr>\n",
       "      <td>11</td>\n",
       "      <td>cce_4097</td>\n",
       "      <td>two-component sensor serine/threonine kinase</td>\n",
       "      <td>cce_4097</td>\n",
       "      <td>0.523945</td>\n",
       "    </tr>\n",
       "    <tr>\n",
       "      <td>17</td>\n",
       "      <td>cce_0220</td>\n",
       "      <td>two-component sensor histidine kinase</td>\n",
       "      <td>cce_0220</td>\n",
       "      <td>0.444084</td>\n",
       "    </tr>\n",
       "    <tr>\n",
       "      <td>18</td>\n",
       "      <td>cce_1280</td>\n",
       "      <td>two-component sensor histidine kinase</td>\n",
       "      <td>cce_1280</td>\n",
       "      <td>0.427351</td>\n",
       "    </tr>\n",
       "    <tr>\n",
       "      <td>19</td>\n",
       "      <td>cce_0297</td>\n",
       "      <td>two-component sensor histidine kinase</td>\n",
       "      <td>cce_0297</td>\n",
       "      <td>0.425929</td>\n",
       "    </tr>\n",
       "    <tr>\n",
       "      <td>27</td>\n",
       "      <td>cce_3379</td>\n",
       "      <td>two-component sensor histidine kinase</td>\n",
       "      <td>cce_3379</td>\n",
       "      <td>0.391207</td>\n",
       "    </tr>\n",
       "    <tr>\n",
       "      <td>30</td>\n",
       "      <td>cce_4426</td>\n",
       "      <td>two-component sensor histidine kinase</td>\n",
       "      <td>cce_4426</td>\n",
       "      <td>0.345770</td>\n",
       "    </tr>\n",
       "    <tr>\n",
       "      <td>48</td>\n",
       "      <td>cce_3327</td>\n",
       "      <td>two-component sensor histidine kinase</td>\n",
       "      <td>cce_3327</td>\n",
       "      <td>0.229004</td>\n",
       "    </tr>\n",
       "    <tr>\n",
       "      <td>64</td>\n",
       "      <td>cce_1519</td>\n",
       "      <td>two-component sensor histidine kinase</td>\n",
       "      <td>cce_1519</td>\n",
       "      <td>0.165512</td>\n",
       "    </tr>\n",
       "    <tr>\n",
       "      <td>102</td>\n",
       "      <td>cce_2546</td>\n",
       "      <td>probable two-component sensor histidine kinase</td>\n",
       "      <td>cce_2546</td>\n",
       "      <td>0.086544</td>\n",
       "    </tr>\n",
       "    <tr>\n",
       "      <td>103</td>\n",
       "      <td>cce_4204</td>\n",
       "      <td>two-component sensor histidine kinase</td>\n",
       "      <td>cce_4204</td>\n",
       "      <td>0.085351</td>\n",
       "    </tr>\n",
       "    <tr>\n",
       "      <td>107</td>\n",
       "      <td>cce_4006</td>\n",
       "      <td>two-component sensor histidine kinase</td>\n",
       "      <td>cce_4006</td>\n",
       "      <td>0.069514</td>\n",
       "    </tr>\n",
       "    <tr>\n",
       "      <td>117</td>\n",
       "      <td>cce_3520</td>\n",
       "      <td>two-component sensor histidine kinase</td>\n",
       "      <td>cce_3520</td>\n",
       "      <td>0.056484</td>\n",
       "    </tr>\n",
       "    <tr>\n",
       "      <td>118</td>\n",
       "      <td>cce_1535</td>\n",
       "      <td>two-component sensor histidine kinase</td>\n",
       "      <td>cce_1535</td>\n",
       "      <td>0.055126</td>\n",
       "    </tr>\n",
       "    <tr>\n",
       "      <td>129</td>\n",
       "      <td>cce_2232</td>\n",
       "      <td>two-component sensor histidine kinase</td>\n",
       "      <td>cce_2232</td>\n",
       "      <td>0.040215</td>\n",
       "    </tr>\n",
       "    <tr>\n",
       "      <td>131</td>\n",
       "      <td>cce_1737</td>\n",
       "      <td>two-component sensor histidine kinase</td>\n",
       "      <td>cce_1737</td>\n",
       "      <td>0.037437</td>\n",
       "    </tr>\n",
       "    <tr>\n",
       "      <td>138</td>\n",
       "      <td>cce_0969</td>\n",
       "      <td>two-component sensor histidine kinase</td>\n",
       "      <td>cce_0969</td>\n",
       "      <td>0.024540</td>\n",
       "    </tr>\n",
       "    <tr>\n",
       "      <td>147</td>\n",
       "      <td>cce_0164</td>\n",
       "      <td>two-component sensor histidine kinase</td>\n",
       "      <td>cce_0164</td>\n",
       "      <td>0.011246</td>\n",
       "    </tr>\n",
       "    <tr>\n",
       "      <td>152</td>\n",
       "      <td>cce_1878</td>\n",
       "      <td>two-component sensor histidine kinase</td>\n",
       "      <td>cce_1878</td>\n",
       "      <td>0.005790</td>\n",
       "    </tr>\n",
       "  </tbody>\n",
       "</table>\n",
       "</div>"
      ],
      "text/plain": [
       "          orf                                        function CommonName  \\\n",
       "11   cce_4097    two-component sensor serine/threonine kinase   cce_4097   \n",
       "17   cce_0220           two-component sensor histidine kinase   cce_0220   \n",
       "18   cce_1280           two-component sensor histidine kinase   cce_1280   \n",
       "19   cce_0297           two-component sensor histidine kinase   cce_0297   \n",
       "27   cce_3379           two-component sensor histidine kinase   cce_3379   \n",
       "30   cce_4426           two-component sensor histidine kinase   cce_4426   \n",
       "48   cce_3327           two-component sensor histidine kinase   cce_3327   \n",
       "64   cce_1519           two-component sensor histidine kinase   cce_1519   \n",
       "102  cce_2546  probable two-component sensor histidine kinase   cce_2546   \n",
       "103  cce_4204           two-component sensor histidine kinase   cce_4204   \n",
       "107  cce_4006           two-component sensor histidine kinase   cce_4006   \n",
       "117  cce_3520           two-component sensor histidine kinase   cce_3520   \n",
       "118  cce_1535           two-component sensor histidine kinase   cce_1535   \n",
       "129  cce_2232           two-component sensor histidine kinase   cce_2232   \n",
       "131  cce_1737           two-component sensor histidine kinase   cce_1737   \n",
       "138  cce_0969           two-component sensor histidine kinase   cce_0969   \n",
       "147  cce_0164           two-component sensor histidine kinase   cce_0164   \n",
       "152  cce_1878           two-component sensor histidine kinase   cce_1878   \n",
       "\n",
       "           mi  \n",
       "11   0.523945  \n",
       "17   0.444084  \n",
       "18   0.427351  \n",
       "19   0.425929  \n",
       "27   0.391207  \n",
       "30   0.345770  \n",
       "48   0.229004  \n",
       "64   0.165512  \n",
       "102  0.086544  \n",
       "103  0.085351  \n",
       "107  0.069514  \n",
       "117  0.056484  \n",
       "118  0.055126  \n",
       "129  0.040215  \n",
       "131  0.037437  \n",
       "138  0.024540  \n",
       "147  0.011246  \n",
       "152  0.005790  "
      ]
     },
     "execution_count": 42,
     "metadata": {},
     "output_type": "execute_result"
    }
   ],
   "source": [
    "cce_0298 = Interaction(twoComponentsExp,'cce_0298',mi_thresh=0)\n",
    "cce_0298.get_twoComponentSensors()"
   ]
  },
  {
   "cell_type": "markdown",
   "metadata": {},
   "source": [
    "## sasA case study"
   ]
  },
  {
   "cell_type": "code",
   "execution_count": 43,
   "metadata": {},
   "outputs": [
    {
     "data": {
      "text/html": [
       "<div>\n",
       "<style scoped>\n",
       "    .dataframe tbody tr th:only-of-type {\n",
       "        vertical-align: middle;\n",
       "    }\n",
       "\n",
       "    .dataframe tbody tr th {\n",
       "        vertical-align: top;\n",
       "    }\n",
       "\n",
       "    .dataframe thead th {\n",
       "        text-align: right;\n",
       "    }\n",
       "</style>\n",
       "<table border=\"1\" class=\"dataframe\">\n",
       "  <thead>\n",
       "    <tr style=\"text-align: right;\">\n",
       "      <th></th>\n",
       "      <th>orf</th>\n",
       "      <th>function</th>\n",
       "      <th>CommonName</th>\n",
       "      <th>mi</th>\n",
       "    </tr>\n",
       "  </thead>\n",
       "  <tbody>\n",
       "    <tr>\n",
       "      <td>3</td>\n",
       "      <td>cce_1952</td>\n",
       "      <td>two-component response regulator receiver protein</td>\n",
       "      <td>cce_1952</td>\n",
       "      <td>0.466670</td>\n",
       "    </tr>\n",
       "    <tr>\n",
       "      <td>11</td>\n",
       "      <td>cce_4002</td>\n",
       "      <td>two-component response regulator</td>\n",
       "      <td>rpaB</td>\n",
       "      <td>0.369447</td>\n",
       "    </tr>\n",
       "    <tr>\n",
       "      <td>12</td>\n",
       "      <td>cce_0712</td>\n",
       "      <td>two-component response regulator</td>\n",
       "      <td>cce_0712</td>\n",
       "      <td>0.339289</td>\n",
       "    </tr>\n",
       "    <tr>\n",
       "      <td>15</td>\n",
       "      <td>cce_4578</td>\n",
       "      <td>two-component response regulator</td>\n",
       "      <td>cce_4578</td>\n",
       "      <td>0.291141</td>\n",
       "    </tr>\n",
       "    <tr>\n",
       "      <td>19</td>\n",
       "      <td>cce_4714</td>\n",
       "      <td>two-component response regulator, NarL subfamily</td>\n",
       "      <td>cce_4714</td>\n",
       "      <td>0.275003</td>\n",
       "    </tr>\n",
       "    <tr>\n",
       "      <td>38</td>\n",
       "      <td>cce_2376</td>\n",
       "      <td>two-component response regulator</td>\n",
       "      <td>cce_2376</td>\n",
       "      <td>0.168753</td>\n",
       "    </tr>\n",
       "    <tr>\n",
       "      <td>42</td>\n",
       "      <td>cce_1695</td>\n",
       "      <td>two-component response regulator</td>\n",
       "      <td>cce_1695</td>\n",
       "      <td>0.154762</td>\n",
       "    </tr>\n",
       "    <tr>\n",
       "      <td>48</td>\n",
       "      <td>cce_2365</td>\n",
       "      <td>two-component response regulator</td>\n",
       "      <td>cce_2365</td>\n",
       "      <td>0.127119</td>\n",
       "    </tr>\n",
       "    <tr>\n",
       "      <td>57</td>\n",
       "      <td>cce_3895</td>\n",
       "      <td>two-component response regulator</td>\n",
       "      <td>cce_3895</td>\n",
       "      <td>0.097060</td>\n",
       "    </tr>\n",
       "    <tr>\n",
       "      <td>58</td>\n",
       "      <td>cce_3714</td>\n",
       "      <td>putative two-component system response regulator</td>\n",
       "      <td>cce_3714</td>\n",
       "      <td>0.094877</td>\n",
       "    </tr>\n",
       "    <tr>\n",
       "      <td>61</td>\n",
       "      <td>cce_3557</td>\n",
       "      <td>two-component response regulator</td>\n",
       "      <td>cce_3557</td>\n",
       "      <td>0.089785</td>\n",
       "    </tr>\n",
       "    <tr>\n",
       "      <td>63</td>\n",
       "      <td>cce_0678</td>\n",
       "      <td>two-component response regulator</td>\n",
       "      <td>cce_0678</td>\n",
       "      <td>0.084395</td>\n",
       "    </tr>\n",
       "    <tr>\n",
       "      <td>64</td>\n",
       "      <td>cce_0970</td>\n",
       "      <td>two-component transcription regulator</td>\n",
       "      <td>cce_0970</td>\n",
       "      <td>0.081385</td>\n",
       "    </tr>\n",
       "    <tr>\n",
       "      <td>71</td>\n",
       "      <td>cce_3190</td>\n",
       "      <td>two-component response regulator</td>\n",
       "      <td>cce_3190</td>\n",
       "      <td>0.067427</td>\n",
       "    </tr>\n",
       "    <tr>\n",
       "      <td>83</td>\n",
       "      <td>cce_0446</td>\n",
       "      <td>two-component response regulator</td>\n",
       "      <td>cce_0446</td>\n",
       "      <td>0.036147</td>\n",
       "    </tr>\n",
       "  </tbody>\n",
       "</table>\n",
       "</div>"
      ],
      "text/plain": [
       "         orf                                           function CommonName  \\\n",
       "3   cce_1952  two-component response regulator receiver protein   cce_1952   \n",
       "11  cce_4002                   two-component response regulator       rpaB   \n",
       "12  cce_0712                   two-component response regulator   cce_0712   \n",
       "15  cce_4578                   two-component response regulator   cce_4578   \n",
       "19  cce_4714   two-component response regulator, NarL subfamily   cce_4714   \n",
       "38  cce_2376                   two-component response regulator   cce_2376   \n",
       "42  cce_1695                   two-component response regulator   cce_1695   \n",
       "48  cce_2365                   two-component response regulator   cce_2365   \n",
       "57  cce_3895                   two-component response regulator   cce_3895   \n",
       "58  cce_3714   putative two-component system response regulator   cce_3714   \n",
       "61  cce_3557                   two-component response regulator   cce_3557   \n",
       "63  cce_0678                   two-component response regulator   cce_0678   \n",
       "64  cce_0970              two-component transcription regulator   cce_0970   \n",
       "71  cce_3190                   two-component response regulator   cce_3190   \n",
       "83  cce_0446                   two-component response regulator   cce_0446   \n",
       "\n",
       "          mi  \n",
       "3   0.466670  \n",
       "11  0.369447  \n",
       "12  0.339289  \n",
       "15  0.291141  \n",
       "19  0.275003  \n",
       "38  0.168753  \n",
       "42  0.154762  \n",
       "48  0.127119  \n",
       "57  0.097060  \n",
       "58  0.094877  \n",
       "61  0.089785  \n",
       "63  0.084395  \n",
       "64  0.081385  \n",
       "71  0.067427  \n",
       "83  0.036147  "
      ]
     },
     "execution_count": 43,
     "metadata": {},
     "output_type": "execute_result"
    }
   ],
   "source": [
    "cce_1751 = Interaction(twoComponentsExp,'cce_1751',mi_thresh=0)\n",
    "cce_1751.get_twoComponentRegulators()"
   ]
  },
  {
   "cell_type": "markdown",
   "metadata": {},
   "source": [
    "## rpaB case study"
   ]
  },
  {
   "cell_type": "code",
   "execution_count": 44,
   "metadata": {},
   "outputs": [
    {
     "data": {
      "text/html": [
       "<div>\n",
       "<style scoped>\n",
       "    .dataframe tbody tr th:only-of-type {\n",
       "        vertical-align: middle;\n",
       "    }\n",
       "\n",
       "    .dataframe tbody tr th {\n",
       "        vertical-align: top;\n",
       "    }\n",
       "\n",
       "    .dataframe thead th {\n",
       "        text-align: right;\n",
       "    }\n",
       "</style>\n",
       "<table border=\"1\" class=\"dataframe\">\n",
       "  <thead>\n",
       "    <tr style=\"text-align: right;\">\n",
       "      <th></th>\n",
       "      <th>orf</th>\n",
       "      <th>function</th>\n",
       "      <th>CommonName</th>\n",
       "      <th>mi</th>\n",
       "    </tr>\n",
       "  </thead>\n",
       "  <tbody>\n",
       "    <tr>\n",
       "      <td>0</td>\n",
       "      <td>cce_1775</td>\n",
       "      <td>nitrogen regulatory protein P-II</td>\n",
       "      <td>glnB</td>\n",
       "      <td>0.500830</td>\n",
       "    </tr>\n",
       "    <tr>\n",
       "      <td>1</td>\n",
       "      <td>cce_3901</td>\n",
       "      <td>putative serine/threonine protein kinase</td>\n",
       "      <td>cce_3901</td>\n",
       "      <td>0.476028</td>\n",
       "    </tr>\n",
       "    <tr>\n",
       "      <td>2</td>\n",
       "      <td>cce_4716</td>\n",
       "      <td>circadian clock protein</td>\n",
       "      <td>kaiC2</td>\n",
       "      <td>0.440840</td>\n",
       "    </tr>\n",
       "    <tr>\n",
       "      <td>3</td>\n",
       "      <td>cce_3420</td>\n",
       "      <td>pyruvate kinase</td>\n",
       "      <td>pykF1</td>\n",
       "      <td>0.434361</td>\n",
       "    </tr>\n",
       "    <tr>\n",
       "      <td>4</td>\n",
       "      <td>cce_1878</td>\n",
       "      <td>two-component sensor histidine kinase</td>\n",
       "      <td>cce_1878</td>\n",
       "      <td>0.426623</td>\n",
       "    </tr>\n",
       "    <tr>\n",
       "      <td>5</td>\n",
       "      <td>cce_4714</td>\n",
       "      <td>two-component response regulator, NarL subfamily</td>\n",
       "      <td>cce_4714</td>\n",
       "      <td>0.384725</td>\n",
       "    </tr>\n",
       "    <tr>\n",
       "      <td>6</td>\n",
       "      <td>cce_1751</td>\n",
       "      <td>adaptive-response sensory histidine kinase</td>\n",
       "      <td>sasA</td>\n",
       "      <td>0.369447</td>\n",
       "    </tr>\n",
       "    <tr>\n",
       "      <td>7</td>\n",
       "      <td>cce_0921</td>\n",
       "      <td>ribose-phosphate pyrophosphokinase</td>\n",
       "      <td>prsA</td>\n",
       "      <td>0.368488</td>\n",
       "    </tr>\n",
       "    <tr>\n",
       "      <td>8</td>\n",
       "      <td>cce_2505</td>\n",
       "      <td>two-component hybrid sensor and regulator</td>\n",
       "      <td>cce_2505</td>\n",
       "      <td>0.368191</td>\n",
       "    </tr>\n",
       "    <tr>\n",
       "      <td>9</td>\n",
       "      <td>cce_3723</td>\n",
       "      <td>two-component hybrid sensor and regulator</td>\n",
       "      <td>cce_3723</td>\n",
       "      <td>0.344679</td>\n",
       "    </tr>\n",
       "  </tbody>\n",
       "</table>\n",
       "</div>"
      ],
      "text/plain": [
       "        orf                                          function CommonName  \\\n",
       "0  cce_1775                  nitrogen regulatory protein P-II       glnB   \n",
       "1  cce_3901          putative serine/threonine protein kinase   cce_3901   \n",
       "2  cce_4716                           circadian clock protein      kaiC2   \n",
       "3  cce_3420                                   pyruvate kinase      pykF1   \n",
       "4  cce_1878             two-component sensor histidine kinase   cce_1878   \n",
       "5  cce_4714  two-component response regulator, NarL subfamily   cce_4714   \n",
       "6  cce_1751        adaptive-response sensory histidine kinase       sasA   \n",
       "7  cce_0921                ribose-phosphate pyrophosphokinase       prsA   \n",
       "8  cce_2505         two-component hybrid sensor and regulator   cce_2505   \n",
       "9  cce_3723         two-component hybrid sensor and regulator   cce_3723   \n",
       "\n",
       "         mi  \n",
       "0  0.500830  \n",
       "1  0.476028  \n",
       "2  0.440840  \n",
       "3  0.434361  \n",
       "4  0.426623  \n",
       "5  0.384725  \n",
       "6  0.369447  \n",
       "7  0.368488  \n",
       "8  0.368191  \n",
       "9  0.344679  "
      ]
     },
     "execution_count": 44,
     "metadata": {},
     "output_type": "execute_result"
    }
   ],
   "source": [
    "cce_4002 = Interaction(twoComponentsExp,'cce_4002',mi_thresh=0)\n",
    "cce_4002.df.head(10)"
   ]
  },
  {
   "cell_type": "markdown",
   "metadata": {},
   "source": [
    "# Verifying Previous Conclusions\n",
    "\n",
    "1. *cce_1983/aphA might be a photoreceptor that regulates the clock genes and the other TFs.* - Seen here as well.\n",
    "2. *cce_0888/nblS is another interesting component that interacts with the clock genes. In 7942, it is shown to be a gene involved in photosynthesis related gene expression during high light and nutrient stress.* - Seen here as well.\n",
    "3. *In the previous literature review study report, cce_0678 was proposed to interact with the RubisCo genes. In this study, it was shown that there is a very high mutual information score between cce_0678 and the probable photoreceptor aphA discussed above. This further highlights it's importance as a regulator.* - Seen here as well.\n",
    "4. *rpaA and rpaB are equally important in cyanothece signaling network according to this analysis. - Seen here as well.*\n",
    "5. *sasA may not be the kinase that interacts with rpaA in cyanothece. On the otherhand, rpaB may be the regulator that interacts with sasA.* - Seen here as well. \n",
    "6. *The KaiB copies may be present not just to maintain robustness but they may play important roles in the signaling network.* - Seen here as well.\n",
    "\n",
    "# New Conclusions\n",
    "\n",
    "1. We are missing some interactions because of the frequency of data collection in each case. We need more frequent data. Otherwise we cannot postulate newer interactions. At this moment our analysis is extremely biased towards those interactions which have already been captured in other cyanobacteria like 7942 or nostoc. \n",
    "2. The interaction of the clock genes are not the same and extremely erratic. We need more frequent data to conclude anything about the clock genes. However, it is clear that the clock gene copies are present not just to maintain robustness."
   ]
  }
 ],
 "metadata": {
  "kernelspec": {
   "display_name": "Python 3",
   "language": "python",
   "name": "python3"
  },
  "language_info": {
   "codemirror_mode": {
    "name": "ipython",
    "version": 3
   },
   "file_extension": ".py",
   "mimetype": "text/x-python",
   "name": "python",
   "nbconvert_exporter": "python",
   "pygments_lexer": "ipython3",
   "version": "3.7.4"
  }
 },
 "nbformat": 4,
 "nbformat_minor": 2
}
