{
 "cells": [
  {
   "cell_type": "code",
   "execution_count": 1,
   "metadata": {},
   "outputs": [],
   "source": [
    "from patB_nifH_Analysis_file import *"
   ]
  },
  {
   "cell_type": "code",
   "execution_count": 2,
   "metadata": {},
   "outputs": [],
   "source": [
    "import docx as dc\n",
    "from docx.shared import Inches"
   ]
  },
  {
   "cell_type": "code",
   "execution_count": 3,
   "metadata": {},
   "outputs": [],
   "source": [
    "doc = dc.Document()\n",
    "sections = doc.sections\n",
    "section = sections[0]\n",
    "section.left_margin,section.right_margin,section.bottom_margin,section.top_margin = \\\n",
    "                            tuple(map(Inches,[0.5,0.5,0.5,0.5]))"
   ]
  },
  {
   "cell_type": "markdown",
   "metadata": {},
   "source": [
    "# Results and Conclusions\n",
    "\n",
    "## patB"
   ]
  },
  {
   "cell_type": "markdown",
   "metadata": {},
   "source": [
    "1. The top 25 genes whose expression has been **repressed**, arranged according to the magnitude of their fold change, is given below in Appendix A. Most of them are part of the nif gene cluster which is in accordance to our proposition that patB regulates the nif genes. The list of the gene names along with their fold change with respect to wild-type and mutual information score with patB gene is given in Appendix A.\n",
    "\n",
    "\n",
    "2. The top 25 genes whose expression has been **induced**, arranged according to the magnitude of their fold change, is given in Appendix B. The ones with mutual information score of 0 with patB are particularly interesting since they are not correlated with patB in normal environmental conditions but they are induced when patB is knocked-out. The most interesting ones are the transcriptional regulator from the TetR family, cce_0974 and the phycocyanin unit, apcA, apcB, cpcA and cpcB. The TetR family of transcriptional regulators have been shown to respond to environmental insults; Ref: https://www.ncbi.nlm.nih.gov/pmc/articles/PMC1197418/. The list of the gene names along with their fold change with respect to wild-type and mutual information score with patB gene is given below in Appendix A.\n",
    "\n",
    "\n",
    "3. Amongst the sigma factors, cce_2337 and sigH have shown negative fold change while sigG and sigE have shown positive fold change values. SigE has been proposed to maintain the balance of carnon and nitrogen metabolism; Ref: https://www.ncbi.nlm.nih.gov/pmc/articles/PMC2758279/.\n",
    "\n",
    "\n",
    "4. Amongst the clock genes, kaiB3 is repressed while kaiB4 and kaiA have shown induced expression levels. \n",
    "\n",
    "\n",
    "5. Amongst the regulators, the Fur family transcriptional regulator, cce_3127 is repressed while the ArsR family regulator, cce_4396 is induced. "
   ]
  },
  {
   "cell_type": "markdown",
   "metadata": {},
   "source": [
    "## nifH"
   ]
  },
  {
   "cell_type": "markdown",
   "metadata": {},
   "source": [
    "1. The top 25 genes whose expression has been **repressed**, arranged according to the magnitude of their fold change, is given below in Appendix B. Most of them are part of the nif gene cluster which makes sense because we would expect the other nif genes to be affected by nifH knockout. The list of the gene names along with their fold change with respect to wild-type and mutual information score with nifH gene is given in Appendix B.\n",
    "\n",
    "\n",
    "2. The top 25 genes whose expression has been **induced**, arranged according to the magnitude of their fold change, is given in Appendix B. The most interesting one amongst them is aphA which has shown a very high fold change due to the knockout. The list of the gene names along with their fold change with respect to wild-type and mutual information score with nifH gene is given below in Appendix B.\n",
    "\n",
    "\n",
    "3. Amongst the sigma factors, cce_2337 and sigH have again shown a negative fold change while sigE have shown positive fold change values like in the patB case. \n",
    "\n",
    "\n",
    "4. Amongst the clock genes, kaiA is repressed while kaiB4 and kaiB3 have shown induced expression levels. It is worth noticing that kaiB3 was repressed in patB's case. \n",
    "\n",
    "\n",
    "5. Amongst the regulators, the most interesting fold change was observed in patB which was repressed due to the nifH knockout. Another interesting gene which was induced is glnB. "
   ]
  },
  {
   "cell_type": "code",
   "execution_count": 4,
   "metadata": {},
   "outputs": [],
   "source": [
    "# Title\n",
    "doc.add_heading('Results and Conclusions',0)\n",
    "\n",
    "\n",
    "## SubHeading 1 - patB\n",
    "doc.add_heading('patB',level=1)\n",
    "\n",
    "p_patB1 = doc.add_paragraph(\"The top 25 genes whose expression has been repressed, arranged according to the magnitude of their fold change, is given below in Appendix A. Most of them are part of the nif gene cluster which is in accordance to our proposition that patB regulates the nif genes. The list of the gene names along with their fold change with respect to wild-type and mutual information score with patB gene is given in Appendix A.\", style='List Number')\n",
    "\n",
    "p_patB2 = doc.add_paragraph(\"The top 25 genes whose expression has been induced, arranged according to the magnitude of their fold change, is given in Appendix B. The ones with mutual information score of 0 with patB are particularly interesting since they are not correlated with patB in normal environmental conditions but they are induced when patB is knocked-out. The most interesting ones are the transcriptional regulator from the TetR family, cce_0974 and the phycocyanin unit, apcA, apcB, cpcA and cpcB. The TetR family of transcriptional regulators have been shown to respond to environmental insults; Ref: https://www.ncbi.nlm.nih.gov/pmc/articles/PMC1197418/. The list of the gene names along with their fold change with respect to wild-type and mutual information score with patB gene is given below in Appendix A.\", style='List Number')\n",
    "\n",
    "p_patB3 = doc.add_paragraph(\"Amongst the sigma factors, cce_2337 and sigH have shown negative fold change while sigG and sigE have shown positive fold change values. SigE has been proposed to maintain the balance of carnon and nitrogen metabolism; Ref: https://www.ncbi.nlm.nih.gov/pmc/articles/PMC2758279/.\", style='List Number')\n",
    "\n",
    "p_patB4 = doc.add_paragraph(\"Amongst the clock genes, kaiB3 is repressed while kaiB4 and kaiA have shown induced expression levels.\", style='List Number')\n",
    "\n",
    "p_patB5 = doc.add_paragraph(\"Amongst the regulators, the Fur family transcriptional regulator, cce_3127 is repressed while the ArsR family regulator, cce_4396 is induced. \", style='List Number')\n",
    "\n",
    "## SubHeading 2 - nifH\n",
    "doc.add_heading('nifH',level=1)\n",
    "\n",
    "p_nifH1 = doc.add_paragraph(\"The top 25 genes whose expression has been repressed, arranged according to the magnitude of their fold change, is given below in Appendix B. Most of them are part of the nif gene cluster which makes sense because we would expect the other nif genes to be affected by nifH knockout. The list of the gene names along with their fold change with respect to wild-type and mutual information score with nifH gene is given in Appendix B.\", style='List Number')\n",
    "\n",
    "p_nifH2 = doc.add_paragraph(\"The top 25 genes whose expression has been induced, arranged according to the magnitude of their fold change, is given in Appendix B. The most interesting one amongst them is aphA which has shown a very high fold change due to the knockout. The list of the gene names along with their fold change with respect to wild-type and mutual information score with nifH gene is given below in Appendix B.\", style='List Number')\n",
    "\n",
    "p_nifH3 = doc.add_paragraph(\"Amongst the sigma factors, cce_2337 and sigH have again shown a negative fold change while sigE have shown positive fold change values like in the patB case.\", style='List Number')\n",
    "\n",
    "p_nifH4 = doc.add_paragraph(\"Amongst the clock genes, kaiA is repressed while kaiB4 and kaiB3 have shown induced expression levels. It is worth noticing that kaiB3 was repressed in patB's case.\", style='List Number')\n",
    "\n",
    "p_nifH5 = doc.add_paragraph(\"Amongst the regulators, the most interesting fold change was observed in patB which was repressed due to the nifH knockout. Another interesting gene which was induced is glnB.\", style='List Number')"
   ]
  },
  {
   "cell_type": "code",
   "execution_count": 5,
   "metadata": {},
   "outputs": [
    {
     "data": {
      "text/plain": [
       "<docx.text.paragraph.Paragraph at 0x1a23141310>"
      ]
     },
     "execution_count": 5,
     "metadata": {},
     "output_type": "execute_result"
    }
   ],
   "source": [
    "doc.add_page_break()"
   ]
  },
  {
   "cell_type": "code",
   "execution_count": 6,
   "metadata": {},
   "outputs": [],
   "source": [
    "# add table function \n",
    "\n",
    "def add_table_function(df,doc_obj=doc):\n",
    "    \n",
    "    table = doc_obj.add_table(rows=1,cols=df.shape[1])\n",
    "    \n",
    "    headers = list(df.columns)\n",
    "    hdr_cells = table.rows[0].cells\n",
    "    for i in range(len(headers)):\n",
    "        run = hdr_cells[i].paragraphs[0].add_run(headers[i])\n",
    "        run.bold=True\n",
    "        \n",
    "        \n",
    "    table_values = df.values\n",
    "    for row_idx in range(len(table_values)):\n",
    "        row_cells = table.add_row().cells\n",
    "        for col_idx in range(len(table_values[row_idx])):\n",
    "            val = table_values[row_idx,col_idx]\n",
    "            if type(val) == float:\n",
    "                val = round(val,4)\n",
    "            row_cells[col_idx].text = str(val)\n",
    "    \n",
    "    return"
   ]
  },
  {
   "cell_type": "markdown",
   "metadata": {},
   "source": [
    "# Appendix A"
   ]
  },
  {
   "cell_type": "code",
   "execution_count": 7,
   "metadata": {},
   "outputs": [
    {
     "data": {
      "text/plain": [
       "<docx.text.paragraph.Paragraph at 0x1a232d0d10>"
      ]
     },
     "execution_count": 7,
     "metadata": {},
     "output_type": "execute_result"
    }
   ],
   "source": [
    "doc.add_heading('Appendix A',1)"
   ]
  },
  {
   "cell_type": "markdown",
   "metadata": {},
   "source": [
    "## Part 1: Top 25 Negative Fold Changed Genes"
   ]
  },
  {
   "cell_type": "code",
   "execution_count": 8,
   "metadata": {},
   "outputs": [
    {
     "data": {
      "text/plain": [
       "<docx.text.paragraph.Paragraph at 0x1a232d0c10>"
      ]
     },
     "execution_count": 8,
     "metadata": {},
     "output_type": "execute_result"
    }
   ],
   "source": [
    "doc.add_heading('Part 1: Top 25 Negative Fold Changed Genes',2)"
   ]
  },
  {
   "cell_type": "code",
   "execution_count": 9,
   "metadata": {},
   "outputs": [
    {
     "data": {
      "text/html": [
       "<div>\n",
       "<style scoped>\n",
       "    .dataframe tbody tr th:only-of-type {\n",
       "        vertical-align: middle;\n",
       "    }\n",
       "\n",
       "    .dataframe tbody tr th {\n",
       "        vertical-align: top;\n",
       "    }\n",
       "\n",
       "    .dataframe thead th {\n",
       "        text-align: right;\n",
       "    }\n",
       "</style>\n",
       "<table border=\"1\" class=\"dataframe\">\n",
       "  <thead>\n",
       "    <tr style=\"text-align: right;\">\n",
       "      <th></th>\n",
       "      <th>orf</th>\n",
       "      <th>fold_change</th>\n",
       "      <th>function</th>\n",
       "      <th>CommonName</th>\n",
       "      <th>mi</th>\n",
       "    </tr>\n",
       "  </thead>\n",
       "  <tbody>\n",
       "    <tr>\n",
       "      <td>0</td>\n",
       "      <td>cce_0553</td>\n",
       "      <td>-11.442278</td>\n",
       "      <td>serine O-acetyltransferase</td>\n",
       "      <td>cysE2</td>\n",
       "      <td>0.739322</td>\n",
       "    </tr>\n",
       "    <tr>\n",
       "      <td>346</td>\n",
       "      <td>cce_5300</td>\n",
       "      <td>-10.514506</td>\n",
       "      <td>probable integrase/recombinase</td>\n",
       "      <td>cce_5300</td>\n",
       "      <td>0.063098</td>\n",
       "    </tr>\n",
       "    <tr>\n",
       "      <td>176</td>\n",
       "      <td>cce_5304</td>\n",
       "      <td>-9.851966</td>\n",
       "      <td>hypothetical protein</td>\n",
       "      <td>cce_5304</td>\n",
       "      <td>0.662139</td>\n",
       "    </tr>\n",
       "    <tr>\n",
       "      <td>448</td>\n",
       "      <td>cce_5310</td>\n",
       "      <td>-9.455302</td>\n",
       "      <td>hypothetical protein</td>\n",
       "      <td>cce_5310</td>\n",
       "      <td>0.805988</td>\n",
       "    </tr>\n",
       "    <tr>\n",
       "      <td>464</td>\n",
       "      <td>cce_5301</td>\n",
       "      <td>-9.202687</td>\n",
       "      <td>hypothetical protein</td>\n",
       "      <td>cce_5301</td>\n",
       "      <td>0.000000</td>\n",
       "    </tr>\n",
       "    <tr>\n",
       "      <td>548</td>\n",
       "      <td>cce_5309</td>\n",
       "      <td>-8.669706</td>\n",
       "      <td>hypothetical protein</td>\n",
       "      <td>cce_5309</td>\n",
       "      <td>0.247027</td>\n",
       "    </tr>\n",
       "    <tr>\n",
       "      <td>1</td>\n",
       "      <td>cce_0558</td>\n",
       "      <td>-8.113775</td>\n",
       "      <td>iron-sulfur cluster assembly protein</td>\n",
       "      <td>nifU</td>\n",
       "      <td>0.736544</td>\n",
       "    </tr>\n",
       "    <tr>\n",
       "      <td>2</td>\n",
       "      <td>cce_0563</td>\n",
       "      <td>-8.049914</td>\n",
       "      <td>nitrogenase molybdenum-iron cofactor biosynthe...</td>\n",
       "      <td>nifE</td>\n",
       "      <td>0.692100</td>\n",
       "    </tr>\n",
       "    <tr>\n",
       "      <td>3</td>\n",
       "      <td>cce_0561</td>\n",
       "      <td>-8.007431</td>\n",
       "      <td>nitrogenase molybdenum-iron protein beta chain</td>\n",
       "      <td>nifK</td>\n",
       "      <td>0.832377</td>\n",
       "    </tr>\n",
       "    <tr>\n",
       "      <td>4</td>\n",
       "      <td>cce_0564</td>\n",
       "      <td>-7.895628</td>\n",
       "      <td>nitrogenase molybdenum-iron cofactor biosynthe...</td>\n",
       "      <td>nifN</td>\n",
       "      <td>0.732377</td>\n",
       "    </tr>\n",
       "    <tr>\n",
       "      <td>5</td>\n",
       "      <td>cce_0555</td>\n",
       "      <td>-7.809400</td>\n",
       "      <td>hypothetical protein</td>\n",
       "      <td>cce_0555</td>\n",
       "      <td>0.761544</td>\n",
       "    </tr>\n",
       "    <tr>\n",
       "      <td>6</td>\n",
       "      <td>cce_0556</td>\n",
       "      <td>-7.769557</td>\n",
       "      <td>4Fe-4S ferredoxin</td>\n",
       "      <td>cce_0556</td>\n",
       "      <td>0.822655</td>\n",
       "    </tr>\n",
       "    <tr>\n",
       "      <td>7</td>\n",
       "      <td>cce_0560</td>\n",
       "      <td>-7.592669</td>\n",
       "      <td>nitrogenase molybdenum-iron protein alpha chain</td>\n",
       "      <td>nifD</td>\n",
       "      <td>0.792100</td>\n",
       "    </tr>\n",
       "    <tr>\n",
       "      <td>8</td>\n",
       "      <td>cce_0557</td>\n",
       "      <td>-7.589244</td>\n",
       "      <td>nitrogenase cofactor synthesis protein</td>\n",
       "      <td>nifS</td>\n",
       "      <td>0.729600</td>\n",
       "    </tr>\n",
       "    <tr>\n",
       "      <td>12</td>\n",
       "      <td>cce_0562</td>\n",
       "      <td>-7.564148</td>\n",
       "      <td>hypothetical protein</td>\n",
       "      <td>cce_0562</td>\n",
       "      <td>0.782377</td>\n",
       "    </tr>\n",
       "    <tr>\n",
       "      <td>11</td>\n",
       "      <td>cce_0559</td>\n",
       "      <td>-7.559985</td>\n",
       "      <td>nitrogenase iron protein</td>\n",
       "      <td>nifH</td>\n",
       "      <td>0.874044</td>\n",
       "    </tr>\n",
       "    <tr>\n",
       "      <td>9</td>\n",
       "      <td>cce_0554</td>\n",
       "      <td>-7.470252</td>\n",
       "      <td>nitrogenase cofactor biosynthesis protein</td>\n",
       "      <td>nifB</td>\n",
       "      <td>0.819877</td>\n",
       "    </tr>\n",
       "    <tr>\n",
       "      <td>10</td>\n",
       "      <td>cce_0565</td>\n",
       "      <td>-7.270134</td>\n",
       "      <td>probable nitrogen fixation protein</td>\n",
       "      <td>nifX</td>\n",
       "      <td>0.754600</td>\n",
       "    </tr>\n",
       "    <tr>\n",
       "      <td>267</td>\n",
       "      <td>cce_5303</td>\n",
       "      <td>-7.109080</td>\n",
       "      <td>hypothetical protein</td>\n",
       "      <td>cce_5303</td>\n",
       "      <td>0.127351</td>\n",
       "    </tr>\n",
       "    <tr>\n",
       "      <td>885</td>\n",
       "      <td>cce_5306</td>\n",
       "      <td>-6.887250</td>\n",
       "      <td>hypothetical protein</td>\n",
       "      <td>cce_5306</td>\n",
       "      <td>0.000000</td>\n",
       "    </tr>\n",
       "    <tr>\n",
       "      <td>14</td>\n",
       "      <td>cce_0549</td>\n",
       "      <td>-6.593598</td>\n",
       "      <td>homocitrate synthase</td>\n",
       "      <td>nifV</td>\n",
       "      <td>0.735155</td>\n",
       "    </tr>\n",
       "    <tr>\n",
       "      <td>1068</td>\n",
       "      <td>cce_5307</td>\n",
       "      <td>-6.247834</td>\n",
       "      <td>hypothetical protein</td>\n",
       "      <td>cce_5307</td>\n",
       "      <td>0.398746</td>\n",
       "    </tr>\n",
       "    <tr>\n",
       "      <td>23</td>\n",
       "      <td>cce_0550</td>\n",
       "      <td>-6.236064</td>\n",
       "      <td>conserved hypothetical protein</td>\n",
       "      <td>cce_0550</td>\n",
       "      <td>0.696266</td>\n",
       "    </tr>\n",
       "    <tr>\n",
       "      <td>57</td>\n",
       "      <td>cce_5302</td>\n",
       "      <td>-6.182524</td>\n",
       "      <td>hypothetical protein</td>\n",
       "      <td>cce_5302</td>\n",
       "      <td>0.203905</td>\n",
       "    </tr>\n",
       "    <tr>\n",
       "      <td>25</td>\n",
       "      <td>cce_0548</td>\n",
       "      <td>-6.013562</td>\n",
       "      <td>iron-sulfur cofactor synthesis protein</td>\n",
       "      <td>nifZ</td>\n",
       "      <td>0.782377</td>\n",
       "    </tr>\n",
       "  </tbody>\n",
       "</table>\n",
       "</div>"
      ],
      "text/plain": [
       "           orf  fold_change  \\\n",
       "0     cce_0553   -11.442278   \n",
       "346   cce_5300   -10.514506   \n",
       "176   cce_5304    -9.851966   \n",
       "448   cce_5310    -9.455302   \n",
       "464   cce_5301    -9.202687   \n",
       "548   cce_5309    -8.669706   \n",
       "1     cce_0558    -8.113775   \n",
       "2     cce_0563    -8.049914   \n",
       "3     cce_0561    -8.007431   \n",
       "4     cce_0564    -7.895628   \n",
       "5     cce_0555    -7.809400   \n",
       "6     cce_0556    -7.769557   \n",
       "7     cce_0560    -7.592669   \n",
       "8     cce_0557    -7.589244   \n",
       "12    cce_0562    -7.564148   \n",
       "11    cce_0559    -7.559985   \n",
       "9     cce_0554    -7.470252   \n",
       "10    cce_0565    -7.270134   \n",
       "267   cce_5303    -7.109080   \n",
       "885   cce_5306    -6.887250   \n",
       "14    cce_0549    -6.593598   \n",
       "1068  cce_5307    -6.247834   \n",
       "23    cce_0550    -6.236064   \n",
       "57    cce_5302    -6.182524   \n",
       "25    cce_0548    -6.013562   \n",
       "\n",
       "                                               function CommonName        mi  \n",
       "0                            serine O-acetyltransferase      cysE2  0.739322  \n",
       "346                      probable integrase/recombinase   cce_5300  0.063098  \n",
       "176                                hypothetical protein   cce_5304  0.662139  \n",
       "448                                hypothetical protein   cce_5310  0.805988  \n",
       "464                                hypothetical protein   cce_5301  0.000000  \n",
       "548                                hypothetical protein   cce_5309  0.247027  \n",
       "1                  iron-sulfur cluster assembly protein       nifU  0.736544  \n",
       "2     nitrogenase molybdenum-iron cofactor biosynthe...       nifE  0.692100  \n",
       "3        nitrogenase molybdenum-iron protein beta chain       nifK  0.832377  \n",
       "4     nitrogenase molybdenum-iron cofactor biosynthe...       nifN  0.732377  \n",
       "5                                  hypothetical protein   cce_0555  0.761544  \n",
       "6                                     4Fe-4S ferredoxin   cce_0556  0.822655  \n",
       "7       nitrogenase molybdenum-iron protein alpha chain       nifD  0.792100  \n",
       "8                nitrogenase cofactor synthesis protein       nifS  0.729600  \n",
       "12                                 hypothetical protein   cce_0562  0.782377  \n",
       "11                             nitrogenase iron protein       nifH  0.874044  \n",
       "9             nitrogenase cofactor biosynthesis protein       nifB  0.819877  \n",
       "10                   probable nitrogen fixation protein       nifX  0.754600  \n",
       "267                                hypothetical protein   cce_5303  0.127351  \n",
       "885                                hypothetical protein   cce_5306  0.000000  \n",
       "14                                 homocitrate synthase       nifV  0.735155  \n",
       "1068                               hypothetical protein   cce_5307  0.398746  \n",
       "23                       conserved hypothetical protein   cce_0550  0.696266  \n",
       "57                                 hypothetical protein   cce_5302  0.203905  \n",
       "25               iron-sulfur cofactor synthesis protein       nifZ  0.782377  "
      ]
     },
     "execution_count": 9,
     "metadata": {},
     "output_type": "execute_result"
    }
   ],
   "source": [
    "add_table_function(top_fold_changed_genes(patB_info,direction='negative'))\n",
    "top_fold_changed_genes(patB_info,direction='negative')"
   ]
  },
  {
   "cell_type": "markdown",
   "metadata": {},
   "source": [
    "## Part 2: Top 25 Positive Fold Changed Genes"
   ]
  },
  {
   "cell_type": "code",
   "execution_count": 10,
   "metadata": {},
   "outputs": [
    {
     "data": {
      "text/plain": [
       "<docx.text.paragraph.Paragraph at 0x1a23383890>"
      ]
     },
     "execution_count": 10,
     "metadata": {},
     "output_type": "execute_result"
    }
   ],
   "source": [
    "doc.add_heading('Part 2: Top 25 Positive Fold Changed Genes',2)"
   ]
  },
  {
   "cell_type": "code",
   "execution_count": 11,
   "metadata": {},
   "outputs": [
    {
     "data": {
      "text/html": [
       "<div>\n",
       "<style scoped>\n",
       "    .dataframe tbody tr th:only-of-type {\n",
       "        vertical-align: middle;\n",
       "    }\n",
       "\n",
       "    .dataframe tbody tr th {\n",
       "        vertical-align: top;\n",
       "    }\n",
       "\n",
       "    .dataframe thead th {\n",
       "        text-align: right;\n",
       "    }\n",
       "</style>\n",
       "<table border=\"1\" class=\"dataframe\">\n",
       "  <thead>\n",
       "    <tr style=\"text-align: right;\">\n",
       "      <th></th>\n",
       "      <th>orf</th>\n",
       "      <th>fold_change</th>\n",
       "      <th>function</th>\n",
       "      <th>CommonName</th>\n",
       "      <th>mi</th>\n",
       "    </tr>\n",
       "  </thead>\n",
       "  <tbody>\n",
       "    <tr>\n",
       "      <td>1545</td>\n",
       "      <td>cce_0974</td>\n",
       "      <td>4.292311</td>\n",
       "      <td>transcriptional Regulator, TetR family</td>\n",
       "      <td>cce_0974</td>\n",
       "      <td>0.000000</td>\n",
       "    </tr>\n",
       "    <tr>\n",
       "      <td>5195</td>\n",
       "      <td>cce_3132</td>\n",
       "      <td>4.198740</td>\n",
       "      <td>unknown</td>\n",
       "      <td>cce_3132</td>\n",
       "      <td>0.000000</td>\n",
       "    </tr>\n",
       "    <tr>\n",
       "      <td>517</td>\n",
       "      <td>cce_2635</td>\n",
       "      <td>4.148493</td>\n",
       "      <td>hypothetical protein</td>\n",
       "      <td>cce_2635</td>\n",
       "      <td>0.556584</td>\n",
       "    </tr>\n",
       "    <tr>\n",
       "      <td>5194</td>\n",
       "      <td>cce_1360</td>\n",
       "      <td>3.979413</td>\n",
       "      <td>hypothetical protein</td>\n",
       "      <td>cce_1360</td>\n",
       "      <td>0.000000</td>\n",
       "    </tr>\n",
       "    <tr>\n",
       "      <td>5193</td>\n",
       "      <td>cce_1459</td>\n",
       "      <td>3.973594</td>\n",
       "      <td>unknown</td>\n",
       "      <td>cce_1459</td>\n",
       "      <td>0.197754</td>\n",
       "    </tr>\n",
       "    <tr>\n",
       "      <td>1862</td>\n",
       "      <td>cce_4789</td>\n",
       "      <td>3.645460</td>\n",
       "      <td>hypothetical protein</td>\n",
       "      <td>cce_4789</td>\n",
       "      <td>0.725433</td>\n",
       "    </tr>\n",
       "    <tr>\n",
       "      <td>53</td>\n",
       "      <td>cce_2619</td>\n",
       "      <td>3.598078</td>\n",
       "      <td>ABC transporter, substrate binding protein, po...</td>\n",
       "      <td>cce_2619</td>\n",
       "      <td>0.294977</td>\n",
       "    </tr>\n",
       "    <tr>\n",
       "      <td>162</td>\n",
       "      <td>cce_0528</td>\n",
       "      <td>3.587099</td>\n",
       "      <td>hypothetical protein</td>\n",
       "      <td>cce_0528</td>\n",
       "      <td>0.255063</td>\n",
       "    </tr>\n",
       "    <tr>\n",
       "      <td>1179</td>\n",
       "      <td>cce_3054</td>\n",
       "      <td>3.572080</td>\n",
       "      <td>putative biopolymer transport protein</td>\n",
       "      <td>exbB2</td>\n",
       "      <td>0.000000</td>\n",
       "    </tr>\n",
       "    <tr>\n",
       "      <td>34</td>\n",
       "      <td>cce_4140</td>\n",
       "      <td>3.563909</td>\n",
       "      <td>phosphoribosylformimino-5-aminoimidazole carbo...</td>\n",
       "      <td>hisA</td>\n",
       "      <td>0.138330</td>\n",
       "    </tr>\n",
       "    <tr>\n",
       "      <td>229</td>\n",
       "      <td>cce_2909</td>\n",
       "      <td>3.542357</td>\n",
       "      <td>allophycocyanin beta subunit</td>\n",
       "      <td>apcB</td>\n",
       "      <td>0.054996</td>\n",
       "    </tr>\n",
       "    <tr>\n",
       "      <td>80</td>\n",
       "      <td>cce_3146</td>\n",
       "      <td>3.524015</td>\n",
       "      <td>geranylgeranyl hydrogenase</td>\n",
       "      <td>chlP</td>\n",
       "      <td>0.351822</td>\n",
       "    </tr>\n",
       "    <tr>\n",
       "      <td>5188</td>\n",
       "      <td>cce_1985</td>\n",
       "      <td>3.504618</td>\n",
       "      <td>carbohydrate kinase, thermoresistant glucokinase</td>\n",
       "      <td>cce_1985</td>\n",
       "      <td>0.000000</td>\n",
       "    </tr>\n",
       "    <tr>\n",
       "      <td>100</td>\n",
       "      <td>cce_2988</td>\n",
       "      <td>3.475597</td>\n",
       "      <td>hypothetical protein</td>\n",
       "      <td>cce_2988</td>\n",
       "      <td>0.359758</td>\n",
       "    </tr>\n",
       "    <tr>\n",
       "      <td>110</td>\n",
       "      <td>cce_0527</td>\n",
       "      <td>3.470725</td>\n",
       "      <td>unknown</td>\n",
       "      <td>cce_0527</td>\n",
       "      <td>0.298250</td>\n",
       "    </tr>\n",
       "    <tr>\n",
       "      <td>231</td>\n",
       "      <td>cce_2908</td>\n",
       "      <td>3.467748</td>\n",
       "      <td>allophycocyanin alpha subunit</td>\n",
       "      <td>apcA</td>\n",
       "      <td>0.021663</td>\n",
       "    </tr>\n",
       "    <tr>\n",
       "      <td>67</td>\n",
       "      <td>cce_3445</td>\n",
       "      <td>3.415150</td>\n",
       "      <td>conserved hypothetical protein</td>\n",
       "      <td>cce_3445</td>\n",
       "      <td>0.732377</td>\n",
       "    </tr>\n",
       "    <tr>\n",
       "      <td>414</td>\n",
       "      <td>cce_2718</td>\n",
       "      <td>3.388609</td>\n",
       "      <td>putative DoxX</td>\n",
       "      <td>cce_2718</td>\n",
       "      <td>0.593488</td>\n",
       "    </tr>\n",
       "    <tr>\n",
       "      <td>5185</td>\n",
       "      <td>cce_3856</td>\n",
       "      <td>3.387714</td>\n",
       "      <td>hypothetical protein</td>\n",
       "      <td>cce_3856</td>\n",
       "      <td>0.033568</td>\n",
       "    </tr>\n",
       "    <tr>\n",
       "      <td>44</td>\n",
       "      <td>cce_1780</td>\n",
       "      <td>3.387532</td>\n",
       "      <td>unknown</td>\n",
       "      <td>cce_1780</td>\n",
       "      <td>0.367893</td>\n",
       "    </tr>\n",
       "    <tr>\n",
       "      <td>895</td>\n",
       "      <td>cce_2802</td>\n",
       "      <td>3.354930</td>\n",
       "      <td>hypothetical protein</td>\n",
       "      <td>cce_2802</td>\n",
       "      <td>0.052119</td>\n",
       "    </tr>\n",
       "    <tr>\n",
       "      <td>46</td>\n",
       "      <td>cce_2467</td>\n",
       "      <td>3.332179</td>\n",
       "      <td>N-acetylmuramoyl-L-alanine amidase</td>\n",
       "      <td>amiA2</td>\n",
       "      <td>0.637933</td>\n",
       "    </tr>\n",
       "    <tr>\n",
       "      <td>197</td>\n",
       "      <td>cce_3732</td>\n",
       "      <td>3.329837</td>\n",
       "      <td>unknown</td>\n",
       "      <td>cce_3732</td>\n",
       "      <td>0.420373</td>\n",
       "    </tr>\n",
       "    <tr>\n",
       "      <td>84</td>\n",
       "      <td>cce_1821</td>\n",
       "      <td>3.320255</td>\n",
       "      <td>putative HAD-superfamily hydrolase, subfamily IA</td>\n",
       "      <td>cce_1821</td>\n",
       "      <td>0.619877</td>\n",
       "    </tr>\n",
       "    <tr>\n",
       "      <td>5182</td>\n",
       "      <td>cce_0833</td>\n",
       "      <td>3.263234</td>\n",
       "      <td>hypothetical protein</td>\n",
       "      <td>cce_0833</td>\n",
       "      <td>0.091008</td>\n",
       "    </tr>\n",
       "  </tbody>\n",
       "</table>\n",
       "</div>"
      ],
      "text/plain": [
       "           orf  fold_change  \\\n",
       "1545  cce_0974     4.292311   \n",
       "5195  cce_3132     4.198740   \n",
       "517   cce_2635     4.148493   \n",
       "5194  cce_1360     3.979413   \n",
       "5193  cce_1459     3.973594   \n",
       "1862  cce_4789     3.645460   \n",
       "53    cce_2619     3.598078   \n",
       "162   cce_0528     3.587099   \n",
       "1179  cce_3054     3.572080   \n",
       "34    cce_4140     3.563909   \n",
       "229   cce_2909     3.542357   \n",
       "80    cce_3146     3.524015   \n",
       "5188  cce_1985     3.504618   \n",
       "100   cce_2988     3.475597   \n",
       "110   cce_0527     3.470725   \n",
       "231   cce_2908     3.467748   \n",
       "67    cce_3445     3.415150   \n",
       "414   cce_2718     3.388609   \n",
       "5185  cce_3856     3.387714   \n",
       "44    cce_1780     3.387532   \n",
       "895   cce_2802     3.354930   \n",
       "46    cce_2467     3.332179   \n",
       "197   cce_3732     3.329837   \n",
       "84    cce_1821     3.320255   \n",
       "5182  cce_0833     3.263234   \n",
       "\n",
       "                                               function CommonName        mi  \n",
       "1545             transcriptional Regulator, TetR family   cce_0974  0.000000  \n",
       "5195                                            unknown   cce_3132  0.000000  \n",
       "517                                hypothetical protein   cce_2635  0.556584  \n",
       "5194                               hypothetical protein   cce_1360  0.000000  \n",
       "5193                                            unknown   cce_1459  0.197754  \n",
       "1862                               hypothetical protein   cce_4789  0.725433  \n",
       "53    ABC transporter, substrate binding protein, po...   cce_2619  0.294977  \n",
       "162                                hypothetical protein   cce_0528  0.255063  \n",
       "1179              putative biopolymer transport protein      exbB2  0.000000  \n",
       "34    phosphoribosylformimino-5-aminoimidazole carbo...       hisA  0.138330  \n",
       "229                        allophycocyanin beta subunit       apcB  0.054996  \n",
       "80                           geranylgeranyl hydrogenase       chlP  0.351822  \n",
       "5188   carbohydrate kinase, thermoresistant glucokinase   cce_1985  0.000000  \n",
       "100                                hypothetical protein   cce_2988  0.359758  \n",
       "110                                             unknown   cce_0527  0.298250  \n",
       "231                       allophycocyanin alpha subunit       apcA  0.021663  \n",
       "67                       conserved hypothetical protein   cce_3445  0.732377  \n",
       "414                                       putative DoxX   cce_2718  0.593488  \n",
       "5185                               hypothetical protein   cce_3856  0.033568  \n",
       "44                                              unknown   cce_1780  0.367893  \n",
       "895                                hypothetical protein   cce_2802  0.052119  \n",
       "46                   N-acetylmuramoyl-L-alanine amidase      amiA2  0.637933  \n",
       "197                                             unknown   cce_3732  0.420373  \n",
       "84     putative HAD-superfamily hydrolase, subfamily IA   cce_1821  0.619877  \n",
       "5182                               hypothetical protein   cce_0833  0.091008  "
      ]
     },
     "execution_count": 11,
     "metadata": {},
     "output_type": "execute_result"
    }
   ],
   "source": [
    "add_table_function(top_fold_changed_genes(patB_info,direction='positive',top=25))\n",
    "top_fold_changed_genes(patB_info,direction='positive',top=25)"
   ]
  },
  {
   "cell_type": "markdown",
   "metadata": {},
   "source": [
    "## Part 3: Sigma Factors repressed and induced"
   ]
  },
  {
   "cell_type": "code",
   "execution_count": 12,
   "metadata": {},
   "outputs": [
    {
     "data": {
      "text/plain": [
       "<docx.text.paragraph.Paragraph at 0x1a2338fb50>"
      ]
     },
     "execution_count": 12,
     "metadata": {},
     "output_type": "execute_result"
    }
   ],
   "source": [
    "doc.add_heading('Part 3: Sigma Factors repressed and induced',2)"
   ]
  },
  {
   "cell_type": "markdown",
   "metadata": {},
   "source": [
    "### Repressed"
   ]
  },
  {
   "cell_type": "code",
   "execution_count": 13,
   "metadata": {},
   "outputs": [
    {
     "data": {
      "text/plain": [
       "<docx.text.paragraph.Paragraph at 0x1a2338b350>"
      ]
     },
     "execution_count": 13,
     "metadata": {},
     "output_type": "execute_result"
    }
   ],
   "source": [
    "doc.add_heading('Repressed',3)"
   ]
  },
  {
   "cell_type": "code",
   "execution_count": 14,
   "metadata": {},
   "outputs": [
    {
     "data": {
      "text/html": [
       "<div>\n",
       "<style scoped>\n",
       "    .dataframe tbody tr th:only-of-type {\n",
       "        vertical-align: middle;\n",
       "    }\n",
       "\n",
       "    .dataframe tbody tr th {\n",
       "        vertical-align: top;\n",
       "    }\n",
       "\n",
       "    .dataframe thead th {\n",
       "        text-align: right;\n",
       "    }\n",
       "</style>\n",
       "<table border=\"1\" class=\"dataframe\">\n",
       "  <thead>\n",
       "    <tr style=\"text-align: right;\">\n",
       "      <th></th>\n",
       "      <th>orf</th>\n",
       "      <th>fold_change</th>\n",
       "      <th>function</th>\n",
       "      <th>CommonName</th>\n",
       "      <th>mi</th>\n",
       "    </tr>\n",
       "  </thead>\n",
       "  <tbody>\n",
       "    <tr>\n",
       "      <td>77</td>\n",
       "      <td>cce_2337</td>\n",
       "      <td>-1.750043</td>\n",
       "      <td>group 2 sigma-70 RNA polymerase sigma factor</td>\n",
       "      <td>cce_2337</td>\n",
       "      <td>0.088528</td>\n",
       "    </tr>\n",
       "    <tr>\n",
       "      <td>373</td>\n",
       "      <td>cce_2424</td>\n",
       "      <td>-1.612567</td>\n",
       "      <td>group 4 sigma-70 RNA polymerase sigma factor H</td>\n",
       "      <td>sigH</td>\n",
       "      <td>0.033270</td>\n",
       "    </tr>\n",
       "  </tbody>\n",
       "</table>\n",
       "</div>"
      ],
      "text/plain": [
       "          orf  fold_change                                        function  \\\n",
       "77   cce_2337    -1.750043    group 2 sigma-70 RNA polymerase sigma factor   \n",
       "373  cce_2424    -1.612567  group 4 sigma-70 RNA polymerase sigma factor H   \n",
       "\n",
       "    CommonName        mi  \n",
       "77    cce_2337  0.088528  \n",
       "373       sigH  0.033270  "
      ]
     },
     "execution_count": 14,
     "metadata": {},
     "output_type": "execute_result"
    }
   ],
   "source": [
    "add_table_function(get_sigma_factors(patB_info,direction='negative'))\n",
    "get_sigma_factors(patB_info,direction='negative')"
   ]
  },
  {
   "cell_type": "markdown",
   "metadata": {},
   "source": [
    "### Induced"
   ]
  },
  {
   "cell_type": "code",
   "execution_count": 15,
   "metadata": {},
   "outputs": [
    {
     "data": {
      "text/plain": [
       "<docx.text.paragraph.Paragraph at 0x1a23398690>"
      ]
     },
     "execution_count": 15,
     "metadata": {},
     "output_type": "execute_result"
    }
   ],
   "source": [
    "doc.add_heading('Induced',3)"
   ]
  },
  {
   "cell_type": "code",
   "execution_count": 16,
   "metadata": {},
   "outputs": [
    {
     "data": {
      "text/html": [
       "<div>\n",
       "<style scoped>\n",
       "    .dataframe tbody tr th:only-of-type {\n",
       "        vertical-align: middle;\n",
       "    }\n",
       "\n",
       "    .dataframe tbody tr th {\n",
       "        vertical-align: top;\n",
       "    }\n",
       "\n",
       "    .dataframe thead th {\n",
       "        text-align: right;\n",
       "    }\n",
       "</style>\n",
       "<table border=\"1\" class=\"dataframe\">\n",
       "  <thead>\n",
       "    <tr style=\"text-align: right;\">\n",
       "      <th></th>\n",
       "      <th>orf</th>\n",
       "      <th>fold_change</th>\n",
       "      <th>function</th>\n",
       "      <th>CommonName</th>\n",
       "      <th>mi</th>\n",
       "    </tr>\n",
       "  </thead>\n",
       "  <tbody>\n",
       "    <tr>\n",
       "      <td>43</td>\n",
       "      <td>cce_4142</td>\n",
       "      <td>3.090441</td>\n",
       "      <td>group 4 sigma-70 RNA polymerase sigma factor G</td>\n",
       "      <td>sigG</td>\n",
       "      <td>0.359361</td>\n",
       "    </tr>\n",
       "    <tr>\n",
       "      <td>208</td>\n",
       "      <td>cce_0601</td>\n",
       "      <td>2.226739</td>\n",
       "      <td>group 2 sigma-70 RNA polymerase sigma factor E</td>\n",
       "      <td>sigE</td>\n",
       "      <td>0.000000</td>\n",
       "    </tr>\n",
       "  </tbody>\n",
       "</table>\n",
       "</div>"
      ],
      "text/plain": [
       "          orf  fold_change                                        function  \\\n",
       "43   cce_4142     3.090441  group 4 sigma-70 RNA polymerase sigma factor G   \n",
       "208  cce_0601     2.226739  group 2 sigma-70 RNA polymerase sigma factor E   \n",
       "\n",
       "    CommonName        mi  \n",
       "43        sigG  0.359361  \n",
       "208       sigE  0.000000  "
      ]
     },
     "execution_count": 16,
     "metadata": {},
     "output_type": "execute_result"
    }
   ],
   "source": [
    "add_table_function(get_sigma_factors(patB_info,direction='positive'))\n",
    "get_sigma_factors(patB_info,direction='positive')"
   ]
  },
  {
   "cell_type": "markdown",
   "metadata": {},
   "source": [
    "## Part 4: Clock genes repressed and induced"
   ]
  },
  {
   "cell_type": "code",
   "execution_count": 17,
   "metadata": {},
   "outputs": [
    {
     "data": {
      "text/plain": [
       "<docx.text.paragraph.Paragraph at 0x1a2338fdd0>"
      ]
     },
     "execution_count": 17,
     "metadata": {},
     "output_type": "execute_result"
    }
   ],
   "source": [
    "doc.add_heading('Part 4: Clock genes repressed and induced',2)"
   ]
  },
  {
   "cell_type": "markdown",
   "metadata": {},
   "source": [
    "### Repressed"
   ]
  },
  {
   "cell_type": "code",
   "execution_count": 18,
   "metadata": {},
   "outputs": [
    {
     "data": {
      "text/plain": [
       "<docx.text.paragraph.Paragraph at 0x1a23383ad0>"
      ]
     },
     "execution_count": 18,
     "metadata": {},
     "output_type": "execute_result"
    }
   ],
   "source": [
    "doc.add_heading('Repressed',3)"
   ]
  },
  {
   "cell_type": "code",
   "execution_count": 19,
   "metadata": {},
   "outputs": [
    {
     "data": {
      "text/html": [
       "<div>\n",
       "<style scoped>\n",
       "    .dataframe tbody tr th:only-of-type {\n",
       "        vertical-align: middle;\n",
       "    }\n",
       "\n",
       "    .dataframe tbody tr th {\n",
       "        vertical-align: top;\n",
       "    }\n",
       "\n",
       "    .dataframe thead th {\n",
       "        text-align: right;\n",
       "    }\n",
       "</style>\n",
       "<table border=\"1\" class=\"dataframe\">\n",
       "  <thead>\n",
       "    <tr style=\"text-align: right;\">\n",
       "      <th></th>\n",
       "      <th>orf</th>\n",
       "      <th>fold_change</th>\n",
       "      <th>function</th>\n",
       "      <th>CommonName</th>\n",
       "      <th>mi</th>\n",
       "    </tr>\n",
       "  </thead>\n",
       "  <tbody>\n",
       "    <tr>\n",
       "      <td>166</td>\n",
       "      <td>cce_0435</td>\n",
       "      <td>-1.720292</td>\n",
       "      <td>circadian clock protein</td>\n",
       "      <td>kaiB3</td>\n",
       "      <td>0.0</td>\n",
       "    </tr>\n",
       "  </tbody>\n",
       "</table>\n",
       "</div>"
      ],
      "text/plain": [
       "          orf  fold_change                 function CommonName   mi\n",
       "166  cce_0435    -1.720292  circadian clock protein      kaiB3  0.0"
      ]
     },
     "execution_count": 19,
     "metadata": {},
     "output_type": "execute_result"
    }
   ],
   "source": [
    "add_table_function(get_circadian(patB_info,direction='negative'))\n",
    "get_circadian(patB_info,direction='negative')"
   ]
  },
  {
   "cell_type": "markdown",
   "metadata": {},
   "source": [
    "### Induced"
   ]
  },
  {
   "cell_type": "code",
   "execution_count": 20,
   "metadata": {},
   "outputs": [
    {
     "data": {
      "text/plain": [
       "<docx.text.paragraph.Paragraph at 0x1a233a30d0>"
      ]
     },
     "execution_count": 20,
     "metadata": {},
     "output_type": "execute_result"
    }
   ],
   "source": [
    "doc.add_heading('Induced',3)"
   ]
  },
  {
   "cell_type": "code",
   "execution_count": 21,
   "metadata": {},
   "outputs": [
    {
     "data": {
      "text/html": [
       "<div>\n",
       "<style scoped>\n",
       "    .dataframe tbody tr th:only-of-type {\n",
       "        vertical-align: middle;\n",
       "    }\n",
       "\n",
       "    .dataframe tbody tr th {\n",
       "        vertical-align: top;\n",
       "    }\n",
       "\n",
       "    .dataframe thead th {\n",
       "        text-align: right;\n",
       "    }\n",
       "</style>\n",
       "<table border=\"1\" class=\"dataframe\">\n",
       "  <thead>\n",
       "    <tr style=\"text-align: right;\">\n",
       "      <th></th>\n",
       "      <th>orf</th>\n",
       "      <th>fold_change</th>\n",
       "      <th>function</th>\n",
       "      <th>CommonName</th>\n",
       "      <th>mi</th>\n",
       "    </tr>\n",
       "  </thead>\n",
       "  <tbody>\n",
       "    <tr>\n",
       "      <td>361</td>\n",
       "      <td>cce_0145</td>\n",
       "      <td>2.147813</td>\n",
       "      <td>putative circadian clock protein</td>\n",
       "      <td>kaiB4</td>\n",
       "      <td>0.000000</td>\n",
       "    </tr>\n",
       "    <tr>\n",
       "      <td>445</td>\n",
       "      <td>cce_0424</td>\n",
       "      <td>1.689841</td>\n",
       "      <td>circadian clock protein</td>\n",
       "      <td>kaiA</td>\n",
       "      <td>0.556584</td>\n",
       "    </tr>\n",
       "  </tbody>\n",
       "</table>\n",
       "</div>"
      ],
      "text/plain": [
       "          orf  fold_change                          function CommonName  \\\n",
       "361  cce_0145     2.147813  putative circadian clock protein      kaiB4   \n",
       "445  cce_0424     1.689841           circadian clock protein       kaiA   \n",
       "\n",
       "           mi  \n",
       "361  0.000000  \n",
       "445  0.556584  "
      ]
     },
     "execution_count": 21,
     "metadata": {},
     "output_type": "execute_result"
    }
   ],
   "source": [
    "add_table_function(get_circadian(patB_info,direction='positive'))\n",
    "get_circadian(patB_info,direction='positive')"
   ]
  },
  {
   "cell_type": "markdown",
   "metadata": {},
   "source": [
    "## Part 5: Regulators repressed and induced"
   ]
  },
  {
   "cell_type": "code",
   "execution_count": 22,
   "metadata": {},
   "outputs": [
    {
     "data": {
      "text/plain": [
       "<docx.text.paragraph.Paragraph at 0x1a233a7350>"
      ]
     },
     "execution_count": 22,
     "metadata": {},
     "output_type": "execute_result"
    }
   ],
   "source": [
    "doc.add_heading('Part 5: Regulators repressed and induced',2)"
   ]
  },
  {
   "cell_type": "markdown",
   "metadata": {},
   "source": [
    "### Repressed"
   ]
  },
  {
   "cell_type": "code",
   "execution_count": 23,
   "metadata": {},
   "outputs": [
    {
     "data": {
      "text/plain": [
       "<docx.text.paragraph.Paragraph at 0x1a2338f950>"
      ]
     },
     "execution_count": 23,
     "metadata": {},
     "output_type": "execute_result"
    }
   ],
   "source": [
    "doc.add_heading('Repressed',3)"
   ]
  },
  {
   "cell_type": "code",
   "execution_count": 24,
   "metadata": {},
   "outputs": [
    {
     "data": {
      "text/html": [
       "<div>\n",
       "<style scoped>\n",
       "    .dataframe tbody tr th:only-of-type {\n",
       "        vertical-align: middle;\n",
       "    }\n",
       "\n",
       "    .dataframe tbody tr th {\n",
       "        vertical-align: top;\n",
       "    }\n",
       "\n",
       "    .dataframe thead th {\n",
       "        text-align: right;\n",
       "    }\n",
       "</style>\n",
       "<table border=\"1\" class=\"dataframe\">\n",
       "  <thead>\n",
       "    <tr style=\"text-align: right;\">\n",
       "      <th></th>\n",
       "      <th>orf</th>\n",
       "      <th>fold_change</th>\n",
       "      <th>function</th>\n",
       "      <th>CommonName</th>\n",
       "      <th>mi</th>\n",
       "    </tr>\n",
       "  </thead>\n",
       "  <tbody>\n",
       "    <tr>\n",
       "      <td>55</td>\n",
       "      <td>cce_3127</td>\n",
       "      <td>-3.465545</td>\n",
       "      <td>transcription regulator, Fur family</td>\n",
       "      <td>cce_3127</td>\n",
       "      <td>0.491901</td>\n",
       "    </tr>\n",
       "    <tr>\n",
       "      <td>170</td>\n",
       "      <td>cce_3559</td>\n",
       "      <td>-2.531986</td>\n",
       "      <td>two-component response regulator</td>\n",
       "      <td>cce_3559</td>\n",
       "      <td>0.615711</td>\n",
       "    </tr>\n",
       "    <tr>\n",
       "      <td>63</td>\n",
       "      <td>cce_1135</td>\n",
       "      <td>-2.252211</td>\n",
       "      <td>two-component response regulator</td>\n",
       "      <td>cce_1135</td>\n",
       "      <td>0.457873</td>\n",
       "    </tr>\n",
       "    <tr>\n",
       "      <td>56</td>\n",
       "      <td>cce_1001</td>\n",
       "      <td>-2.185784</td>\n",
       "      <td>ATP-dependent Clp protease, regulatory subunit</td>\n",
       "      <td>clpC2</td>\n",
       "      <td>0.248250</td>\n",
       "    </tr>\n",
       "    <tr>\n",
       "      <td>137</td>\n",
       "      <td>cce_1186</td>\n",
       "      <td>-2.061627</td>\n",
       "      <td>two-component hybrid sensor and regulator</td>\n",
       "      <td>cce_1186</td>\n",
       "      <td>0.714719</td>\n",
       "    </tr>\n",
       "    <tr>\n",
       "      <td>4807</td>\n",
       "      <td>cce_1412</td>\n",
       "      <td>-1.639944</td>\n",
       "      <td>two-component response regulator</td>\n",
       "      <td>cce_1412</td>\n",
       "      <td>0.641306</td>\n",
       "    </tr>\n",
       "    <tr>\n",
       "      <td>265</td>\n",
       "      <td>cce_1185</td>\n",
       "      <td>-1.571860</td>\n",
       "      <td>two-component hybrid sensor and regulator</td>\n",
       "      <td>cce_1185</td>\n",
       "      <td>0.787139</td>\n",
       "    </tr>\n",
       "    <tr>\n",
       "      <td>315</td>\n",
       "      <td>cce_0448</td>\n",
       "      <td>-1.473907</td>\n",
       "      <td>response regulator</td>\n",
       "      <td>cce_0448</td>\n",
       "      <td>0.147490</td>\n",
       "    </tr>\n",
       "    <tr>\n",
       "      <td>303</td>\n",
       "      <td>cce_3731</td>\n",
       "      <td>-1.454199</td>\n",
       "      <td>putative Rubisco transcriptional regulator, Ly...</td>\n",
       "      <td>rbcR</td>\n",
       "      <td>0.815711</td>\n",
       "    </tr>\n",
       "    <tr>\n",
       "      <td>1152</td>\n",
       "      <td>cce_4542</td>\n",
       "      <td>-1.375491</td>\n",
       "      <td>two-component response regulator</td>\n",
       "      <td>cce_4542</td>\n",
       "      <td>0.302715</td>\n",
       "    </tr>\n",
       "    <tr>\n",
       "      <td>502</td>\n",
       "      <td>cce_2508</td>\n",
       "      <td>-1.216945</td>\n",
       "      <td>two-component hybrid sensor and regulator</td>\n",
       "      <td>cce_2508</td>\n",
       "      <td>0.103707</td>\n",
       "    </tr>\n",
       "    <tr>\n",
       "      <td>710</td>\n",
       "      <td>cce_4183</td>\n",
       "      <td>-1.211873</td>\n",
       "      <td>two-component response regulator</td>\n",
       "      <td>cce_4183</td>\n",
       "      <td>0.181385</td>\n",
       "    </tr>\n",
       "    <tr>\n",
       "      <td>434</td>\n",
       "      <td>cce_2509</td>\n",
       "      <td>-1.206459</td>\n",
       "      <td>two-component hybrid sensor and regulator</td>\n",
       "      <td>cce_2509</td>\n",
       "      <td>0.271068</td>\n",
       "    </tr>\n",
       "    <tr>\n",
       "      <td>590</td>\n",
       "      <td>cce_0683</td>\n",
       "      <td>-1.205853</td>\n",
       "      <td>putative transcriptional regulator</td>\n",
       "      <td>cce_0683</td>\n",
       "      <td>0.243485</td>\n",
       "    </tr>\n",
       "    <tr>\n",
       "      <td>821</td>\n",
       "      <td>cce_4405</td>\n",
       "      <td>-1.194678</td>\n",
       "      <td>two-component hybrid sensor and regulator</td>\n",
       "      <td>cce_4405</td>\n",
       "      <td>0.000000</td>\n",
       "    </tr>\n",
       "    <tr>\n",
       "      <td>1404</td>\n",
       "      <td>cce_4714</td>\n",
       "      <td>-1.177715</td>\n",
       "      <td>two-component response regulator, NarL subfamily</td>\n",
       "      <td>cce_4714</td>\n",
       "      <td>0.083369</td>\n",
       "    </tr>\n",
       "  </tbody>\n",
       "</table>\n",
       "</div>"
      ],
      "text/plain": [
       "           orf  fold_change  \\\n",
       "55    cce_3127    -3.465545   \n",
       "170   cce_3559    -2.531986   \n",
       "63    cce_1135    -2.252211   \n",
       "56    cce_1001    -2.185784   \n",
       "137   cce_1186    -2.061627   \n",
       "4807  cce_1412    -1.639944   \n",
       "265   cce_1185    -1.571860   \n",
       "315   cce_0448    -1.473907   \n",
       "303   cce_3731    -1.454199   \n",
       "1152  cce_4542    -1.375491   \n",
       "502   cce_2508    -1.216945   \n",
       "710   cce_4183    -1.211873   \n",
       "434   cce_2509    -1.206459   \n",
       "590   cce_0683    -1.205853   \n",
       "821   cce_4405    -1.194678   \n",
       "1404  cce_4714    -1.177715   \n",
       "\n",
       "                                               function CommonName        mi  \n",
       "55                  transcription regulator, Fur family   cce_3127  0.491901  \n",
       "170                    two-component response regulator   cce_3559  0.615711  \n",
       "63                     two-component response regulator   cce_1135  0.457873  \n",
       "56       ATP-dependent Clp protease, regulatory subunit      clpC2  0.248250  \n",
       "137           two-component hybrid sensor and regulator   cce_1186  0.714719  \n",
       "4807                   two-component response regulator   cce_1412  0.641306  \n",
       "265           two-component hybrid sensor and regulator   cce_1185  0.787139  \n",
       "315                                  response regulator   cce_0448  0.147490  \n",
       "303   putative Rubisco transcriptional regulator, Ly...       rbcR  0.815711  \n",
       "1152                   two-component response regulator   cce_4542  0.302715  \n",
       "502           two-component hybrid sensor and regulator   cce_2508  0.103707  \n",
       "710                    two-component response regulator   cce_4183  0.181385  \n",
       "434           two-component hybrid sensor and regulator   cce_2509  0.271068  \n",
       "590                  putative transcriptional regulator   cce_0683  0.243485  \n",
       "821           two-component hybrid sensor and regulator   cce_4405  0.000000  \n",
       "1404   two-component response regulator, NarL subfamily   cce_4714  0.083369  "
      ]
     },
     "execution_count": 24,
     "metadata": {},
     "output_type": "execute_result"
    }
   ],
   "source": [
    "add_table_function(get_regulators(patB_info,direction='negative'))\n",
    "get_regulators(patB_info,direction='negative')"
   ]
  },
  {
   "cell_type": "markdown",
   "metadata": {},
   "source": [
    "### Induced"
   ]
  },
  {
   "cell_type": "code",
   "execution_count": 25,
   "metadata": {},
   "outputs": [
    {
     "data": {
      "text/plain": [
       "<docx.text.paragraph.Paragraph at 0x1a2338f690>"
      ]
     },
     "execution_count": 25,
     "metadata": {},
     "output_type": "execute_result"
    }
   ],
   "source": [
    "doc.add_heading('Induced',3)"
   ]
  },
  {
   "cell_type": "code",
   "execution_count": 26,
   "metadata": {},
   "outputs": [
    {
     "data": {
      "text/html": [
       "<div>\n",
       "<style scoped>\n",
       "    .dataframe tbody tr th:only-of-type {\n",
       "        vertical-align: middle;\n",
       "    }\n",
       "\n",
       "    .dataframe tbody tr th {\n",
       "        vertical-align: top;\n",
       "    }\n",
       "\n",
       "    .dataframe thead th {\n",
       "        text-align: right;\n",
       "    }\n",
       "</style>\n",
       "<table border=\"1\" class=\"dataframe\">\n",
       "  <thead>\n",
       "    <tr style=\"text-align: right;\">\n",
       "      <th></th>\n",
       "      <th>orf</th>\n",
       "      <th>fold_change</th>\n",
       "      <th>function</th>\n",
       "      <th>CommonName</th>\n",
       "      <th>mi</th>\n",
       "    </tr>\n",
       "  </thead>\n",
       "  <tbody>\n",
       "    <tr>\n",
       "      <td>1226</td>\n",
       "      <td>cce_1768</td>\n",
       "      <td>2.046999</td>\n",
       "      <td>probable transcriptional regulator</td>\n",
       "      <td>cce_1768</td>\n",
       "      <td>0.231286</td>\n",
       "    </tr>\n",
       "    <tr>\n",
       "      <td>2497</td>\n",
       "      <td>cce_0712</td>\n",
       "      <td>1.519371</td>\n",
       "      <td>two-component response regulator</td>\n",
       "      <td>cce_0712</td>\n",
       "      <td>0.382377</td>\n",
       "    </tr>\n",
       "    <tr>\n",
       "      <td>603</td>\n",
       "      <td>cce_4396</td>\n",
       "      <td>1.494147</td>\n",
       "      <td>transcriptional regulator, ArsR family</td>\n",
       "      <td>cce_4396</td>\n",
       "      <td>0.000000</td>\n",
       "    </tr>\n",
       "    <tr>\n",
       "      <td>2816</td>\n",
       "      <td>cce_0165</td>\n",
       "      <td>1.413458</td>\n",
       "      <td>two-component response regulator</td>\n",
       "      <td>cce_0165</td>\n",
       "      <td>0.006319</td>\n",
       "    </tr>\n",
       "    <tr>\n",
       "      <td>2302</td>\n",
       "      <td>cce_1816</td>\n",
       "      <td>1.392781</td>\n",
       "      <td>transcriptional regulatory protein</td>\n",
       "      <td>cce_1816</td>\n",
       "      <td>0.624044</td>\n",
       "    </tr>\n",
       "    <tr>\n",
       "      <td>690</td>\n",
       "      <td>cce_0461</td>\n",
       "      <td>1.302513</td>\n",
       "      <td>nitrogen-responsive regulatory protein</td>\n",
       "      <td>ntcA</td>\n",
       "      <td>0.716306</td>\n",
       "    </tr>\n",
       "    <tr>\n",
       "      <td>2995</td>\n",
       "      <td>cce_0310</td>\n",
       "      <td>1.222808</td>\n",
       "      <td>putative arylsulfatase regulatory protein</td>\n",
       "      <td>aslB</td>\n",
       "      <td>0.426028</td>\n",
       "    </tr>\n",
       "    <tr>\n",
       "      <td>5075</td>\n",
       "      <td>cce_1695</td>\n",
       "      <td>1.054570</td>\n",
       "      <td>two-component response regulator</td>\n",
       "      <td>cce_1695</td>\n",
       "      <td>0.408667</td>\n",
       "    </tr>\n",
       "  </tbody>\n",
       "</table>\n",
       "</div>"
      ],
      "text/plain": [
       "           orf  fold_change                                   function  \\\n",
       "1226  cce_1768     2.046999         probable transcriptional regulator   \n",
       "2497  cce_0712     1.519371           two-component response regulator   \n",
       "603   cce_4396     1.494147     transcriptional regulator, ArsR family   \n",
       "2816  cce_0165     1.413458           two-component response regulator   \n",
       "2302  cce_1816     1.392781         transcriptional regulatory protein   \n",
       "690   cce_0461     1.302513     nitrogen-responsive regulatory protein   \n",
       "2995  cce_0310     1.222808  putative arylsulfatase regulatory protein   \n",
       "5075  cce_1695     1.054570           two-component response regulator   \n",
       "\n",
       "     CommonName        mi  \n",
       "1226   cce_1768  0.231286  \n",
       "2497   cce_0712  0.382377  \n",
       "603    cce_4396  0.000000  \n",
       "2816   cce_0165  0.006319  \n",
       "2302   cce_1816  0.624044  \n",
       "690        ntcA  0.716306  \n",
       "2995       aslB  0.426028  \n",
       "5075   cce_1695  0.408667  "
      ]
     },
     "execution_count": 26,
     "metadata": {},
     "output_type": "execute_result"
    }
   ],
   "source": [
    "add_table_function(get_regulators(patB_info,direction='positive'))\n",
    "get_regulators(patB_info,direction='positive')"
   ]
  },
  {
   "cell_type": "markdown",
   "metadata": {},
   "source": [
    "## Part 6: Sensors repressed and induced"
   ]
  },
  {
   "cell_type": "code",
   "execution_count": 27,
   "metadata": {},
   "outputs": [
    {
     "data": {
      "text/plain": [
       "<docx.text.paragraph.Paragraph at 0x1a2339d5d0>"
      ]
     },
     "execution_count": 27,
     "metadata": {},
     "output_type": "execute_result"
    }
   ],
   "source": [
    "doc.add_heading('Part 6: Sensors repressed and induced',2)"
   ]
  },
  {
   "cell_type": "markdown",
   "metadata": {},
   "source": [
    "### Repressed"
   ]
  },
  {
   "cell_type": "code",
   "execution_count": 28,
   "metadata": {},
   "outputs": [
    {
     "data": {
      "text/plain": [
       "<docx.text.paragraph.Paragraph at 0x1a23398590>"
      ]
     },
     "execution_count": 28,
     "metadata": {},
     "output_type": "execute_result"
    }
   ],
   "source": [
    "doc.add_heading('Repressed',3)"
   ]
  },
  {
   "cell_type": "code",
   "execution_count": 29,
   "metadata": {},
   "outputs": [
    {
     "data": {
      "text/html": [
       "<div>\n",
       "<style scoped>\n",
       "    .dataframe tbody tr th:only-of-type {\n",
       "        vertical-align: middle;\n",
       "    }\n",
       "\n",
       "    .dataframe tbody tr th {\n",
       "        vertical-align: top;\n",
       "    }\n",
       "\n",
       "    .dataframe thead th {\n",
       "        text-align: right;\n",
       "    }\n",
       "</style>\n",
       "<table border=\"1\" class=\"dataframe\">\n",
       "  <thead>\n",
       "    <tr style=\"text-align: right;\">\n",
       "      <th></th>\n",
       "      <th>orf</th>\n",
       "      <th>fold_change</th>\n",
       "      <th>function</th>\n",
       "      <th>CommonName</th>\n",
       "      <th>mi</th>\n",
       "    </tr>\n",
       "  </thead>\n",
       "  <tbody>\n",
       "    <tr>\n",
       "      <td>89</td>\n",
       "      <td>cce_1413</td>\n",
       "      <td>-2.150160</td>\n",
       "      <td>probable sensory transduction histidine kinase</td>\n",
       "      <td>cce_1413</td>\n",
       "      <td>0.679600</td>\n",
       "    </tr>\n",
       "    <tr>\n",
       "      <td>137</td>\n",
       "      <td>cce_1186</td>\n",
       "      <td>-2.061627</td>\n",
       "      <td>two-component hybrid sensor and regulator</td>\n",
       "      <td>cce_1186</td>\n",
       "      <td>0.714719</td>\n",
       "    </tr>\n",
       "    <tr>\n",
       "      <td>106</td>\n",
       "      <td>cce_2366</td>\n",
       "      <td>-1.885599</td>\n",
       "      <td>two-component sensor histidine kinase</td>\n",
       "      <td>cce_2366</td>\n",
       "      <td>0.000000</td>\n",
       "    </tr>\n",
       "    <tr>\n",
       "      <td>265</td>\n",
       "      <td>cce_1185</td>\n",
       "      <td>-1.571860</td>\n",
       "      <td>two-component hybrid sensor and regulator</td>\n",
       "      <td>cce_1185</td>\n",
       "      <td>0.787139</td>\n",
       "    </tr>\n",
       "    <tr>\n",
       "      <td>227</td>\n",
       "      <td>cce_0257</td>\n",
       "      <td>-1.473346</td>\n",
       "      <td>two-component sensor histidine kinase</td>\n",
       "      <td>cce_0257</td>\n",
       "      <td>0.283601</td>\n",
       "    </tr>\n",
       "    <tr>\n",
       "      <td>502</td>\n",
       "      <td>cce_2508</td>\n",
       "      <td>-1.216945</td>\n",
       "      <td>two-component hybrid sensor and regulator</td>\n",
       "      <td>cce_2508</td>\n",
       "      <td>0.103707</td>\n",
       "    </tr>\n",
       "    <tr>\n",
       "      <td>434</td>\n",
       "      <td>cce_2509</td>\n",
       "      <td>-1.206459</td>\n",
       "      <td>two-component hybrid sensor and regulator</td>\n",
       "      <td>cce_2509</td>\n",
       "      <td>0.271068</td>\n",
       "    </tr>\n",
       "    <tr>\n",
       "      <td>821</td>\n",
       "      <td>cce_4405</td>\n",
       "      <td>-1.194678</td>\n",
       "      <td>two-component hybrid sensor and regulator</td>\n",
       "      <td>cce_4405</td>\n",
       "      <td>0.000000</td>\n",
       "    </tr>\n",
       "    <tr>\n",
       "      <td>601</td>\n",
       "      <td>cce_4426</td>\n",
       "      <td>-1.155178</td>\n",
       "      <td>two-component sensor histidine kinase</td>\n",
       "      <td>cce_4426</td>\n",
       "      <td>0.520241</td>\n",
       "    </tr>\n",
       "    <tr>\n",
       "      <td>857</td>\n",
       "      <td>cce_1737</td>\n",
       "      <td>-1.043445</td>\n",
       "      <td>two-component sensor histidine kinase</td>\n",
       "      <td>cce_1737</td>\n",
       "      <td>0.209957</td>\n",
       "    </tr>\n",
       "  </tbody>\n",
       "</table>\n",
       "</div>"
      ],
      "text/plain": [
       "          orf  fold_change                                        function  \\\n",
       "89   cce_1413    -2.150160  probable sensory transduction histidine kinase   \n",
       "137  cce_1186    -2.061627       two-component hybrid sensor and regulator   \n",
       "106  cce_2366    -1.885599           two-component sensor histidine kinase   \n",
       "265  cce_1185    -1.571860       two-component hybrid sensor and regulator   \n",
       "227  cce_0257    -1.473346           two-component sensor histidine kinase   \n",
       "502  cce_2508    -1.216945       two-component hybrid sensor and regulator   \n",
       "434  cce_2509    -1.206459       two-component hybrid sensor and regulator   \n",
       "821  cce_4405    -1.194678       two-component hybrid sensor and regulator   \n",
       "601  cce_4426    -1.155178           two-component sensor histidine kinase   \n",
       "857  cce_1737    -1.043445           two-component sensor histidine kinase   \n",
       "\n",
       "    CommonName        mi  \n",
       "89    cce_1413  0.679600  \n",
       "137   cce_1186  0.714719  \n",
       "106   cce_2366  0.000000  \n",
       "265   cce_1185  0.787139  \n",
       "227   cce_0257  0.283601  \n",
       "502   cce_2508  0.103707  \n",
       "434   cce_2509  0.271068  \n",
       "821   cce_4405  0.000000  \n",
       "601   cce_4426  0.520241  \n",
       "857   cce_1737  0.209957  "
      ]
     },
     "execution_count": 29,
     "metadata": {},
     "output_type": "execute_result"
    }
   ],
   "source": [
    "add_table_function(get_sensors(patB_info,direction='negative'))\n",
    "get_sensors(patB_info,direction='negative')"
   ]
  },
  {
   "cell_type": "markdown",
   "metadata": {},
   "source": [
    "### Induced"
   ]
  },
  {
   "cell_type": "code",
   "execution_count": 30,
   "metadata": {},
   "outputs": [
    {
     "data": {
      "text/plain": [
       "<docx.text.paragraph.Paragraph at 0x1a2338b790>"
      ]
     },
     "execution_count": 30,
     "metadata": {},
     "output_type": "execute_result"
    }
   ],
   "source": [
    "doc.add_heading('Induced',3)"
   ]
  },
  {
   "cell_type": "code",
   "execution_count": 31,
   "metadata": {},
   "outputs": [
    {
     "data": {
      "text/html": [
       "<div>\n",
       "<style scoped>\n",
       "    .dataframe tbody tr th:only-of-type {\n",
       "        vertical-align: middle;\n",
       "    }\n",
       "\n",
       "    .dataframe tbody tr th {\n",
       "        vertical-align: top;\n",
       "    }\n",
       "\n",
       "    .dataframe thead th {\n",
       "        text-align: right;\n",
       "    }\n",
       "</style>\n",
       "<table border=\"1\" class=\"dataframe\">\n",
       "  <thead>\n",
       "    <tr style=\"text-align: right;\">\n",
       "      <th></th>\n",
       "      <th>orf</th>\n",
       "      <th>fold_change</th>\n",
       "      <th>function</th>\n",
       "      <th>CommonName</th>\n",
       "      <th>mi</th>\n",
       "    </tr>\n",
       "  </thead>\n",
       "  <tbody>\n",
       "    <tr>\n",
       "      <td>1772</td>\n",
       "      <td>cce_4006</td>\n",
       "      <td>1.225434</td>\n",
       "      <td>two-component sensor histidine kinase</td>\n",
       "      <td>cce_4006</td>\n",
       "      <td>0.015082</td>\n",
       "    </tr>\n",
       "    <tr>\n",
       "      <td>378</td>\n",
       "      <td>cce_4097</td>\n",
       "      <td>1.185860</td>\n",
       "      <td>two-component sensor serine/threonine kinase</td>\n",
       "      <td>cce_4097</td>\n",
       "      <td>0.678211</td>\n",
       "    </tr>\n",
       "    <tr>\n",
       "      <td>1978</td>\n",
       "      <td>cce_1694</td>\n",
       "      <td>1.144460</td>\n",
       "      <td>two component sensor histidine kinase</td>\n",
       "      <td>cce_1694</td>\n",
       "      <td>0.000000</td>\n",
       "    </tr>\n",
       "  </tbody>\n",
       "</table>\n",
       "</div>"
      ],
      "text/plain": [
       "           orf  fold_change                                      function  \\\n",
       "1772  cce_4006     1.225434         two-component sensor histidine kinase   \n",
       "378   cce_4097     1.185860  two-component sensor serine/threonine kinase   \n",
       "1978  cce_1694     1.144460         two component sensor histidine kinase   \n",
       "\n",
       "     CommonName        mi  \n",
       "1772   cce_4006  0.015082  \n",
       "378    cce_4097  0.678211  \n",
       "1978   cce_1694  0.000000  "
      ]
     },
     "execution_count": 31,
     "metadata": {},
     "output_type": "execute_result"
    }
   ],
   "source": [
    "add_table_function(get_sensors(patB_info,direction='positive'))\n",
    "get_sensors(patB_info,direction='positive')"
   ]
  },
  {
   "cell_type": "code",
   "execution_count": 32,
   "metadata": {},
   "outputs": [
    {
     "data": {
      "text/plain": [
       "<docx.text.paragraph.Paragraph at 0x1a232d0f90>"
      ]
     },
     "execution_count": 32,
     "metadata": {},
     "output_type": "execute_result"
    }
   ],
   "source": [
    "doc.add_page_break()"
   ]
  },
  {
   "cell_type": "markdown",
   "metadata": {},
   "source": [
    "# Appendix B"
   ]
  },
  {
   "cell_type": "code",
   "execution_count": 33,
   "metadata": {},
   "outputs": [
    {
     "data": {
      "text/plain": [
       "<docx.text.paragraph.Paragraph at 0x1a233985d0>"
      ]
     },
     "execution_count": 33,
     "metadata": {},
     "output_type": "execute_result"
    }
   ],
   "source": [
    "doc.add_heading('Appendix B',1)"
   ]
  },
  {
   "cell_type": "markdown",
   "metadata": {},
   "source": [
    "## Part 1: Top 25 Negative Fold Changed Genes"
   ]
  },
  {
   "cell_type": "code",
   "execution_count": 34,
   "metadata": {},
   "outputs": [
    {
     "data": {
      "text/plain": [
       "<docx.text.paragraph.Paragraph at 0x1a23383a10>"
      ]
     },
     "execution_count": 34,
     "metadata": {},
     "output_type": "execute_result"
    }
   ],
   "source": [
    "doc.add_heading('Part 1: Top 25 Negative Fold Changed Genes',2)"
   ]
  },
  {
   "cell_type": "code",
   "execution_count": 35,
   "metadata": {},
   "outputs": [
    {
     "data": {
      "text/html": [
       "<div>\n",
       "<style scoped>\n",
       "    .dataframe tbody tr th:only-of-type {\n",
       "        vertical-align: middle;\n",
       "    }\n",
       "\n",
       "    .dataframe tbody tr th {\n",
       "        vertical-align: top;\n",
       "    }\n",
       "\n",
       "    .dataframe thead th {\n",
       "        text-align: right;\n",
       "    }\n",
       "</style>\n",
       "<table border=\"1\" class=\"dataframe\">\n",
       "  <thead>\n",
       "    <tr style=\"text-align: right;\">\n",
       "      <th></th>\n",
       "      <th>orf</th>\n",
       "      <th>fold_change</th>\n",
       "      <th>function</th>\n",
       "      <th>CommonName</th>\n",
       "      <th>mi</th>\n",
       "    </tr>\n",
       "  </thead>\n",
       "  <tbody>\n",
       "    <tr>\n",
       "      <td>0</td>\n",
       "      <td>cce_0553</td>\n",
       "      <td>-7.505597</td>\n",
       "      <td>serine O-acetyltransferase</td>\n",
       "      <td>cysE2</td>\n",
       "      <td>0.864322</td>\n",
       "    </tr>\n",
       "    <tr>\n",
       "      <td>74</td>\n",
       "      <td>cce_0579</td>\n",
       "      <td>-7.346330</td>\n",
       "      <td>4Fe-4S ferredoxin</td>\n",
       "      <td>fdxB</td>\n",
       "      <td>0.651822</td>\n",
       "    </tr>\n",
       "    <tr>\n",
       "      <td>22</td>\n",
       "      <td>cce_0577</td>\n",
       "      <td>-7.302174</td>\n",
       "      <td>hypothetical protein</td>\n",
       "      <td>cce_0577</td>\n",
       "      <td>0.724044</td>\n",
       "    </tr>\n",
       "    <tr>\n",
       "      <td>29</td>\n",
       "      <td>cce_0576</td>\n",
       "      <td>-7.267055</td>\n",
       "      <td>ferrous iron transport protein A</td>\n",
       "      <td>feoA2</td>\n",
       "      <td>0.701822</td>\n",
       "    </tr>\n",
       "    <tr>\n",
       "      <td>38</td>\n",
       "      <td>cce_0575</td>\n",
       "      <td>-7.200949</td>\n",
       "      <td>ferrous iron transport protein B</td>\n",
       "      <td>feoB2</td>\n",
       "      <td>0.833766</td>\n",
       "    </tr>\n",
       "    <tr>\n",
       "      <td>39</td>\n",
       "      <td>cce_0574</td>\n",
       "      <td>-7.081767</td>\n",
       "      <td>GTP-binding protein, HSR1-related</td>\n",
       "      <td>cce_0574</td>\n",
       "      <td>0.754600</td>\n",
       "    </tr>\n",
       "    <tr>\n",
       "      <td>7</td>\n",
       "      <td>cce_0560</td>\n",
       "      <td>-6.940473</td>\n",
       "      <td>nitrogenase molybdenum-iron protein alpha chain</td>\n",
       "      <td>nifD</td>\n",
       "      <td>0.871266</td>\n",
       "    </tr>\n",
       "    <tr>\n",
       "      <td>2</td>\n",
       "      <td>cce_0563</td>\n",
       "      <td>-6.882549</td>\n",
       "      <td>nitrogenase molybdenum-iron cofactor biosynthe...</td>\n",
       "      <td>nifE</td>\n",
       "      <td>0.796266</td>\n",
       "    </tr>\n",
       "    <tr>\n",
       "      <td>3</td>\n",
       "      <td>cce_0561</td>\n",
       "      <td>-6.798208</td>\n",
       "      <td>nitrogenase molybdenum-iron protein beta chain</td>\n",
       "      <td>nifK</td>\n",
       "      <td>0.846266</td>\n",
       "    </tr>\n",
       "    <tr>\n",
       "      <td>4</td>\n",
       "      <td>cce_0564</td>\n",
       "      <td>-6.692806</td>\n",
       "      <td>nitrogenase molybdenum-iron cofactor biosynthe...</td>\n",
       "      <td>nifN</td>\n",
       "      <td>0.708667</td>\n",
       "    </tr>\n",
       "    <tr>\n",
       "      <td>1</td>\n",
       "      <td>cce_0558</td>\n",
       "      <td>-6.664385</td>\n",
       "      <td>iron-sulfur cluster assembly protein</td>\n",
       "      <td>nifU</td>\n",
       "      <td>0.719877</td>\n",
       "    </tr>\n",
       "    <tr>\n",
       "      <td>18</td>\n",
       "      <td>cce_0571</td>\n",
       "      <td>-6.658731</td>\n",
       "      <td>2Fe-2S ferredoxin, putative nitrogen fixation ...</td>\n",
       "      <td>cce_0571</td>\n",
       "      <td>0.875433</td>\n",
       "    </tr>\n",
       "    <tr>\n",
       "      <td>1731</td>\n",
       "      <td>cce_1663</td>\n",
       "      <td>-6.604403</td>\n",
       "      <td>hypothetical protein</td>\n",
       "      <td>cce_1663</td>\n",
       "      <td>0.000000</td>\n",
       "    </tr>\n",
       "    <tr>\n",
       "      <td>42</td>\n",
       "      <td>cce_0578</td>\n",
       "      <td>-6.529344</td>\n",
       "      <td>putative molybdate ABC transporter, permease p...</td>\n",
       "      <td>cce_0578</td>\n",
       "      <td>0.707377</td>\n",
       "    </tr>\n",
       "    <tr>\n",
       "      <td>14</td>\n",
       "      <td>cce_0549</td>\n",
       "      <td>-6.490041</td>\n",
       "      <td>homocitrate synthase</td>\n",
       "      <td>nifV</td>\n",
       "      <td>0.696266</td>\n",
       "    </tr>\n",
       "    <tr>\n",
       "      <td>8</td>\n",
       "      <td>cce_0557</td>\n",
       "      <td>-6.436896</td>\n",
       "      <td>nitrogenase cofactor synthesis protein</td>\n",
       "      <td>nifS</td>\n",
       "      <td>0.718488</td>\n",
       "    </tr>\n",
       "    <tr>\n",
       "      <td>16</td>\n",
       "      <td>cce_0572</td>\n",
       "      <td>-6.430689</td>\n",
       "      <td>hypothetical protein</td>\n",
       "      <td>cce_0572</td>\n",
       "      <td>0.664322</td>\n",
       "    </tr>\n",
       "    <tr>\n",
       "      <td>25</td>\n",
       "      <td>cce_0548</td>\n",
       "      <td>-6.419047</td>\n",
       "      <td>iron-sulfur cofactor synthesis protein</td>\n",
       "      <td>nifZ</td>\n",
       "      <td>0.701822</td>\n",
       "    </tr>\n",
       "    <tr>\n",
       "      <td>10</td>\n",
       "      <td>cce_0565</td>\n",
       "      <td>-6.415021</td>\n",
       "      <td>probable nitrogen fixation protein</td>\n",
       "      <td>nifX</td>\n",
       "      <td>0.782377</td>\n",
       "    </tr>\n",
       "    <tr>\n",
       "      <td>15</td>\n",
       "      <td>cce_0547</td>\n",
       "      <td>-6.356028</td>\n",
       "      <td>nifT/fixU</td>\n",
       "      <td>cce_0547</td>\n",
       "      <td>0.722655</td>\n",
       "    </tr>\n",
       "    <tr>\n",
       "      <td>5</td>\n",
       "      <td>cce_0555</td>\n",
       "      <td>-6.314751</td>\n",
       "      <td>hypothetical protein</td>\n",
       "      <td>cce_0555</td>\n",
       "      <td>0.705988</td>\n",
       "    </tr>\n",
       "    <tr>\n",
       "      <td>19</td>\n",
       "      <td>cce_0546</td>\n",
       "      <td>-6.312210</td>\n",
       "      <td>hypothetical protein</td>\n",
       "      <td>cce_0546</td>\n",
       "      <td>0.675433</td>\n",
       "    </tr>\n",
       "    <tr>\n",
       "      <td>2395</td>\n",
       "      <td>cce_2746</td>\n",
       "      <td>-6.309769</td>\n",
       "      <td>putative DoxX family protein</td>\n",
       "      <td>cce_2746</td>\n",
       "      <td>0.000000</td>\n",
       "    </tr>\n",
       "    <tr>\n",
       "      <td>20</td>\n",
       "      <td>cce_0570</td>\n",
       "      <td>-6.261746</td>\n",
       "      <td>Fe-S cluster biosynthesis, putative nitrogen f...</td>\n",
       "      <td>hesB</td>\n",
       "      <td>0.812933</td>\n",
       "    </tr>\n",
       "    <tr>\n",
       "      <td>12</td>\n",
       "      <td>cce_0562</td>\n",
       "      <td>-6.261197</td>\n",
       "      <td>hypothetical protein</td>\n",
       "      <td>cce_0562</td>\n",
       "      <td>0.735155</td>\n",
       "    </tr>\n",
       "  </tbody>\n",
       "</table>\n",
       "</div>"
      ],
      "text/plain": [
       "           orf  fold_change  \\\n",
       "0     cce_0553    -7.505597   \n",
       "74    cce_0579    -7.346330   \n",
       "22    cce_0577    -7.302174   \n",
       "29    cce_0576    -7.267055   \n",
       "38    cce_0575    -7.200949   \n",
       "39    cce_0574    -7.081767   \n",
       "7     cce_0560    -6.940473   \n",
       "2     cce_0563    -6.882549   \n",
       "3     cce_0561    -6.798208   \n",
       "4     cce_0564    -6.692806   \n",
       "1     cce_0558    -6.664385   \n",
       "18    cce_0571    -6.658731   \n",
       "1731  cce_1663    -6.604403   \n",
       "42    cce_0578    -6.529344   \n",
       "14    cce_0549    -6.490041   \n",
       "8     cce_0557    -6.436896   \n",
       "16    cce_0572    -6.430689   \n",
       "25    cce_0548    -6.419047   \n",
       "10    cce_0565    -6.415021   \n",
       "15    cce_0547    -6.356028   \n",
       "5     cce_0555    -6.314751   \n",
       "19    cce_0546    -6.312210   \n",
       "2395  cce_2746    -6.309769   \n",
       "20    cce_0570    -6.261746   \n",
       "12    cce_0562    -6.261197   \n",
       "\n",
       "                                               function CommonName        mi  \n",
       "0                            serine O-acetyltransferase      cysE2  0.864322  \n",
       "74                                    4Fe-4S ferredoxin       fdxB  0.651822  \n",
       "22                                 hypothetical protein   cce_0577  0.724044  \n",
       "29                     ferrous iron transport protein A      feoA2  0.701822  \n",
       "38                     ferrous iron transport protein B      feoB2  0.833766  \n",
       "39                    GTP-binding protein, HSR1-related   cce_0574  0.754600  \n",
       "7       nitrogenase molybdenum-iron protein alpha chain       nifD  0.871266  \n",
       "2     nitrogenase molybdenum-iron cofactor biosynthe...       nifE  0.796266  \n",
       "3        nitrogenase molybdenum-iron protein beta chain       nifK  0.846266  \n",
       "4     nitrogenase molybdenum-iron cofactor biosynthe...       nifN  0.708667  \n",
       "1                  iron-sulfur cluster assembly protein       nifU  0.719877  \n",
       "18    2Fe-2S ferredoxin, putative nitrogen fixation ...   cce_0571  0.875433  \n",
       "1731                               hypothetical protein   cce_1663  0.000000  \n",
       "42    putative molybdate ABC transporter, permease p...   cce_0578  0.707377  \n",
       "14                                 homocitrate synthase       nifV  0.696266  \n",
       "8                nitrogenase cofactor synthesis protein       nifS  0.718488  \n",
       "16                                 hypothetical protein   cce_0572  0.664322  \n",
       "25               iron-sulfur cofactor synthesis protein       nifZ  0.701822  \n",
       "10                   probable nitrogen fixation protein       nifX  0.782377  \n",
       "15                                            nifT/fixU   cce_0547  0.722655  \n",
       "5                                  hypothetical protein   cce_0555  0.705988  \n",
       "19                                 hypothetical protein   cce_0546  0.675433  \n",
       "2395                       putative DoxX family protein   cce_2746  0.000000  \n",
       "20    Fe-S cluster biosynthesis, putative nitrogen f...       hesB  0.812933  \n",
       "12                                 hypothetical protein   cce_0562  0.735155  "
      ]
     },
     "execution_count": 35,
     "metadata": {},
     "output_type": "execute_result"
    }
   ],
   "source": [
    "add_table_function(top_fold_changed_genes(nifH_info,direction='negative'))\n",
    "top_fold_changed_genes(nifH_info,direction='negative')"
   ]
  },
  {
   "cell_type": "markdown",
   "metadata": {},
   "source": [
    "## Part 2: Top 25 Positive Fold Changed Genes"
   ]
  },
  {
   "cell_type": "code",
   "execution_count": 36,
   "metadata": {},
   "outputs": [
    {
     "data": {
      "text/plain": [
       "<docx.text.paragraph.Paragraph at 0x1a213395d0>"
      ]
     },
     "execution_count": 36,
     "metadata": {},
     "output_type": "execute_result"
    }
   ],
   "source": [
    "doc.add_heading('Part 2: Top 25 Positive Fold Changed Genes',2)"
   ]
  },
  {
   "cell_type": "code",
   "execution_count": 37,
   "metadata": {},
   "outputs": [
    {
     "data": {
      "text/html": [
       "<div>\n",
       "<style scoped>\n",
       "    .dataframe tbody tr th:only-of-type {\n",
       "        vertical-align: middle;\n",
       "    }\n",
       "\n",
       "    .dataframe tbody tr th {\n",
       "        vertical-align: top;\n",
       "    }\n",
       "\n",
       "    .dataframe thead th {\n",
       "        text-align: right;\n",
       "    }\n",
       "</style>\n",
       "<table border=\"1\" class=\"dataframe\">\n",
       "  <thead>\n",
       "    <tr style=\"text-align: right;\">\n",
       "      <th></th>\n",
       "      <th>orf</th>\n",
       "      <th>fold_change</th>\n",
       "      <th>function</th>\n",
       "      <th>CommonName</th>\n",
       "      <th>mi</th>\n",
       "    </tr>\n",
       "  </thead>\n",
       "  <tbody>\n",
       "    <tr>\n",
       "      <td>2555</td>\n",
       "      <td>cce_2071</td>\n",
       "      <td>7.532596</td>\n",
       "      <td>hypothetical protein</td>\n",
       "      <td>cce_2071</td>\n",
       "      <td>0.724044</td>\n",
       "    </tr>\n",
       "    <tr>\n",
       "      <td>519</td>\n",
       "      <td>cce_2604</td>\n",
       "      <td>6.319160</td>\n",
       "      <td>hypothetical protein</td>\n",
       "      <td>cce_2604</td>\n",
       "      <td>0.228012</td>\n",
       "    </tr>\n",
       "    <tr>\n",
       "      <td>2578</td>\n",
       "      <td>cce_2603</td>\n",
       "      <td>5.928810</td>\n",
       "      <td>hypothetical protein</td>\n",
       "      <td>cce_2603</td>\n",
       "      <td>0.000000</td>\n",
       "    </tr>\n",
       "    <tr>\n",
       "      <td>581</td>\n",
       "      <td>cce_1723</td>\n",
       "      <td>5.807798</td>\n",
       "      <td>unknown</td>\n",
       "      <td>cce_1723</td>\n",
       "      <td>0.047556</td>\n",
       "    </tr>\n",
       "    <tr>\n",
       "      <td>1459</td>\n",
       "      <td>cce_2602</td>\n",
       "      <td>5.685601</td>\n",
       "      <td>hypothetical protein</td>\n",
       "      <td>cce_2602</td>\n",
       "      <td>0.000000</td>\n",
       "    </tr>\n",
       "    <tr>\n",
       "      <td>1723</td>\n",
       "      <td>cce_2072</td>\n",
       "      <td>5.678918</td>\n",
       "      <td>unknown</td>\n",
       "      <td>cce_2072</td>\n",
       "      <td>0.711544</td>\n",
       "    </tr>\n",
       "    <tr>\n",
       "      <td>460</td>\n",
       "      <td>cce_2070</td>\n",
       "      <td>5.678425</td>\n",
       "      <td>unknown</td>\n",
       "      <td>cce_2070</td>\n",
       "      <td>0.686544</td>\n",
       "    </tr>\n",
       "    <tr>\n",
       "      <td>269</td>\n",
       "      <td>cce_4139</td>\n",
       "      <td>5.372815</td>\n",
       "      <td>hypothetical protein</td>\n",
       "      <td>cce_4139</td>\n",
       "      <td>0.093389</td>\n",
       "    </tr>\n",
       "    <tr>\n",
       "      <td>261</td>\n",
       "      <td>cce_2195</td>\n",
       "      <td>5.340014</td>\n",
       "      <td>hypothetical protein</td>\n",
       "      <td>cce_2195</td>\n",
       "      <td>0.053012</td>\n",
       "    </tr>\n",
       "    <tr>\n",
       "      <td>2666</td>\n",
       "      <td>cce_2193</td>\n",
       "      <td>5.205408</td>\n",
       "      <td>toxin secretion ABC transporter ATP-binding pr...</td>\n",
       "      <td>hlyB1</td>\n",
       "      <td>0.000000</td>\n",
       "    </tr>\n",
       "    <tr>\n",
       "      <td>4749</td>\n",
       "      <td>cce_0593</td>\n",
       "      <td>5.162948</td>\n",
       "      <td>protease</td>\n",
       "      <td>cce_0593</td>\n",
       "      <td>0.290611</td>\n",
       "    </tr>\n",
       "    <tr>\n",
       "      <td>4057</td>\n",
       "      <td>cce_2192</td>\n",
       "      <td>5.058925</td>\n",
       "      <td>putative HlyD-family secretion protein</td>\n",
       "      <td>cce_2192</td>\n",
       "      <td>0.000000</td>\n",
       "    </tr>\n",
       "    <tr>\n",
       "      <td>1878</td>\n",
       "      <td>cce_2194</td>\n",
       "      <td>5.010950</td>\n",
       "      <td>conserved hypothetical protein</td>\n",
       "      <td>cce_2194</td>\n",
       "      <td>0.000000</td>\n",
       "    </tr>\n",
       "    <tr>\n",
       "      <td>5172</td>\n",
       "      <td>cce_2181</td>\n",
       "      <td>4.873490</td>\n",
       "      <td>hypothetical protein</td>\n",
       "      <td>cce_2181</td>\n",
       "      <td>0.506584</td>\n",
       "    </tr>\n",
       "    <tr>\n",
       "      <td>3992</td>\n",
       "      <td>cce_2175</td>\n",
       "      <td>4.816412</td>\n",
       "      <td>hypothetical protein</td>\n",
       "      <td>cce_2175</td>\n",
       "      <td>0.000000</td>\n",
       "    </tr>\n",
       "    <tr>\n",
       "      <td>3999</td>\n",
       "      <td>cce_1983</td>\n",
       "      <td>4.742154</td>\n",
       "      <td>probable phytochrome A, two-component sensor p...</td>\n",
       "      <td>aphA</td>\n",
       "      <td>0.144580</td>\n",
       "    </tr>\n",
       "    <tr>\n",
       "      <td>5173</td>\n",
       "      <td>cce_2286</td>\n",
       "      <td>4.633129</td>\n",
       "      <td>hypothetical protein</td>\n",
       "      <td>cce_2286</td>\n",
       "      <td>0.029765</td>\n",
       "    </tr>\n",
       "    <tr>\n",
       "      <td>394</td>\n",
       "      <td>cce_2708</td>\n",
       "      <td>4.457325</td>\n",
       "      <td>rfrA family pentapeptide repeat</td>\n",
       "      <td>cce_2708</td>\n",
       "      <td>0.073578</td>\n",
       "    </tr>\n",
       "    <tr>\n",
       "      <td>2365</td>\n",
       "      <td>cce_1465</td>\n",
       "      <td>4.444855</td>\n",
       "      <td>hypothetical protein</td>\n",
       "      <td>cce_1465</td>\n",
       "      <td>0.420274</td>\n",
       "    </tr>\n",
       "    <tr>\n",
       "      <td>2987</td>\n",
       "      <td>cce_2073</td>\n",
       "      <td>4.336926</td>\n",
       "      <td>unknown</td>\n",
       "      <td>cce_2073</td>\n",
       "      <td>0.314123</td>\n",
       "    </tr>\n",
       "    <tr>\n",
       "      <td>858</td>\n",
       "      <td>cce_4821</td>\n",
       "      <td>4.333295</td>\n",
       "      <td>5-methyltetrahydropteroyltriglutamate--homocys...</td>\n",
       "      <td>metE</td>\n",
       "      <td>0.248746</td>\n",
       "    </tr>\n",
       "    <tr>\n",
       "      <td>2504</td>\n",
       "      <td>cce_2303</td>\n",
       "      <td>4.192712</td>\n",
       "      <td>hypothetical protein</td>\n",
       "      <td>cce_2303</td>\n",
       "      <td>0.590711</td>\n",
       "    </tr>\n",
       "    <tr>\n",
       "      <td>254</td>\n",
       "      <td>cce_0433</td>\n",
       "      <td>4.117491</td>\n",
       "      <td>conserved hypothetical protein</td>\n",
       "      <td>cce_0433</td>\n",
       "      <td>0.000000</td>\n",
       "    </tr>\n",
       "    <tr>\n",
       "      <td>3632</td>\n",
       "      <td>cce_0032</td>\n",
       "      <td>4.011391</td>\n",
       "      <td>ferrous iron transport protein B</td>\n",
       "      <td>feoB1</td>\n",
       "      <td>0.355453</td>\n",
       "    </tr>\n",
       "    <tr>\n",
       "      <td>5193</td>\n",
       "      <td>cce_1459</td>\n",
       "      <td>3.996246</td>\n",
       "      <td>unknown</td>\n",
       "      <td>cce_1459</td>\n",
       "      <td>0.287040</td>\n",
       "    </tr>\n",
       "  </tbody>\n",
       "</table>\n",
       "</div>"
      ],
      "text/plain": [
       "           orf  fold_change  \\\n",
       "2555  cce_2071     7.532596   \n",
       "519   cce_2604     6.319160   \n",
       "2578  cce_2603     5.928810   \n",
       "581   cce_1723     5.807798   \n",
       "1459  cce_2602     5.685601   \n",
       "1723  cce_2072     5.678918   \n",
       "460   cce_2070     5.678425   \n",
       "269   cce_4139     5.372815   \n",
       "261   cce_2195     5.340014   \n",
       "2666  cce_2193     5.205408   \n",
       "4749  cce_0593     5.162948   \n",
       "4057  cce_2192     5.058925   \n",
       "1878  cce_2194     5.010950   \n",
       "5172  cce_2181     4.873490   \n",
       "3992  cce_2175     4.816412   \n",
       "3999  cce_1983     4.742154   \n",
       "5173  cce_2286     4.633129   \n",
       "394   cce_2708     4.457325   \n",
       "2365  cce_1465     4.444855   \n",
       "2987  cce_2073     4.336926   \n",
       "858   cce_4821     4.333295   \n",
       "2504  cce_2303     4.192712   \n",
       "254   cce_0433     4.117491   \n",
       "3632  cce_0032     4.011391   \n",
       "5193  cce_1459     3.996246   \n",
       "\n",
       "                                               function CommonName        mi  \n",
       "2555                               hypothetical protein   cce_2071  0.724044  \n",
       "519                                hypothetical protein   cce_2604  0.228012  \n",
       "2578                               hypothetical protein   cce_2603  0.000000  \n",
       "581                                             unknown   cce_1723  0.047556  \n",
       "1459                               hypothetical protein   cce_2602  0.000000  \n",
       "1723                                            unknown   cce_2072  0.711544  \n",
       "460                                             unknown   cce_2070  0.686544  \n",
       "269                                hypothetical protein   cce_4139  0.093389  \n",
       "261                                hypothetical protein   cce_2195  0.053012  \n",
       "2666  toxin secretion ABC transporter ATP-binding pr...      hlyB1  0.000000  \n",
       "4749                                           protease   cce_0593  0.290611  \n",
       "4057             putative HlyD-family secretion protein   cce_2192  0.000000  \n",
       "1878                     conserved hypothetical protein   cce_2194  0.000000  \n",
       "5172                               hypothetical protein   cce_2181  0.506584  \n",
       "3992                               hypothetical protein   cce_2175  0.000000  \n",
       "3999  probable phytochrome A, two-component sensor p...       aphA  0.144580  \n",
       "5173                               hypothetical protein   cce_2286  0.029765  \n",
       "394                     rfrA family pentapeptide repeat   cce_2708  0.073578  \n",
       "2365                               hypothetical protein   cce_1465  0.420274  \n",
       "2987                                            unknown   cce_2073  0.314123  \n",
       "858   5-methyltetrahydropteroyltriglutamate--homocys...       metE  0.248746  \n",
       "2504                               hypothetical protein   cce_2303  0.590711  \n",
       "254                      conserved hypothetical protein   cce_0433  0.000000  \n",
       "3632                   ferrous iron transport protein B      feoB1  0.355453  \n",
       "5193                                            unknown   cce_1459  0.287040  "
      ]
     },
     "execution_count": 37,
     "metadata": {},
     "output_type": "execute_result"
    }
   ],
   "source": [
    "add_table_function(top_fold_changed_genes(nifH_info,direction='positive'))\n",
    "top_fold_changed_genes(nifH_info,direction='positive')"
   ]
  },
  {
   "cell_type": "markdown",
   "metadata": {},
   "source": [
    "## Part 3: Sigma Factors repressed and induced"
   ]
  },
  {
   "cell_type": "code",
   "execution_count": 38,
   "metadata": {},
   "outputs": [
    {
     "data": {
      "text/plain": [
       "<docx.text.paragraph.Paragraph at 0x1a232d0590>"
      ]
     },
     "execution_count": 38,
     "metadata": {},
     "output_type": "execute_result"
    }
   ],
   "source": [
    "doc.add_heading('Part 3: Sigma Factors repressed and induced',2)"
   ]
  },
  {
   "cell_type": "markdown",
   "metadata": {},
   "source": [
    "### Repressed"
   ]
  },
  {
   "cell_type": "code",
   "execution_count": 39,
   "metadata": {},
   "outputs": [
    {
     "data": {
      "text/plain": [
       "<docx.text.paragraph.Paragraph at 0x1a2338ba10>"
      ]
     },
     "execution_count": 39,
     "metadata": {},
     "output_type": "execute_result"
    }
   ],
   "source": [
    "doc.add_heading('Repressed',3)"
   ]
  },
  {
   "cell_type": "code",
   "execution_count": 40,
   "metadata": {},
   "outputs": [
    {
     "data": {
      "text/html": [
       "<div>\n",
       "<style scoped>\n",
       "    .dataframe tbody tr th:only-of-type {\n",
       "        vertical-align: middle;\n",
       "    }\n",
       "\n",
       "    .dataframe tbody tr th {\n",
       "        vertical-align: top;\n",
       "    }\n",
       "\n",
       "    .dataframe thead th {\n",
       "        text-align: right;\n",
       "    }\n",
       "</style>\n",
       "<table border=\"1\" class=\"dataframe\">\n",
       "  <thead>\n",
       "    <tr style=\"text-align: right;\">\n",
       "      <th></th>\n",
       "      <th>orf</th>\n",
       "      <th>fold_change</th>\n",
       "      <th>function</th>\n",
       "      <th>CommonName</th>\n",
       "      <th>mi</th>\n",
       "    </tr>\n",
       "  </thead>\n",
       "  <tbody>\n",
       "    <tr>\n",
       "      <td>4543</td>\n",
       "      <td>cce_2566</td>\n",
       "      <td>-3.535429</td>\n",
       "      <td>group 3 sigma-70 RNA polymerase sigma factor F</td>\n",
       "      <td>sigF</td>\n",
       "      <td>0.195701</td>\n",
       "    </tr>\n",
       "    <tr>\n",
       "      <td>4605</td>\n",
       "      <td>cce_3586</td>\n",
       "      <td>-2.687199</td>\n",
       "      <td>group 3 sigma-70 RNA polymerase sigma factor J</td>\n",
       "      <td>sigJ</td>\n",
       "      <td>0.092923</td>\n",
       "    </tr>\n",
       "    <tr>\n",
       "      <td>1287</td>\n",
       "      <td>cce_0644</td>\n",
       "      <td>-2.053902</td>\n",
       "      <td>group 2 sigma-70 RNA polymerase sigma factor B</td>\n",
       "      <td>sigB</td>\n",
       "      <td>0.562933</td>\n",
       "    </tr>\n",
       "    <tr>\n",
       "      <td>77</td>\n",
       "      <td>cce_2337</td>\n",
       "      <td>-1.803669</td>\n",
       "      <td>group 2 sigma-70 RNA polymerase sigma factor</td>\n",
       "      <td>cce_2337</td>\n",
       "      <td>0.000000</td>\n",
       "    </tr>\n",
       "    <tr>\n",
       "      <td>373</td>\n",
       "      <td>cce_2424</td>\n",
       "      <td>-1.555899</td>\n",
       "      <td>group 4 sigma-70 RNA polymerase sigma factor H</td>\n",
       "      <td>sigH</td>\n",
       "      <td>0.182873</td>\n",
       "    </tr>\n",
       "    <tr>\n",
       "      <td>1022</td>\n",
       "      <td>cce_0875</td>\n",
       "      <td>-1.012185</td>\n",
       "      <td>group 1 sigma-70 RNA polymerase sigma factor A</td>\n",
       "      <td>sigA</td>\n",
       "      <td>0.027417</td>\n",
       "    </tr>\n",
       "  </tbody>\n",
       "</table>\n",
       "</div>"
      ],
      "text/plain": [
       "           orf  fold_change                                        function  \\\n",
       "4543  cce_2566    -3.535429  group 3 sigma-70 RNA polymerase sigma factor F   \n",
       "4605  cce_3586    -2.687199  group 3 sigma-70 RNA polymerase sigma factor J   \n",
       "1287  cce_0644    -2.053902  group 2 sigma-70 RNA polymerase sigma factor B   \n",
       "77    cce_2337    -1.803669    group 2 sigma-70 RNA polymerase sigma factor   \n",
       "373   cce_2424    -1.555899  group 4 sigma-70 RNA polymerase sigma factor H   \n",
       "1022  cce_0875    -1.012185  group 1 sigma-70 RNA polymerase sigma factor A   \n",
       "\n",
       "     CommonName        mi  \n",
       "4543       sigF  0.195701  \n",
       "4605       sigJ  0.092923  \n",
       "1287       sigB  0.562933  \n",
       "77     cce_2337  0.000000  \n",
       "373        sigH  0.182873  \n",
       "1022       sigA  0.027417  "
      ]
     },
     "execution_count": 40,
     "metadata": {},
     "output_type": "execute_result"
    }
   ],
   "source": [
    "add_table_function(get_sigma_factors(nifH_info,direction='negative'))\n",
    "get_sigma_factors(nifH_info,direction='negative')"
   ]
  },
  {
   "cell_type": "markdown",
   "metadata": {},
   "source": [
    "### Induced"
   ]
  },
  {
   "cell_type": "code",
   "execution_count": 41,
   "metadata": {},
   "outputs": [
    {
     "data": {
      "text/plain": [
       "<docx.text.paragraph.Paragraph at 0x1a233a38d0>"
      ]
     },
     "execution_count": 41,
     "metadata": {},
     "output_type": "execute_result"
    }
   ],
   "source": [
    "doc.add_heading('Induced',3)"
   ]
  },
  {
   "cell_type": "code",
   "execution_count": 42,
   "metadata": {},
   "outputs": [
    {
     "data": {
      "text/html": [
       "<div>\n",
       "<style scoped>\n",
       "    .dataframe tbody tr th:only-of-type {\n",
       "        vertical-align: middle;\n",
       "    }\n",
       "\n",
       "    .dataframe tbody tr th {\n",
       "        vertical-align: top;\n",
       "    }\n",
       "\n",
       "    .dataframe thead th {\n",
       "        text-align: right;\n",
       "    }\n",
       "</style>\n",
       "<table border=\"1\" class=\"dataframe\">\n",
       "  <thead>\n",
       "    <tr style=\"text-align: right;\">\n",
       "      <th></th>\n",
       "      <th>orf</th>\n",
       "      <th>fold_change</th>\n",
       "      <th>function</th>\n",
       "      <th>CommonName</th>\n",
       "      <th>mi</th>\n",
       "    </tr>\n",
       "  </thead>\n",
       "  <tbody>\n",
       "    <tr>\n",
       "      <td>208</td>\n",
       "      <td>cce_0601</td>\n",
       "      <td>1.445092</td>\n",
       "      <td>group 2 sigma-70 RNA polymerase sigma factor E</td>\n",
       "      <td>sigE</td>\n",
       "      <td>0.0</td>\n",
       "    </tr>\n",
       "    <tr>\n",
       "      <td>5016</td>\n",
       "      <td>cce_5029</td>\n",
       "      <td>1.217904</td>\n",
       "      <td>putative group 3/4 sigma-70 RNA polymerase sig...</td>\n",
       "      <td>cce_5029</td>\n",
       "      <td>0.0</td>\n",
       "    </tr>\n",
       "  </tbody>\n",
       "</table>\n",
       "</div>"
      ],
      "text/plain": [
       "           orf  fold_change  \\\n",
       "208   cce_0601     1.445092   \n",
       "5016  cce_5029     1.217904   \n",
       "\n",
       "                                               function CommonName   mi  \n",
       "208      group 2 sigma-70 RNA polymerase sigma factor E       sigE  0.0  \n",
       "5016  putative group 3/4 sigma-70 RNA polymerase sig...   cce_5029  0.0  "
      ]
     },
     "execution_count": 42,
     "metadata": {},
     "output_type": "execute_result"
    }
   ],
   "source": [
    "add_table_function(get_sigma_factors(nifH_info,direction='positive'))\n",
    "get_sigma_factors(nifH_info,direction='positive')"
   ]
  },
  {
   "cell_type": "markdown",
   "metadata": {},
   "source": [
    "## Part 4: Clock genes repressed and induced"
   ]
  },
  {
   "cell_type": "code",
   "execution_count": 43,
   "metadata": {},
   "outputs": [
    {
     "data": {
      "text/plain": [
       "<docx.text.paragraph.Paragraph at 0x1a2339dc90>"
      ]
     },
     "execution_count": 43,
     "metadata": {},
     "output_type": "execute_result"
    }
   ],
   "source": [
    "doc.add_heading('Part 4: Clock genes repressed and induced',2)"
   ]
  },
  {
   "cell_type": "markdown",
   "metadata": {},
   "source": [
    "### Repressed"
   ]
  },
  {
   "cell_type": "code",
   "execution_count": 44,
   "metadata": {},
   "outputs": [
    {
     "data": {
      "text/plain": [
       "<docx.text.paragraph.Paragraph at 0x1a213d3e90>"
      ]
     },
     "execution_count": 44,
     "metadata": {},
     "output_type": "execute_result"
    }
   ],
   "source": [
    "doc.add_heading('Repressed',3)"
   ]
  },
  {
   "cell_type": "code",
   "execution_count": 45,
   "metadata": {},
   "outputs": [
    {
     "data": {
      "text/html": [
       "<div>\n",
       "<style scoped>\n",
       "    .dataframe tbody tr th:only-of-type {\n",
       "        vertical-align: middle;\n",
       "    }\n",
       "\n",
       "    .dataframe tbody tr th {\n",
       "        vertical-align: top;\n",
       "    }\n",
       "\n",
       "    .dataframe thead th {\n",
       "        text-align: right;\n",
       "    }\n",
       "</style>\n",
       "<table border=\"1\" class=\"dataframe\">\n",
       "  <thead>\n",
       "    <tr style=\"text-align: right;\">\n",
       "      <th></th>\n",
       "      <th>orf</th>\n",
       "      <th>fold_change</th>\n",
       "      <th>function</th>\n",
       "      <th>CommonName</th>\n",
       "      <th>mi</th>\n",
       "    </tr>\n",
       "  </thead>\n",
       "  <tbody>\n",
       "    <tr>\n",
       "      <td>445</td>\n",
       "      <td>cce_0424</td>\n",
       "      <td>-1.118655</td>\n",
       "      <td>circadian clock protein</td>\n",
       "      <td>kaiA</td>\n",
       "      <td>0.7921</td>\n",
       "    </tr>\n",
       "  </tbody>\n",
       "</table>\n",
       "</div>"
      ],
      "text/plain": [
       "          orf  fold_change                 function CommonName      mi\n",
       "445  cce_0424    -1.118655  circadian clock protein       kaiA  0.7921"
      ]
     },
     "execution_count": 45,
     "metadata": {},
     "output_type": "execute_result"
    }
   ],
   "source": [
    "add_table_function(get_circadian(nifH_info,direction='negative'))\n",
    "get_circadian(nifH_info,direction='negative')"
   ]
  },
  {
   "cell_type": "markdown",
   "metadata": {},
   "source": [
    "### Induced"
   ]
  },
  {
   "cell_type": "code",
   "execution_count": 46,
   "metadata": {},
   "outputs": [
    {
     "data": {
      "text/plain": [
       "<docx.text.paragraph.Paragraph at 0x1a23383950>"
      ]
     },
     "execution_count": 46,
     "metadata": {},
     "output_type": "execute_result"
    }
   ],
   "source": [
    "doc.add_heading('Induced',3)"
   ]
  },
  {
   "cell_type": "code",
   "execution_count": 47,
   "metadata": {},
   "outputs": [
    {
     "data": {
      "text/html": [
       "<div>\n",
       "<style scoped>\n",
       "    .dataframe tbody tr th:only-of-type {\n",
       "        vertical-align: middle;\n",
       "    }\n",
       "\n",
       "    .dataframe tbody tr th {\n",
       "        vertical-align: top;\n",
       "    }\n",
       "\n",
       "    .dataframe thead th {\n",
       "        text-align: right;\n",
       "    }\n",
       "</style>\n",
       "<table border=\"1\" class=\"dataframe\">\n",
       "  <thead>\n",
       "    <tr style=\"text-align: right;\">\n",
       "      <th></th>\n",
       "      <th>orf</th>\n",
       "      <th>fold_change</th>\n",
       "      <th>function</th>\n",
       "      <th>CommonName</th>\n",
       "      <th>mi</th>\n",
       "    </tr>\n",
       "  </thead>\n",
       "  <tbody>\n",
       "    <tr>\n",
       "      <td>361</td>\n",
       "      <td>cce_0145</td>\n",
       "      <td>2.826462</td>\n",
       "      <td>putative circadian clock protein</td>\n",
       "      <td>kaiB4</td>\n",
       "      <td>0.0</td>\n",
       "    </tr>\n",
       "    <tr>\n",
       "      <td>166</td>\n",
       "      <td>cce_0435</td>\n",
       "      <td>1.741937</td>\n",
       "      <td>circadian clock protein</td>\n",
       "      <td>kaiB3</td>\n",
       "      <td>0.0</td>\n",
       "    </tr>\n",
       "  </tbody>\n",
       "</table>\n",
       "</div>"
      ],
      "text/plain": [
       "          orf  fold_change                          function CommonName   mi\n",
       "361  cce_0145     2.826462  putative circadian clock protein      kaiB4  0.0\n",
       "166  cce_0435     1.741937           circadian clock protein      kaiB3  0.0"
      ]
     },
     "execution_count": 47,
     "metadata": {},
     "output_type": "execute_result"
    }
   ],
   "source": [
    "add_table_function(get_circadian(nifH_info,direction='positive'))\n",
    "get_circadian(nifH_info,direction='positive')"
   ]
  },
  {
   "cell_type": "markdown",
   "metadata": {},
   "source": [
    "## Part 5: Regulators repressed and induced"
   ]
  },
  {
   "cell_type": "code",
   "execution_count": 48,
   "metadata": {},
   "outputs": [
    {
     "data": {
      "text/plain": [
       "<docx.text.paragraph.Paragraph at 0x1a21373810>"
      ]
     },
     "execution_count": 48,
     "metadata": {},
     "output_type": "execute_result"
    }
   ],
   "source": [
    "doc.add_heading('Part 5: Regulators repressed and induced',2)"
   ]
  },
  {
   "cell_type": "markdown",
   "metadata": {},
   "source": [
    "### Repressed"
   ]
  },
  {
   "cell_type": "code",
   "execution_count": 49,
   "metadata": {},
   "outputs": [
    {
     "data": {
      "text/plain": [
       "<docx.text.paragraph.Paragraph at 0x1a213c4390>"
      ]
     },
     "execution_count": 49,
     "metadata": {},
     "output_type": "execute_result"
    }
   ],
   "source": [
    "doc.add_heading('Repressed',3)"
   ]
  },
  {
   "cell_type": "code",
   "execution_count": 50,
   "metadata": {},
   "outputs": [
    {
     "data": {
      "text/html": [
       "<div>\n",
       "<style scoped>\n",
       "    .dataframe tbody tr th:only-of-type {\n",
       "        vertical-align: middle;\n",
       "    }\n",
       "\n",
       "    .dataframe tbody tr th {\n",
       "        vertical-align: top;\n",
       "    }\n",
       "\n",
       "    .dataframe thead th {\n",
       "        text-align: right;\n",
       "    }\n",
       "</style>\n",
       "<table border=\"1\" class=\"dataframe\">\n",
       "  <thead>\n",
       "    <tr style=\"text-align: right;\">\n",
       "      <th></th>\n",
       "      <th>orf</th>\n",
       "      <th>fold_change</th>\n",
       "      <th>function</th>\n",
       "      <th>CommonName</th>\n",
       "      <th>mi</th>\n",
       "    </tr>\n",
       "  </thead>\n",
       "  <tbody>\n",
       "    <tr>\n",
       "      <td>3487</td>\n",
       "      <td>cce_4195</td>\n",
       "      <td>-3.629378</td>\n",
       "      <td>CheY-like two-component hybrid sensor and regu...</td>\n",
       "      <td>cce_4195</td>\n",
       "      <td>0.162169</td>\n",
       "    </tr>\n",
       "    <tr>\n",
       "      <td>56</td>\n",
       "      <td>cce_1001</td>\n",
       "      <td>-3.573785</td>\n",
       "      <td>ATP-dependent Clp protease, regulatory subunit</td>\n",
       "      <td>clpC2</td>\n",
       "      <td>0.174044</td>\n",
       "    </tr>\n",
       "    <tr>\n",
       "      <td>55</td>\n",
       "      <td>cce_3127</td>\n",
       "      <td>-3.551802</td>\n",
       "      <td>transcription regulator, Fur family</td>\n",
       "      <td>cce_3127</td>\n",
       "      <td>0.390413</td>\n",
       "    </tr>\n",
       "    <tr>\n",
       "      <td>652</td>\n",
       "      <td>cce_0198</td>\n",
       "      <td>-3.257695</td>\n",
       "      <td>LysR family transcriptional regulatory protein...</td>\n",
       "      <td>ntcB</td>\n",
       "      <td>0.569778</td>\n",
       "    </tr>\n",
       "    <tr>\n",
       "      <td>17</td>\n",
       "      <td>cce_1898</td>\n",
       "      <td>-2.986488</td>\n",
       "      <td>probable transcriptional regulator</td>\n",
       "      <td>patB</td>\n",
       "      <td>0.874044</td>\n",
       "    </tr>\n",
       "    <tr>\n",
       "      <td>4009</td>\n",
       "      <td>cce_0970</td>\n",
       "      <td>-2.708480</td>\n",
       "      <td>two-component transcription regulator</td>\n",
       "      <td>cce_0970</td>\n",
       "      <td>0.584361</td>\n",
       "    </tr>\n",
       "    <tr>\n",
       "      <td>3940</td>\n",
       "      <td>cce_0713</td>\n",
       "      <td>-2.273586</td>\n",
       "      <td>two-component response regulator</td>\n",
       "      <td>cce_0713</td>\n",
       "      <td>0.022854</td>\n",
       "    </tr>\n",
       "    <tr>\n",
       "      <td>170</td>\n",
       "      <td>cce_3559</td>\n",
       "      <td>-2.218372</td>\n",
       "      <td>two-component response regulator</td>\n",
       "      <td>cce_3559</td>\n",
       "      <td>0.567695</td>\n",
       "    </tr>\n",
       "    <tr>\n",
       "      <td>4007</td>\n",
       "      <td>cce_4543</td>\n",
       "      <td>-2.150760</td>\n",
       "      <td>two-component response regulator</td>\n",
       "      <td>cce_4543</td>\n",
       "      <td>0.047159</td>\n",
       "    </tr>\n",
       "    <tr>\n",
       "      <td>3994</td>\n",
       "      <td>cce_0446</td>\n",
       "      <td>-1.939965</td>\n",
       "      <td>two-component response regulator</td>\n",
       "      <td>cce_0446</td>\n",
       "      <td>0.038228</td>\n",
       "    </tr>\n",
       "    <tr>\n",
       "      <td>4807</td>\n",
       "      <td>cce_1412</td>\n",
       "      <td>-1.887990</td>\n",
       "      <td>two-component response regulator</td>\n",
       "      <td>cce_1412</td>\n",
       "      <td>0.562139</td>\n",
       "    </tr>\n",
       "    <tr>\n",
       "      <td>3629</td>\n",
       "      <td>cce_2624</td>\n",
       "      <td>-1.644243</td>\n",
       "      <td>CheA-like two-component hybrid sensor and regu...</td>\n",
       "      <td>cce_2624</td>\n",
       "      <td>0.169114</td>\n",
       "    </tr>\n",
       "    <tr>\n",
       "      <td>3298</td>\n",
       "      <td>cce_4196</td>\n",
       "      <td>-1.642839</td>\n",
       "      <td>two-component response regulator</td>\n",
       "      <td>cce_4196</td>\n",
       "      <td>0.087368</td>\n",
       "    </tr>\n",
       "    <tr>\n",
       "      <td>2187</td>\n",
       "      <td>cce_3937</td>\n",
       "      <td>-1.525176</td>\n",
       "      <td>two-component hybrid sensor and regulator</td>\n",
       "      <td>cce_3937</td>\n",
       "      <td>0.097685</td>\n",
       "    </tr>\n",
       "    <tr>\n",
       "      <td>3519</td>\n",
       "      <td>cce_0754</td>\n",
       "      <td>-1.519930</td>\n",
       "      <td>two-component response regulator</td>\n",
       "      <td>cce_0754</td>\n",
       "      <td>0.000000</td>\n",
       "    </tr>\n",
       "    <tr>\n",
       "      <td>137</td>\n",
       "      <td>cce_1186</td>\n",
       "      <td>-1.380433</td>\n",
       "      <td>two-component hybrid sensor and regulator</td>\n",
       "      <td>cce_1186</td>\n",
       "      <td>0.525433</td>\n",
       "    </tr>\n",
       "    <tr>\n",
       "      <td>1152</td>\n",
       "      <td>cce_4542</td>\n",
       "      <td>-1.287402</td>\n",
       "      <td>two-component response regulator</td>\n",
       "      <td>cce_4542</td>\n",
       "      <td>0.341901</td>\n",
       "    </tr>\n",
       "    <tr>\n",
       "      <td>63</td>\n",
       "      <td>cce_1135</td>\n",
       "      <td>-1.234215</td>\n",
       "      <td>two-component response regulator</td>\n",
       "      <td>cce_1135</td>\n",
       "      <td>0.389123</td>\n",
       "    </tr>\n",
       "    <tr>\n",
       "      <td>2497</td>\n",
       "      <td>cce_0712</td>\n",
       "      <td>-1.185699</td>\n",
       "      <td>two-component response regulator</td>\n",
       "      <td>cce_0712</td>\n",
       "      <td>0.580988</td>\n",
       "    </tr>\n",
       "    <tr>\n",
       "      <td>2515</td>\n",
       "      <td>cce_1196</td>\n",
       "      <td>-1.164772</td>\n",
       "      <td>putative CRISPR-associated negative autoregulator</td>\n",
       "      <td>cce_1196</td>\n",
       "      <td>0.618488</td>\n",
       "    </tr>\n",
       "    <tr>\n",
       "      <td>303</td>\n",
       "      <td>cce_3731</td>\n",
       "      <td>-1.157707</td>\n",
       "      <td>putative Rubisco transcriptional regulator, Ly...</td>\n",
       "      <td>rbcR</td>\n",
       "      <td>0.865711</td>\n",
       "    </tr>\n",
       "    <tr>\n",
       "      <td>434</td>\n",
       "      <td>cce_2509</td>\n",
       "      <td>-1.084254</td>\n",
       "      <td>two-component hybrid sensor and regulator</td>\n",
       "      <td>cce_2509</td>\n",
       "      <td>0.255988</td>\n",
       "    </tr>\n",
       "    <tr>\n",
       "      <td>315</td>\n",
       "      <td>cce_0448</td>\n",
       "      <td>-1.045645</td>\n",
       "      <td>response regulator</td>\n",
       "      <td>cce_0448</td>\n",
       "      <td>0.225929</td>\n",
       "    </tr>\n",
       "    <tr>\n",
       "      <td>2304</td>\n",
       "      <td>cce_2365</td>\n",
       "      <td>-1.015668</td>\n",
       "      <td>two-component response regulator</td>\n",
       "      <td>cce_2365</td>\n",
       "      <td>0.505790</td>\n",
       "    </tr>\n",
       "  </tbody>\n",
       "</table>\n",
       "</div>"
      ],
      "text/plain": [
       "           orf  fold_change  \\\n",
       "3487  cce_4195    -3.629378   \n",
       "56    cce_1001    -3.573785   \n",
       "55    cce_3127    -3.551802   \n",
       "652   cce_0198    -3.257695   \n",
       "17    cce_1898    -2.986488   \n",
       "4009  cce_0970    -2.708480   \n",
       "3940  cce_0713    -2.273586   \n",
       "170   cce_3559    -2.218372   \n",
       "4007  cce_4543    -2.150760   \n",
       "3994  cce_0446    -1.939965   \n",
       "4807  cce_1412    -1.887990   \n",
       "3629  cce_2624    -1.644243   \n",
       "3298  cce_4196    -1.642839   \n",
       "2187  cce_3937    -1.525176   \n",
       "3519  cce_0754    -1.519930   \n",
       "137   cce_1186    -1.380433   \n",
       "1152  cce_4542    -1.287402   \n",
       "63    cce_1135    -1.234215   \n",
       "2497  cce_0712    -1.185699   \n",
       "2515  cce_1196    -1.164772   \n",
       "303   cce_3731    -1.157707   \n",
       "434   cce_2509    -1.084254   \n",
       "315   cce_0448    -1.045645   \n",
       "2304  cce_2365    -1.015668   \n",
       "\n",
       "                                               function CommonName        mi  \n",
       "3487  CheY-like two-component hybrid sensor and regu...   cce_4195  0.162169  \n",
       "56       ATP-dependent Clp protease, regulatory subunit      clpC2  0.174044  \n",
       "55                  transcription regulator, Fur family   cce_3127  0.390413  \n",
       "652   LysR family transcriptional regulatory protein...       ntcB  0.569778  \n",
       "17                   probable transcriptional regulator       patB  0.874044  \n",
       "4009              two-component transcription regulator   cce_0970  0.584361  \n",
       "3940                   two-component response regulator   cce_0713  0.022854  \n",
       "170                    two-component response regulator   cce_3559  0.567695  \n",
       "4007                   two-component response regulator   cce_4543  0.047159  \n",
       "3994                   two-component response regulator   cce_0446  0.038228  \n",
       "4807                   two-component response regulator   cce_1412  0.562139  \n",
       "3629  CheA-like two-component hybrid sensor and regu...   cce_2624  0.169114  \n",
       "3298                   two-component response regulator   cce_4196  0.087368  \n",
       "2187          two-component hybrid sensor and regulator   cce_3937  0.097685  \n",
       "3519                   two-component response regulator   cce_0754  0.000000  \n",
       "137           two-component hybrid sensor and regulator   cce_1186  0.525433  \n",
       "1152                   two-component response regulator   cce_4542  0.341901  \n",
       "63                     two-component response regulator   cce_1135  0.389123  \n",
       "2497                   two-component response regulator   cce_0712  0.580988  \n",
       "2515  putative CRISPR-associated negative autoregulator   cce_1196  0.618488  \n",
       "303   putative Rubisco transcriptional regulator, Ly...       rbcR  0.865711  \n",
       "434           two-component hybrid sensor and regulator   cce_2509  0.255988  \n",
       "315                                  response regulator   cce_0448  0.225929  \n",
       "2304                   two-component response regulator   cce_2365  0.505790  "
      ]
     },
     "execution_count": 50,
     "metadata": {},
     "output_type": "execute_result"
    }
   ],
   "source": [
    "add_table_function(get_regulators(nifH_info,direction='negative'))\n",
    "get_regulators(nifH_info,direction='negative')"
   ]
  },
  {
   "cell_type": "markdown",
   "metadata": {},
   "source": [
    "### Induced"
   ]
  },
  {
   "cell_type": "code",
   "execution_count": 51,
   "metadata": {},
   "outputs": [
    {
     "data": {
      "text/plain": [
       "<docx.text.paragraph.Paragraph at 0x1a213d3190>"
      ]
     },
     "execution_count": 51,
     "metadata": {},
     "output_type": "execute_result"
    }
   ],
   "source": [
    "doc.add_heading('Induced',3)"
   ]
  },
  {
   "cell_type": "code",
   "execution_count": 52,
   "metadata": {},
   "outputs": [
    {
     "data": {
      "text/html": [
       "<div>\n",
       "<style scoped>\n",
       "    .dataframe tbody tr th:only-of-type {\n",
       "        vertical-align: middle;\n",
       "    }\n",
       "\n",
       "    .dataframe tbody tr th {\n",
       "        vertical-align: top;\n",
       "    }\n",
       "\n",
       "    .dataframe thead th {\n",
       "        text-align: right;\n",
       "    }\n",
       "</style>\n",
       "<table border=\"1\" class=\"dataframe\">\n",
       "  <thead>\n",
       "    <tr style=\"text-align: right;\">\n",
       "      <th></th>\n",
       "      <th>orf</th>\n",
       "      <th>fold_change</th>\n",
       "      <th>function</th>\n",
       "      <th>CommonName</th>\n",
       "      <th>mi</th>\n",
       "    </tr>\n",
       "  </thead>\n",
       "  <tbody>\n",
       "    <tr>\n",
       "      <td>1338</td>\n",
       "      <td>cce_1982</td>\n",
       "      <td>3.894370</td>\n",
       "      <td>CheY-like two-component hybrid sensor and regu...</td>\n",
       "      <td>cce_1982</td>\n",
       "      <td>0.329401</td>\n",
       "    </tr>\n",
       "    <tr>\n",
       "      <td>2302</td>\n",
       "      <td>cce_1816</td>\n",
       "      <td>2.018677</td>\n",
       "      <td>transcriptional regulatory protein</td>\n",
       "      <td>cce_1816</td>\n",
       "      <td>0.655988</td>\n",
       "    </tr>\n",
       "    <tr>\n",
       "      <td>1529</td>\n",
       "      <td>cce_1775</td>\n",
       "      <td>1.806693</td>\n",
       "      <td>nitrogen regulatory protein P-II</td>\n",
       "      <td>glnB</td>\n",
       "      <td>0.114256</td>\n",
       "    </tr>\n",
       "    <tr>\n",
       "      <td>4898</td>\n",
       "      <td>cce_5156</td>\n",
       "      <td>1.638463</td>\n",
       "      <td>putative transcriptional regulator</td>\n",
       "      <td>cce_5156</td>\n",
       "      <td>0.580988</td>\n",
       "    </tr>\n",
       "    <tr>\n",
       "      <td>3575</td>\n",
       "      <td>cce_3174</td>\n",
       "      <td>1.551538</td>\n",
       "      <td>transcriptional regulator</td>\n",
       "      <td>cce_3174</td>\n",
       "      <td>0.000000</td>\n",
       "    </tr>\n",
       "    <tr>\n",
       "      <td>1226</td>\n",
       "      <td>cce_1768</td>\n",
       "      <td>1.370489</td>\n",
       "      <td>probable transcriptional regulator</td>\n",
       "      <td>cce_1768</td>\n",
       "      <td>0.282873</td>\n",
       "    </tr>\n",
       "    <tr>\n",
       "      <td>4181</td>\n",
       "      <td>cce_1520</td>\n",
       "      <td>1.270428</td>\n",
       "      <td>two-component response regulator</td>\n",
       "      <td>cce_1520</td>\n",
       "      <td>0.482278</td>\n",
       "    </tr>\n",
       "    <tr>\n",
       "      <td>5075</td>\n",
       "      <td>cce_1695</td>\n",
       "      <td>1.029246</td>\n",
       "      <td>two-component response regulator</td>\n",
       "      <td>cce_1695</td>\n",
       "      <td>0.448250</td>\n",
       "    </tr>\n",
       "  </tbody>\n",
       "</table>\n",
       "</div>"
      ],
      "text/plain": [
       "           orf  fold_change  \\\n",
       "1338  cce_1982     3.894370   \n",
       "2302  cce_1816     2.018677   \n",
       "1529  cce_1775     1.806693   \n",
       "4898  cce_5156     1.638463   \n",
       "3575  cce_3174     1.551538   \n",
       "1226  cce_1768     1.370489   \n",
       "4181  cce_1520     1.270428   \n",
       "5075  cce_1695     1.029246   \n",
       "\n",
       "                                               function CommonName        mi  \n",
       "1338  CheY-like two-component hybrid sensor and regu...   cce_1982  0.329401  \n",
       "2302                 transcriptional regulatory protein   cce_1816  0.655988  \n",
       "1529                   nitrogen regulatory protein P-II       glnB  0.114256  \n",
       "4898                 putative transcriptional regulator   cce_5156  0.580988  \n",
       "3575                          transcriptional regulator   cce_3174  0.000000  \n",
       "1226                 probable transcriptional regulator   cce_1768  0.282873  \n",
       "4181                   two-component response regulator   cce_1520  0.482278  \n",
       "5075                   two-component response regulator   cce_1695  0.448250  "
      ]
     },
     "execution_count": 52,
     "metadata": {},
     "output_type": "execute_result"
    }
   ],
   "source": [
    "add_table_function(get_regulators(nifH_info,direction='positive'))\n",
    "get_regulators(nifH_info,direction='positive')"
   ]
  },
  {
   "cell_type": "markdown",
   "metadata": {},
   "source": [
    "## Part 6: Sensors repressed and induced"
   ]
  },
  {
   "cell_type": "code",
   "execution_count": 53,
   "metadata": {},
   "outputs": [
    {
     "data": {
      "text/plain": [
       "<docx.text.paragraph.Paragraph at 0x1a23141510>"
      ]
     },
     "execution_count": 53,
     "metadata": {},
     "output_type": "execute_result"
    }
   ],
   "source": [
    "doc.add_heading('Part 6: Sensors repressed and induced',2)"
   ]
  },
  {
   "cell_type": "markdown",
   "metadata": {},
   "source": [
    "### Repressed"
   ]
  },
  {
   "cell_type": "code",
   "execution_count": 54,
   "metadata": {},
   "outputs": [
    {
     "data": {
      "text/plain": [
       "<docx.text.paragraph.Paragraph at 0x1a213c4f10>"
      ]
     },
     "execution_count": 54,
     "metadata": {},
     "output_type": "execute_result"
    }
   ],
   "source": [
    "doc.add_heading('Repressed',3)"
   ]
  },
  {
   "cell_type": "code",
   "execution_count": 55,
   "metadata": {},
   "outputs": [
    {
     "data": {
      "text/html": [
       "<div>\n",
       "<style scoped>\n",
       "    .dataframe tbody tr th:only-of-type {\n",
       "        vertical-align: middle;\n",
       "    }\n",
       "\n",
       "    .dataframe tbody tr th {\n",
       "        vertical-align: top;\n",
       "    }\n",
       "\n",
       "    .dataframe thead th {\n",
       "        text-align: right;\n",
       "    }\n",
       "</style>\n",
       "<table border=\"1\" class=\"dataframe\">\n",
       "  <thead>\n",
       "    <tr style=\"text-align: right;\">\n",
       "      <th></th>\n",
       "      <th>orf</th>\n",
       "      <th>fold_change</th>\n",
       "      <th>function</th>\n",
       "      <th>CommonName</th>\n",
       "      <th>mi</th>\n",
       "    </tr>\n",
       "  </thead>\n",
       "  <tbody>\n",
       "    <tr>\n",
       "      <td>3487</td>\n",
       "      <td>cce_4195</td>\n",
       "      <td>-3.629378</td>\n",
       "      <td>CheY-like two-component hybrid sensor and regu...</td>\n",
       "      <td>cce_4195</td>\n",
       "      <td>0.162169</td>\n",
       "    </tr>\n",
       "    <tr>\n",
       "      <td>106</td>\n",
       "      <td>cce_2366</td>\n",
       "      <td>-2.502369</td>\n",
       "      <td>two-component sensor histidine kinase</td>\n",
       "      <td>cce_2366</td>\n",
       "      <td>0.000000</td>\n",
       "    </tr>\n",
       "    <tr>\n",
       "      <td>3552</td>\n",
       "      <td>cce_0969</td>\n",
       "      <td>-2.490431</td>\n",
       "      <td>two-component sensor histidine kinase</td>\n",
       "      <td>cce_0969</td>\n",
       "      <td>0.527781</td>\n",
       "    </tr>\n",
       "    <tr>\n",
       "      <td>227</td>\n",
       "      <td>cce_0257</td>\n",
       "      <td>-2.109204</td>\n",
       "      <td>two-component sensor histidine kinase</td>\n",
       "      <td>cce_0257</td>\n",
       "      <td>0.461246</td>\n",
       "    </tr>\n",
       "    <tr>\n",
       "      <td>857</td>\n",
       "      <td>cce_1737</td>\n",
       "      <td>-1.732493</td>\n",
       "      <td>two-component sensor histidine kinase</td>\n",
       "      <td>cce_1737</td>\n",
       "      <td>0.203707</td>\n",
       "    </tr>\n",
       "    <tr>\n",
       "      <td>3629</td>\n",
       "      <td>cce_2624</td>\n",
       "      <td>-1.644243</td>\n",
       "      <td>CheA-like two-component hybrid sensor and regu...</td>\n",
       "      <td>cce_2624</td>\n",
       "      <td>0.169114</td>\n",
       "    </tr>\n",
       "    <tr>\n",
       "      <td>2187</td>\n",
       "      <td>cce_3937</td>\n",
       "      <td>-1.525176</td>\n",
       "      <td>two-component hybrid sensor and regulator</td>\n",
       "      <td>cce_3937</td>\n",
       "      <td>0.097685</td>\n",
       "    </tr>\n",
       "    <tr>\n",
       "      <td>137</td>\n",
       "      <td>cce_1186</td>\n",
       "      <td>-1.380433</td>\n",
       "      <td>two-component hybrid sensor and regulator</td>\n",
       "      <td>cce_1186</td>\n",
       "      <td>0.525433</td>\n",
       "    </tr>\n",
       "    <tr>\n",
       "      <td>4058</td>\n",
       "      <td>cce_1535</td>\n",
       "      <td>-1.377125</td>\n",
       "      <td>two-component sensor histidine kinase</td>\n",
       "      <td>cce_1535</td>\n",
       "      <td>0.153935</td>\n",
       "    </tr>\n",
       "    <tr>\n",
       "      <td>601</td>\n",
       "      <td>cce_4426</td>\n",
       "      <td>-1.184739</td>\n",
       "      <td>two-component sensor histidine kinase</td>\n",
       "      <td>cce_4426</td>\n",
       "      <td>0.610750</td>\n",
       "    </tr>\n",
       "    <tr>\n",
       "      <td>434</td>\n",
       "      <td>cce_2509</td>\n",
       "      <td>-1.084254</td>\n",
       "      <td>two-component hybrid sensor and regulator</td>\n",
       "      <td>cce_2509</td>\n",
       "      <td>0.255988</td>\n",
       "    </tr>\n",
       "  </tbody>\n",
       "</table>\n",
       "</div>"
      ],
      "text/plain": [
       "           orf  fold_change  \\\n",
       "3487  cce_4195    -3.629378   \n",
       "106   cce_2366    -2.502369   \n",
       "3552  cce_0969    -2.490431   \n",
       "227   cce_0257    -2.109204   \n",
       "857   cce_1737    -1.732493   \n",
       "3629  cce_2624    -1.644243   \n",
       "2187  cce_3937    -1.525176   \n",
       "137   cce_1186    -1.380433   \n",
       "4058  cce_1535    -1.377125   \n",
       "601   cce_4426    -1.184739   \n",
       "434   cce_2509    -1.084254   \n",
       "\n",
       "                                               function CommonName        mi  \n",
       "3487  CheY-like two-component hybrid sensor and regu...   cce_4195  0.162169  \n",
       "106               two-component sensor histidine kinase   cce_2366  0.000000  \n",
       "3552              two-component sensor histidine kinase   cce_0969  0.527781  \n",
       "227               two-component sensor histidine kinase   cce_0257  0.461246  \n",
       "857               two-component sensor histidine kinase   cce_1737  0.203707  \n",
       "3629  CheA-like two-component hybrid sensor and regu...   cce_2624  0.169114  \n",
       "2187          two-component hybrid sensor and regulator   cce_3937  0.097685  \n",
       "137           two-component hybrid sensor and regulator   cce_1186  0.525433  \n",
       "4058              two-component sensor histidine kinase   cce_1535  0.153935  \n",
       "601               two-component sensor histidine kinase   cce_4426  0.610750  \n",
       "434           two-component hybrid sensor and regulator   cce_2509  0.255988  "
      ]
     },
     "execution_count": 55,
     "metadata": {},
     "output_type": "execute_result"
    }
   ],
   "source": [
    "add_table_function(get_sensors(nifH_info,direction='negative'))\n",
    "get_sensors(nifH_info,direction='negative')"
   ]
  },
  {
   "cell_type": "markdown",
   "metadata": {},
   "source": [
    "### Induced"
   ]
  },
  {
   "cell_type": "code",
   "execution_count": 56,
   "metadata": {},
   "outputs": [
    {
     "data": {
      "text/plain": [
       "<docx.text.paragraph.Paragraph at 0x1a212b3350>"
      ]
     },
     "execution_count": 56,
     "metadata": {},
     "output_type": "execute_result"
    }
   ],
   "source": [
    "doc.add_heading('Induced',3)"
   ]
  },
  {
   "cell_type": "code",
   "execution_count": 57,
   "metadata": {},
   "outputs": [
    {
     "data": {
      "text/html": [
       "<div>\n",
       "<style scoped>\n",
       "    .dataframe tbody tr th:only-of-type {\n",
       "        vertical-align: middle;\n",
       "    }\n",
       "\n",
       "    .dataframe tbody tr th {\n",
       "        vertical-align: top;\n",
       "    }\n",
       "\n",
       "    .dataframe thead th {\n",
       "        text-align: right;\n",
       "    }\n",
       "</style>\n",
       "<table border=\"1\" class=\"dataframe\">\n",
       "  <thead>\n",
       "    <tr style=\"text-align: right;\">\n",
       "      <th></th>\n",
       "      <th>orf</th>\n",
       "      <th>fold_change</th>\n",
       "      <th>function</th>\n",
       "      <th>CommonName</th>\n",
       "      <th>mi</th>\n",
       "    </tr>\n",
       "  </thead>\n",
       "  <tbody>\n",
       "    <tr>\n",
       "      <td>3999</td>\n",
       "      <td>cce_1983</td>\n",
       "      <td>4.742154</td>\n",
       "      <td>probable phytochrome A, two-component sensor p...</td>\n",
       "      <td>aphA</td>\n",
       "      <td>0.144580</td>\n",
       "    </tr>\n",
       "    <tr>\n",
       "      <td>1338</td>\n",
       "      <td>cce_1982</td>\n",
       "      <td>3.894370</td>\n",
       "      <td>CheY-like two-component hybrid sensor and regu...</td>\n",
       "      <td>cce_1982</td>\n",
       "      <td>0.329401</td>\n",
       "    </tr>\n",
       "    <tr>\n",
       "      <td>4657</td>\n",
       "      <td>cce_0220</td>\n",
       "      <td>3.128532</td>\n",
       "      <td>two-component sensor histidine kinase</td>\n",
       "      <td>cce_0220</td>\n",
       "      <td>0.171861</td>\n",
       "    </tr>\n",
       "    <tr>\n",
       "      <td>1978</td>\n",
       "      <td>cce_1694</td>\n",
       "      <td>2.188686</td>\n",
       "      <td>two component sensor histidine kinase</td>\n",
       "      <td>cce_1694</td>\n",
       "      <td>0.127913</td>\n",
       "    </tr>\n",
       "    <tr>\n",
       "      <td>2126</td>\n",
       "      <td>cce_1878</td>\n",
       "      <td>2.076519</td>\n",
       "      <td>two-component sensor histidine kinase</td>\n",
       "      <td>cce_1878</td>\n",
       "      <td>0.000000</td>\n",
       "    </tr>\n",
       "    <tr>\n",
       "      <td>3648</td>\n",
       "      <td>cce_1848</td>\n",
       "      <td>1.389880</td>\n",
       "      <td>probable two-component sensor histidine kinase</td>\n",
       "      <td>cce_1848</td>\n",
       "      <td>0.282774</td>\n",
       "    </tr>\n",
       "  </tbody>\n",
       "</table>\n",
       "</div>"
      ],
      "text/plain": [
       "           orf  fold_change  \\\n",
       "3999  cce_1983     4.742154   \n",
       "1338  cce_1982     3.894370   \n",
       "4657  cce_0220     3.128532   \n",
       "1978  cce_1694     2.188686   \n",
       "2126  cce_1878     2.076519   \n",
       "3648  cce_1848     1.389880   \n",
       "\n",
       "                                               function CommonName        mi  \n",
       "3999  probable phytochrome A, two-component sensor p...       aphA  0.144580  \n",
       "1338  CheY-like two-component hybrid sensor and regu...   cce_1982  0.329401  \n",
       "4657              two-component sensor histidine kinase   cce_0220  0.171861  \n",
       "1978              two component sensor histidine kinase   cce_1694  0.127913  \n",
       "2126              two-component sensor histidine kinase   cce_1878  0.000000  \n",
       "3648     probable two-component sensor histidine kinase   cce_1848  0.282774  "
      ]
     },
     "execution_count": 57,
     "metadata": {},
     "output_type": "execute_result"
    }
   ],
   "source": [
    "add_table_function(get_sensors(nifH_info,direction='positive'))\n",
    "get_sensors(nifH_info,direction='positive')"
   ]
  },
  {
   "cell_type": "code",
   "execution_count": 58,
   "metadata": {},
   "outputs": [],
   "source": [
    "doc.save('patB_nifH_Conclusion.docx')"
   ]
  }
 ],
 "metadata": {
  "kernelspec": {
   "display_name": "Python 3",
   "language": "python",
   "name": "python3"
  },
  "language_info": {
   "codemirror_mode": {
    "name": "ipython",
    "version": 3
   },
   "file_extension": ".py",
   "mimetype": "text/x-python",
   "name": "python",
   "nbconvert_exporter": "python",
   "pygments_lexer": "ipython3",
   "version": "3.7.4"
  }
 },
 "nbformat": 4,
 "nbformat_minor": 2
}
