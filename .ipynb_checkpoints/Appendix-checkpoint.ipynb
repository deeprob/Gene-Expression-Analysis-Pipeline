{
 "cells": [
  {
   "cell_type": "markdown",
   "metadata": {},
   "source": [
    "# Appendix A"
   ]
  },
  {
   "cell_type": "code",
   "execution_count": 9,
   "metadata": {},
   "outputs": [],
   "source": [
    "import docx as dc"
   ]
  },
  {
   "cell_type": "code",
   "execution_count": 10,
   "metadata": {},
   "outputs": [
    {
     "data": {
      "text/plain": [
       "<docx.text.paragraph.Paragraph at 0x10c35d7d0>"
      ]
     },
     "execution_count": 10,
     "metadata": {},
     "output_type": "execute_result"
    }
   ],
   "source": [
    "doc = dc.Document('Report.docx')\n",
    "doc.add_heading('Appendix A',1)\n",
    "\n",
    "doc.add_paragraph('The following table lists the E-values obtained by running a BLAST search of some circadian \\\n",
    "clock module components of S.elongatus and maps them to Cyanothece genes. It is obtained from the work of Vinh et. al.')\n",
    "\n",
    "table = doc.add_table(rows=1,cols=4)\n",
    "\n",
    "hdr_cells = table.rows[0].cells\n",
    "hdr_cells[0].text = 'Synechococcus'\n",
    "hdr_cells[1].text = 'Cyanothece'\n",
    "hdr_cells[2].text = 'E-Value'\n",
    "hdr_cells[3].text = 'Cyanothece homolog description'\n",
    "\n",
    "cikA_table_rows = [('CikA','cce_4751','1e-129','two-component hybrid sensor and regulator'),\n",
    "                   ('','cce_4289','7e-67','two-component hybrid sensor and regulator'),\n",
    "                   ('','cce_1138','2e-59','two-component hybrid sensor and regulator'),\n",
    "                   ('','cce_0164','1e-52','two-component sensor histidine kinase'),\n",
    "                   ('','cce_0220','4e-52','two-component sensor histidine kinase'),\n",
    "                   ('','cce_2232','3e-46','two-component sensor histidine kinase'),\n",
    "                   ('','cce_1185','7e-46','two-component hybrid sensor and regulator')]\n",
    "\n",
    "sasA_table_rows = [('SasA','cce_1751','9e-81','adaptive-response sensory histidine kinase'),\n",
    "                   ('','cce_2546','3e-27','two-component sensor histidine kinase'),\n",
    "                   ('','cce_0888','4e-25','two-component sensor histidine kinase')]\n",
    "\n",
    "\n",
    "for sg,cg,e_val,func in cikA_table_rows:\n",
    "    row_cells = table.add_row().cells\n",
    "    row_cells[0].text = sg\n",
    "    row_cells[1].text = cg\n",
    "    row_cells[2].text = e_val\n",
    "    row_cells[3].text = func\n",
    "    \n",
    "for sg,cg,e_val,func in sasA_table_rows:\n",
    "    row_cells = table.add_row().cells\n",
    "    row_cells[0].text = sg\n",
    "    row_cells[1].text = cg\n",
    "    row_cells[2].text = e_val\n",
    "    row_cells[3].text = func\n",
    "\n",
    "doc.add_page_break()"
   ]
  },
  {
   "cell_type": "markdown",
   "metadata": {},
   "source": [
    "# Appendix B "
   ]
  },
  {
   "cell_type": "code",
   "execution_count": 15,
   "metadata": {},
   "outputs": [
    {
     "data": {
      "text/plain": [
       "<docx.text.paragraph.Paragraph at 0x10b6d4850>"
      ]
     },
     "execution_count": 15,
     "metadata": {},
     "output_type": "execute_result"
    }
   ],
   "source": [
    "doc = dc.Document('Report_to_be_edited.docx')\n",
    "doc.add_page_break()"
   ]
  },
  {
   "cell_type": "code",
   "execution_count": 16,
   "metadata": {},
   "outputs": [],
   "source": [
    "doc.add_heading('Appendix B',1)\n",
    "doc.add_heading('Stockel Dataset',2)\n",
    "doc.save('Report_to_be_edited.docx')   "
   ]
  },
  {
   "cell_type": "code",
   "execution_count": 17,
   "metadata": {},
   "outputs": [],
   "source": [
    "doc = dc.Document('Report_to_be_edited.docx')\n",
    "doc.add_heading('Toepel Dataset',2)\n",
    "doc.save('Report_to_be_edited.docx')   "
   ]
  },
  {
   "cell_type": "markdown",
   "metadata": {},
   "source": [
    "# Appendix C"
   ]
  },
  {
   "cell_type": "code",
   "execution_count": 18,
   "metadata": {},
   "outputs": [],
   "source": [
    "from docx.shared import Inches"
   ]
  },
  {
   "cell_type": "code",
   "execution_count": 19,
   "metadata": {},
   "outputs": [],
   "source": [
    "doc = dc.Document('Report_to_be_edited.docx')\n",
    "doc.add_page_break()\n",
    "doc.add_heading('Appendix C',1)\n",
    "doc.add_heading('Stockel Dataset',2)\n",
    "doc.add_picture('Report_images/Stockel_Pearson_Matrix.png',width=Inches(7.25))\n",
    "\n",
    "doc.add_heading('Toepel Dataset',2)\n",
    "doc.add_picture('Report_images/Toepel_Pearson_Matrix.png',width=Inches(7.25))\n",
    "\n",
    "doc.save('Report_to_be_edited.docx') "
   ]
  }
 ],
 "metadata": {
  "kernelspec": {
   "display_name": "Python 3",
   "language": "python",
   "name": "python3"
  },
  "language_info": {
   "codemirror_mode": {
    "name": "ipython",
    "version": 3
   },
   "file_extension": ".py",
   "mimetype": "text/x-python",
   "name": "python",
   "nbconvert_exporter": "python",
   "pygments_lexer": "ipython3",
   "version": "3.7.4"
  }
 },
 "nbformat": 4,
 "nbformat_minor": 2
}
