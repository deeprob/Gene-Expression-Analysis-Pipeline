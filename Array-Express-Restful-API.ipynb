{
 "cells": [
  {
   "cell_type": "markdown",
   "metadata": {},
   "source": [
    "# Array Express Programming Access\n",
    "\n",
    "Uses the method listed in their website. \n",
    "\n",
    "Ref: https://www.ebi.ac.uk/arrayexpress/help/programmatic_access.html"
   ]
  },
  {
   "cell_type": "code",
   "execution_count": 1,
   "metadata": {},
   "outputs": [],
   "source": [
    "import requests\n",
    "from zipfile import ZipFile\n",
    "from io import BytesIO\n",
    "import urllib"
   ]
  },
  {
   "cell_type": "markdown",
   "metadata": {},
   "source": [
    "# Get a list of files along with their url for a given accession number of an experiment in the Array Express database"
   ]
  },
  {
   "cell_type": "code",
   "execution_count": 2,
   "metadata": {},
   "outputs": [],
   "source": [
    "def getResponse(accession_num):\n",
    "    '''This function returns the list of available files and their urls given an accession_number\n",
    "       Input: The Array Express accession number of the experiment\n",
    "       Output: A list of files available for download along with their url \n",
    "       Input type: str\n",
    "       Output type: list of tuples'''\n",
    "    \n",
    "    base_url = 'https://www.ebi.ac.uk/arrayexpress/json/v3/experiments/{}/files/'\n",
    "    url = base_url.format(accession_num)\n",
    "    response = requests.get(url)\n",
    "    if response.status_code!= 200:\n",
    "        return \"Bad Response\"\n",
    "    \n",
    "    jdict = response.json()\n",
    "\n",
    "    if jdict['files']['total-experiments']>1:\n",
    "        exp_dict = {}\n",
    "        for num_experiment in range(jdict['files']['total-experiments']):\n",
    "            experiment_dict = jdict['files']['experiment'][num_experiment]\n",
    "            exp_dict[experiment_dict['accession']] = [(fdict['name'],fdict['url']) for fdict in experiment_dict['file']]\n",
    "        return exp_dict\n",
    "    \n",
    "    experiment_dict = jdict['files']['experiment']\n",
    "    list_of_files = [(fdict['name'],fdict['url']) for fdict in experiment_dict['file']]\n",
    "    return list_of_files\n",
    "\n",
    "    \n",
    "files = getResponse('E-TABM-337')"
   ]
  },
  {
   "cell_type": "markdown",
   "metadata": {},
   "source": [
    "# View the filenames"
   ]
  },
  {
   "cell_type": "code",
   "execution_count": 3,
   "metadata": {},
   "outputs": [
    {
     "data": {
      "text/plain": [
       "[('E-TABM-337.eSet.r',\n",
       "  'https://www.ebi.ac.uk/arrayexpress/files/E-TABM-337/E-TABM-337.eSet.r'),\n",
       " ('E-TABM-337.idf.txt',\n",
       "  'https://www.ebi.ac.uk/arrayexpress/files/E-TABM-337/E-TABM-337.idf.txt'),\n",
       " ('E-TABM-337.idf.txt_original',\n",
       "  'https://www.ebi.ac.uk/arrayexpress/files/E-TABM-337/E-TABM-337.idf.txt_original'),\n",
       " ('E-TABM-337.processed.1.zip',\n",
       "  'https://www.ebi.ac.uk/arrayexpress/files/E-TABM-337/E-TABM-337.processed.1.zip'),\n",
       " ('E-TABM-337.raw.1.zip',\n",
       "  'https://www.ebi.ac.uk/arrayexpress/files/E-TABM-337/E-TABM-337.raw.1.zip'),\n",
       " ('E-TABM-337.raw.2.zip',\n",
       "  'https://www.ebi.ac.uk/arrayexpress/files/E-TABM-337/E-TABM-337.raw.2.zip'),\n",
       " ('E-TABM-337.README.txt',\n",
       "  'https://www.ebi.ac.uk/arrayexpress/files/E-TABM-337/E-TABM-337.README.txt'),\n",
       " ('E-TABM-337.sdrf.txt',\n",
       "  'https://www.ebi.ac.uk/arrayexpress/files/E-TABM-337/E-TABM-337.sdrf.txt'),\n",
       " ('A-MEXP-864.adf.txt',\n",
       "  'https://www.ebi.ac.uk/arrayexpress/files/A-MEXP-864/A-MEXP-864.adf.txt'),\n",
       " ('A-MEXP-864.adf.xls',\n",
       "  'https://www.ebi.ac.uk/arrayexpress/files/A-MEXP-864/A-MEXP-864.adf.xls')]"
      ]
     },
     "execution_count": 3,
     "metadata": {},
     "output_type": "execute_result"
    }
   ],
   "source": [
    "files"
   ]
  },
  {
   "cell_type": "markdown",
   "metadata": {},
   "source": [
    "Here, we are mainly interested in E-TABM-337.processed.1.zip file. The following function shows how to download and extract a zip file from the arrayexpress server"
   ]
  },
  {
   "cell_type": "markdown",
   "metadata": {},
   "source": [
    "# Download and Extract Zip"
   ]
  },
  {
   "cell_type": "code",
   "execution_count": 4,
   "metadata": {},
   "outputs": [],
   "source": [
    "def extractZip(fileurl,output_file_path):\n",
    "    '''Given an input fileurl and an output_file_path, this function extracts a zipped file to that specific path'''\n",
    "    \n",
    "    request = requests.get(fileurl)\n",
    "    zipfile = ZipFile(BytesIO(request.content))\n",
    "    zipfile.extractall(output_file_path)\n",
    "    return\n",
    "\n",
    "extractZip(files[3][1],'ArrayExpressData/E-TABM-337')"
   ]
  },
  {
   "cell_type": "markdown",
   "metadata": {},
   "source": [
    "# Download a text file\n",
    "\n",
    "We are also interested in text files which are very common and contains important information. "
   ]
  },
  {
   "cell_type": "code",
   "execution_count": 5,
   "metadata": {},
   "outputs": [],
   "source": [
    "def downloadText(fileurl,output_file_path,output_file_name='myfile.txt'):\n",
    "    '''Given an input fileurl and an output_file_path, this function extracts a text file to that specific path'''\n",
    "    \n",
    "    urllib.request.urlretrieve(fileurl, output_file_path+output_file_name)\n",
    "    return\n",
    "\n",
    "file_url = 'https://www.ebi.ac.uk/arrayexpress/files/A-MEXP-864/A-MEXP-864.reporters.txt'\n",
    "\n",
    "downloadText(file_url,'ArrayExpressData/E-TABM-337/','Contig-ORF.txt')"
   ]
  },
  {
   "cell_type": "markdown",
   "metadata": {},
   "source": [
    "*Please note that the request call often does not list all the filenames that are available for a particular experiment and this is not related to pagination. The Api is not updated.*"
   ]
  }
 ],
 "metadata": {
  "kernelspec": {
   "display_name": "Python 3",
   "language": "python",
   "name": "python3"
  },
  "language_info": {
   "codemirror_mode": {
    "name": "ipython",
    "version": 3
   },
   "file_extension": ".py",
   "mimetype": "text/x-python",
   "name": "python",
   "nbconvert_exporter": "python",
   "pygments_lexer": "ipython3",
   "version": "3.7.4"
  }
 },
 "nbformat": 4,
 "nbformat_minor": 2
}
